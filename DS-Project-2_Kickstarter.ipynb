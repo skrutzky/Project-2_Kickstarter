{
 "cells": [
  {
   "cell_type": "markdown",
   "metadata": {},
   "source": [
    "# DS Project no. 2: Kickstarter data set  \n",
    "by Sandra Schwegmann & Marvin Lorenzen"
   ]
  },
  {
   "cell_type": "markdown",
   "metadata": {},
   "source": [
    "## Project Goal"
   ]
  },
  {
   "cell_type": "markdown",
   "metadata": {},
   "source": [
    "Buildung the scene:  \n",
    "We are a non-profit organization that helps people to find out **which probability they have to get funded** by kickstarters with their projects and what they **can do to improve their chances**."
   ]
  },
  {
   "cell_type": "markdown",
   "metadata": {},
   "source": [
    "## Data Describtion"
   ]
  },
  {
   "cell_type": "markdown",
   "metadata": {},
   "source": [
    "        backers_count:              number of supporters \n",
    "        blurb                       teaser sentence\n",
    "        category                    dictonary\n",
    "        converted_pledged_amount:   ?\n",
    "        country                     209222 non-null object\n",
    "        created_at                  209222 non-null int64\n",
    "        creator                     209222 non-null object\n",
    "        currency                    209222 non-null object\n",
    "        currency_symbol             209222 non-null object\n",
    "        currency_trailing_code      209222 non-null bool\n",
    "        current_currency            209222 non-null object\n",
    "        deadline                    209222 non-null int64\n",
    "        disable_communication       209222 non-null bool\n",
    "        friends                     300 non-null object\n",
    "        fx_rate                     209222 non-null float64\n",
    "        goal                        target sum\n",
    "        id                          209222 non-null int64\n",
    "        is_backing                  300 non-null object\n",
    "        is_starrable                ?\n",
    "        is_starred                  300 non-null object\n",
    "        launched_at                 209222 non-null int64\n",
    "        location                    208996 non-null object\n",
    "        name                        209222 non-null object\n",
    "        permissions                 300 non-null object\n",
    "        photo                       209222 non-null object\n",
    "        pledged                     promised money\n",
    "        profile                     209222 non-null object\n",
    "        slug                        ?\n",
    "        source_url                  209222 non-null object\n",
    "        spotlight                   use the spotlight-function, which is an integrated homepage\n",
    "        staff_pick                  tool to connect creators and backers\n",
    "        state                       status of the project\n",
    "        state_changed_at            209222 non-null int64\n",
    "        static_usd_rate             factor for conversion in USD\n",
    "        urls                        209222 non-null object\n",
    "        usd_pledged                 promised money in usd\n",
    "        usd_type                    208742 non-null object"
   ]
  },
  {
   "cell_type": "markdown",
   "metadata": {},
   "source": [
    "# Data Handling"
   ]
  },
  {
   "cell_type": "markdown",
   "metadata": {},
   "source": [
    "## Import packages"
   ]
  },
  {
   "cell_type": "code",
   "execution_count": 1,
   "metadata": {},
   "outputs": [],
   "source": [
    "import pandas as pd\n",
    "import glob\n",
    "import numpy as np\n",
    "import operator\n",
    "import seaborn as sns\n",
    "import matplotlib.pyplot as plt\n",
    "from numpy import median\n",
    "\n",
    "from sklearn.model_selection import train_test_split\n",
    "from sklearn.pipeline import Pipeline\n",
    "from sklearn.compose import ColumnTransformer\n",
    "from sklearn.preprocessing import OneHotEncoder, StandardScaler\n",
    "from sklearn.impute import SimpleImputer\n",
    "from sklearn.linear_model import LogisticRegression\n",
    "from sklearn.model_selection import cross_val_predict, cross_val_score, cross_validate\n",
    "from sklearn.metrics import roc_curve, confusion_matrix, accuracy_score, recall_score, precision_score\n",
    "from sklearn.metrics import classification_report, confusion_matrix\n",
    "from sklearn.ensemble import RandomForestClassifier\n",
    "from sklearn.tree import DecisionTreeClassifier\n",
    "from sklearn.svm import SVC\n",
    "from sklearn.ensemble import AdaBoostClassifier\n",
    "from sklearn.model_selection import GridSearchCV\n",
    "from sklearn.metrics import make_scorer \n",
    "from sklearn.base import clone\n",
    "import eli5\n",
    "\n",
    "%matplotlib inline\n",
    "plt.style.use('seaborn')\n",
    "sns.set(style=\"darkgrid\")\n",
    "\n",
    "# Set random seed \n",
    "RSEED = 42"
   ]
  },
  {
   "cell_type": "markdown",
   "metadata": {},
   "source": [
    "## Read in Data"
   ]
  },
  {
   "cell_type": "code",
   "execution_count": 2,
   "metadata": {},
   "outputs": [],
   "source": [
    "# Read in data: loop over all files\n",
    "path = '/Users/sandra/Documents/materials/Project-2_Kickstarter/data'\n",
    "filenames = glob.glob(path + \"/*.csv\")\n",
    "comlete_csv =[]\n",
    "\n",
    "for i in filenames:\n",
    "    comlete_csv.append(pd.read_csv(i,encoding='utf-8'))\n",
    "\n",
    "df = pd.concat(comlete_csv, ignore_index = True)\n"
   ]
  },
  {
   "cell_type": "code",
   "execution_count": 3,
   "metadata": {},
   "outputs": [
    {
     "name": "stdout",
     "output_type": "stream",
     "text": [
      "<class 'pandas.core.frame.DataFrame'>\n",
      "RangeIndex: 209222 entries, 0 to 209221\n",
      "Data columns (total 37 columns):\n",
      "backers_count               209222 non-null int64\n",
      "blurb                       209214 non-null object\n",
      "category                    209222 non-null object\n",
      "converted_pledged_amount    209222 non-null int64\n",
      "country                     209222 non-null object\n",
      "created_at                  209222 non-null int64\n",
      "creator                     209222 non-null object\n",
      "currency                    209222 non-null object\n",
      "currency_symbol             209222 non-null object\n",
      "currency_trailing_code      209222 non-null bool\n",
      "current_currency            209222 non-null object\n",
      "deadline                    209222 non-null int64\n",
      "disable_communication       209222 non-null bool\n",
      "friends                     300 non-null object\n",
      "fx_rate                     209222 non-null float64\n",
      "goal                        209222 non-null float64\n",
      "id                          209222 non-null int64\n",
      "is_backing                  300 non-null object\n",
      "is_starrable                209222 non-null bool\n",
      "is_starred                  300 non-null object\n",
      "launched_at                 209222 non-null int64\n",
      "location                    208996 non-null object\n",
      "name                        209222 non-null object\n",
      "permissions                 300 non-null object\n",
      "photo                       209222 non-null object\n",
      "pledged                     209222 non-null float64\n",
      "profile                     209222 non-null object\n",
      "slug                        209222 non-null object\n",
      "source_url                  209222 non-null object\n",
      "spotlight                   209222 non-null bool\n",
      "staff_pick                  209222 non-null bool\n",
      "state                       209222 non-null object\n",
      "state_changed_at            209222 non-null int64\n",
      "static_usd_rate             209222 non-null float64\n",
      "urls                        209222 non-null object\n",
      "usd_pledged                 209222 non-null float64\n",
      "usd_type                    208742 non-null object\n",
      "dtypes: bool(5), float64(5), int64(7), object(20)\n",
      "memory usage: 52.1+ MB\n"
     ]
    }
   ],
   "source": [
    "df.info()"
   ]
  },
  {
   "cell_type": "code",
   "execution_count": 4,
   "metadata": {},
   "outputs": [
    {
     "data": {
      "text/html": [
       "<div>\n",
       "<style scoped>\n",
       "    .dataframe tbody tr th:only-of-type {\n",
       "        vertical-align: middle;\n",
       "    }\n",
       "\n",
       "    .dataframe tbody tr th {\n",
       "        vertical-align: top;\n",
       "    }\n",
       "\n",
       "    .dataframe thead th {\n",
       "        text-align: right;\n",
       "    }\n",
       "</style>\n",
       "<table border=\"1\" class=\"dataframe\">\n",
       "  <thead>\n",
       "    <tr style=\"text-align: right;\">\n",
       "      <th></th>\n",
       "      <th>backers_count</th>\n",
       "      <th>blurb</th>\n",
       "      <th>category</th>\n",
       "      <th>converted_pledged_amount</th>\n",
       "      <th>country</th>\n",
       "      <th>created_at</th>\n",
       "      <th>creator</th>\n",
       "      <th>currency</th>\n",
       "      <th>currency_symbol</th>\n",
       "      <th>currency_trailing_code</th>\n",
       "      <th>...</th>\n",
       "      <th>slug</th>\n",
       "      <th>source_url</th>\n",
       "      <th>spotlight</th>\n",
       "      <th>staff_pick</th>\n",
       "      <th>state</th>\n",
       "      <th>state_changed_at</th>\n",
       "      <th>static_usd_rate</th>\n",
       "      <th>urls</th>\n",
       "      <th>usd_pledged</th>\n",
       "      <th>usd_type</th>\n",
       "    </tr>\n",
       "  </thead>\n",
       "  <tbody>\n",
       "    <tr>\n",
       "      <th>0</th>\n",
       "      <td>315</td>\n",
       "      <td>Babalus Shoes</td>\n",
       "      <td>{\"id\":266,\"name\":\"Footwear\",\"slug\":\"fashion/fo...</td>\n",
       "      <td>28645</td>\n",
       "      <td>US</td>\n",
       "      <td>1541459205</td>\n",
       "      <td>{\"id\":2094277840,\"name\":\"Lucy Conroy\",\"slug\":\"...</td>\n",
       "      <td>USD</td>\n",
       "      <td>$</td>\n",
       "      <td>True</td>\n",
       "      <td>...</td>\n",
       "      <td>babalus-childrens-shoes</td>\n",
       "      <td>https://www.kickstarter.com/discover/categorie...</td>\n",
       "      <td>False</td>\n",
       "      <td>False</td>\n",
       "      <td>live</td>\n",
       "      <td>1548223375</td>\n",
       "      <td>1.0</td>\n",
       "      <td>{\"web\":{\"project\":\"https://www.kickstarter.com...</td>\n",
       "      <td>28645.0</td>\n",
       "      <td>international</td>\n",
       "    </tr>\n",
       "    <tr>\n",
       "      <th>1</th>\n",
       "      <td>47</td>\n",
       "      <td>A colorful Dia de los Muertos themed oracle de...</td>\n",
       "      <td>{\"id\":273,\"name\":\"Playing Cards\",\"slug\":\"games...</td>\n",
       "      <td>1950</td>\n",
       "      <td>US</td>\n",
       "      <td>1501684093</td>\n",
       "      <td>{\"id\":723886115,\"name\":\"Lisa Vollrath\",\"slug\":...</td>\n",
       "      <td>USD</td>\n",
       "      <td>$</td>\n",
       "      <td>True</td>\n",
       "      <td>...</td>\n",
       "      <td>the-ofrenda-oracle-deck</td>\n",
       "      <td>https://www.kickstarter.com/discover/categorie...</td>\n",
       "      <td>True</td>\n",
       "      <td>False</td>\n",
       "      <td>successful</td>\n",
       "      <td>1504976459</td>\n",
       "      <td>1.0</td>\n",
       "      <td>{\"web\":{\"project\":\"https://www.kickstarter.com...</td>\n",
       "      <td>1950.0</td>\n",
       "      <td>domestic</td>\n",
       "    </tr>\n",
       "  </tbody>\n",
       "</table>\n",
       "<p>2 rows × 37 columns</p>\n",
       "</div>"
      ],
      "text/plain": [
       "   backers_count                                              blurb  \\\n",
       "0            315                                      Babalus Shoes   \n",
       "1             47  A colorful Dia de los Muertos themed oracle de...   \n",
       "\n",
       "                                            category  \\\n",
       "0  {\"id\":266,\"name\":\"Footwear\",\"slug\":\"fashion/fo...   \n",
       "1  {\"id\":273,\"name\":\"Playing Cards\",\"slug\":\"games...   \n",
       "\n",
       "   converted_pledged_amount country  created_at  \\\n",
       "0                     28645      US  1541459205   \n",
       "1                      1950      US  1501684093   \n",
       "\n",
       "                                             creator currency currency_symbol  \\\n",
       "0  {\"id\":2094277840,\"name\":\"Lucy Conroy\",\"slug\":\"...      USD               $   \n",
       "1  {\"id\":723886115,\"name\":\"Lisa Vollrath\",\"slug\":...      USD               $   \n",
       "\n",
       "   currency_trailing_code  ...                     slug  \\\n",
       "0                    True  ...  babalus-childrens-shoes   \n",
       "1                    True  ...  the-ofrenda-oracle-deck   \n",
       "\n",
       "                                          source_url  spotlight staff_pick  \\\n",
       "0  https://www.kickstarter.com/discover/categorie...      False      False   \n",
       "1  https://www.kickstarter.com/discover/categorie...       True      False   \n",
       "\n",
       "        state  state_changed_at  static_usd_rate  \\\n",
       "0        live        1548223375              1.0   \n",
       "1  successful        1504976459              1.0   \n",
       "\n",
       "                                                urls  usd_pledged  \\\n",
       "0  {\"web\":{\"project\":\"https://www.kickstarter.com...      28645.0   \n",
       "1  {\"web\":{\"project\":\"https://www.kickstarter.com...       1950.0   \n",
       "\n",
       "        usd_type  \n",
       "0  international  \n",
       "1       domestic  \n",
       "\n",
       "[2 rows x 37 columns]"
      ]
     },
     "execution_count": 4,
     "metadata": {},
     "output_type": "execute_result"
    }
   ],
   "source": [
    "df.head(2)"
   ]
  },
  {
   "cell_type": "markdown",
   "metadata": {},
   "source": [
    "* data like dictonaries: \n",
    "    * category\n",
    "    * creator\n",
    "    * location\n",
    "    * photo\n",
    "    * profile\n",
    "* photo will be dropped, other stay at the moment\n",
    "* other object variables:\n",
    "    * friends    - nothing in friends - dropped\n",
    "    * is_backing - False\n",
    "    * is_starred - False\n",
    "    * permission - nothing in friends - dropped\n",
    "* also drop source_url and urls"
   ]
  },
  {
   "cell_type": "markdown",
   "metadata": {},
   "source": [
    "## Data cleaning"
   ]
  },
  {
   "cell_type": "code",
   "execution_count": 5,
   "metadata": {},
   "outputs": [],
   "source": [
    "#drop first columns\n",
    "df.drop(['photo','friends','permissions','currency_symbol',\\\n",
    "             'source_url','urls'],axis=1, inplace=True)"
   ]
  },
  {
   "cell_type": "markdown",
   "metadata": {},
   "source": [
    "### Clean null, false etc"
   ]
  },
  {
   "cell_type": "code",
   "execution_count": 6,
   "metadata": {},
   "outputs": [],
   "source": [
    "# clean data from empty spaces, line breaks, etc.\n",
    "dict_list1 = ['location','profile','creator']\n",
    "for names in dict_list1:\n",
    "    df[names] = df[names].str.replace(':null,',':None,')\n",
    "    df[names] = df[names].str.replace(':false,',':False,')\n",
    "    df[names] = df[names].str.replace(':true',':True')\n",
    "    df[names] = df[names].str.replace('\\n', '')\n",
    "    df[names] = df[names].str.replace('\\t', '')\n",
    "    "
   ]
  },
  {
   "cell_type": "markdown",
   "metadata": {},
   "source": [
    "* test which projects are still active\n",
    "* test whether currency is always USD\n",
    "* create a new variable project length and length per 100USD (or so)"
   ]
  },
  {
   "cell_type": "code",
   "execution_count": 7,
   "metadata": {},
   "outputs": [
    {
     "name": "stdout",
     "output_type": "stream",
     "text": [
      "(209222, 31)\n"
     ]
    },
    {
     "data": {
      "text/plain": [
       "7311"
      ]
     },
     "execution_count": 7,
     "metadata": {},
     "output_type": "execute_result"
    }
   ],
   "source": [
    "print(df.shape)\n",
    "len(df.state[df.state == 'live'])"
   ]
  },
  {
   "cell_type": "markdown",
   "metadata": {},
   "source": [
    "### Proof goal currency"
   ]
  },
  {
   "cell_type": "code",
   "execution_count": 8,
   "metadata": {},
   "outputs": [
    {
     "name": "stderr",
     "output_type": "stream",
     "text": [
      "/Users/sandra/opt/anaconda3/envs/nf/lib/python3.6/site-packages/ipykernel_launcher.py:2: UserWarning: Boolean Series key will be reindexed to match DataFrame index.\n",
      "  \n"
     ]
    },
    {
     "data": {
      "text/html": [
       "<div>\n",
       "<style scoped>\n",
       "    .dataframe tbody tr th:only-of-type {\n",
       "        vertical-align: middle;\n",
       "    }\n",
       "\n",
       "    .dataframe tbody tr th {\n",
       "        vertical-align: top;\n",
       "    }\n",
       "\n",
       "    .dataframe thead th {\n",
       "        text-align: right;\n",
       "    }\n",
       "</style>\n",
       "<table border=\"1\" class=\"dataframe\">\n",
       "  <thead>\n",
       "    <tr style=\"text-align: right;\">\n",
       "      <th></th>\n",
       "      <th>goal</th>\n",
       "      <th>usd_pledged</th>\n",
       "      <th>pledged</th>\n",
       "    </tr>\n",
       "  </thead>\n",
       "  <tbody>\n",
       "    <tr>\n",
       "      <th>8</th>\n",
       "      <td>375.0</td>\n",
       "      <td>529.786729</td>\n",
       "      <td>375.00</td>\n",
       "    </tr>\n",
       "    <tr>\n",
       "      <th>9</th>\n",
       "      <td>380.0</td>\n",
       "      <td>2516.160602</td>\n",
       "      <td>1954.00</td>\n",
       "    </tr>\n",
       "    <tr>\n",
       "      <th>16</th>\n",
       "      <td>4200.0</td>\n",
       "      <td>4701.023782</td>\n",
       "      <td>4230.00</td>\n",
       "    </tr>\n",
       "    <tr>\n",
       "      <th>17</th>\n",
       "      <td>15000.0</td>\n",
       "      <td>15328.270782</td>\n",
       "      <td>20169.00</td>\n",
       "    </tr>\n",
       "    <tr>\n",
       "      <th>22</th>\n",
       "      <td>1000.0</td>\n",
       "      <td>702.613237</td>\n",
       "      <td>1015.00</td>\n",
       "    </tr>\n",
       "    <tr>\n",
       "      <th>25</th>\n",
       "      <td>2000.0</td>\n",
       "      <td>2861.258251</td>\n",
       "      <td>2199.00</td>\n",
       "    </tr>\n",
       "    <tr>\n",
       "      <th>29</th>\n",
       "      <td>350.0</td>\n",
       "      <td>435.427090</td>\n",
       "      <td>376.00</td>\n",
       "    </tr>\n",
       "    <tr>\n",
       "      <th>32</th>\n",
       "      <td>11000.0</td>\n",
       "      <td>14580.639568</td>\n",
       "      <td>11784.00</td>\n",
       "    </tr>\n",
       "    <tr>\n",
       "      <th>34</th>\n",
       "      <td>2000.0</td>\n",
       "      <td>3196.518202</td>\n",
       "      <td>2055.00</td>\n",
       "    </tr>\n",
       "    <tr>\n",
       "      <th>35</th>\n",
       "      <td>1800.0</td>\n",
       "      <td>1325.061424</td>\n",
       "      <td>1838.32</td>\n",
       "    </tr>\n",
       "    <tr>\n",
       "      <th>49</th>\n",
       "      <td>500.0</td>\n",
       "      <td>792.348709</td>\n",
       "      <td>510.00</td>\n",
       "    </tr>\n",
       "    <tr>\n",
       "      <th>52</th>\n",
       "      <td>600.0</td>\n",
       "      <td>1511.243840</td>\n",
       "      <td>1169.00</td>\n",
       "    </tr>\n",
       "    <tr>\n",
       "      <th>62</th>\n",
       "      <td>400.0</td>\n",
       "      <td>827.033316</td>\n",
       "      <td>496.00</td>\n",
       "    </tr>\n",
       "    <tr>\n",
       "      <th>64</th>\n",
       "      <td>500.0</td>\n",
       "      <td>614.321602</td>\n",
       "      <td>505.00</td>\n",
       "    </tr>\n",
       "    <tr>\n",
       "      <th>67</th>\n",
       "      <td>200.0</td>\n",
       "      <td>358.983180</td>\n",
       "      <td>240.00</td>\n",
       "    </tr>\n",
       "    <tr>\n",
       "      <th>69</th>\n",
       "      <td>2500.0</td>\n",
       "      <td>3876.404347</td>\n",
       "      <td>3002.50</td>\n",
       "    </tr>\n",
       "    <tr>\n",
       "      <th>70</th>\n",
       "      <td>200.0</td>\n",
       "      <td>278.971155</td>\n",
       "      <td>250.00</td>\n",
       "    </tr>\n",
       "    <tr>\n",
       "      <th>80</th>\n",
       "      <td>300.0</td>\n",
       "      <td>847.568017</td>\n",
       "      <td>550.47</td>\n",
       "    </tr>\n",
       "    <tr>\n",
       "      <th>85</th>\n",
       "      <td>250.0</td>\n",
       "      <td>599.304179</td>\n",
       "      <td>457.00</td>\n",
       "    </tr>\n",
       "    <tr>\n",
       "      <th>87</th>\n",
       "      <td>6000.0</td>\n",
       "      <td>8779.299592</td>\n",
       "      <td>7552.77</td>\n",
       "    </tr>\n",
       "    <tr>\n",
       "      <th>98</th>\n",
       "      <td>35000.0</td>\n",
       "      <td>35360.478929</td>\n",
       "      <td>45681.92</td>\n",
       "    </tr>\n",
       "    <tr>\n",
       "      <th>116</th>\n",
       "      <td>4500.0</td>\n",
       "      <td>3720.717120</td>\n",
       "      <td>5051.00</td>\n",
       "    </tr>\n",
       "    <tr>\n",
       "      <th>127</th>\n",
       "      <td>50000.0</td>\n",
       "      <td>2609.093455</td>\n",
       "      <td>50978.80</td>\n",
       "    </tr>\n",
       "    <tr>\n",
       "      <th>129</th>\n",
       "      <td>70000.0</td>\n",
       "      <td>8741.655733</td>\n",
       "      <td>71620.00</td>\n",
       "    </tr>\n",
       "    <tr>\n",
       "      <th>133</th>\n",
       "      <td>10000.0</td>\n",
       "      <td>11272.547885</td>\n",
       "      <td>10100.00</td>\n",
       "    </tr>\n",
       "    <tr>\n",
       "      <th>136</th>\n",
       "      <td>1500.0</td>\n",
       "      <td>1892.203536</td>\n",
       "      <td>1600.00</td>\n",
       "    </tr>\n",
       "    <tr>\n",
       "      <th>137</th>\n",
       "      <td>2000.0</td>\n",
       "      <td>1561.838893</td>\n",
       "      <td>2045.00</td>\n",
       "    </tr>\n",
       "    <tr>\n",
       "      <th>141</th>\n",
       "      <td>50000.0</td>\n",
       "      <td>6255.189896</td>\n",
       "      <td>52600.00</td>\n",
       "    </tr>\n",
       "    <tr>\n",
       "      <th>142</th>\n",
       "      <td>250000.0</td>\n",
       "      <td>33655.142579</td>\n",
       "      <td>301940.31</td>\n",
       "    </tr>\n",
       "    <tr>\n",
       "      <th>144</th>\n",
       "      <td>4000.0</td>\n",
       "      <td>5305.968550</td>\n",
       "      <td>4137.00</td>\n",
       "    </tr>\n",
       "    <tr>\n",
       "      <th>...</th>\n",
       "      <td>...</td>\n",
       "      <td>...</td>\n",
       "      <td>...</td>\n",
       "    </tr>\n",
       "    <tr>\n",
       "      <th>208910</th>\n",
       "      <td>8000.0</td>\n",
       "      <td>9128.258579</td>\n",
       "      <td>12333.82</td>\n",
       "    </tr>\n",
       "    <tr>\n",
       "      <th>208937</th>\n",
       "      <td>5500.0</td>\n",
       "      <td>4642.808628</td>\n",
       "      <td>5944.29</td>\n",
       "    </tr>\n",
       "    <tr>\n",
       "      <th>208952</th>\n",
       "      <td>4000.0</td>\n",
       "      <td>3177.419106</td>\n",
       "      <td>4012.00</td>\n",
       "    </tr>\n",
       "    <tr>\n",
       "      <th>208963</th>\n",
       "      <td>2700.0</td>\n",
       "      <td>2138.488238</td>\n",
       "      <td>2861.00</td>\n",
       "    </tr>\n",
       "    <tr>\n",
       "      <th>208976</th>\n",
       "      <td>5000.0</td>\n",
       "      <td>6221.630626</td>\n",
       "      <td>6815.00</td>\n",
       "    </tr>\n",
       "    <tr>\n",
       "      <th>209017</th>\n",
       "      <td>7000.0</td>\n",
       "      <td>14808.985240</td>\n",
       "      <td>10086.00</td>\n",
       "    </tr>\n",
       "    <tr>\n",
       "      <th>209025</th>\n",
       "      <td>750.0</td>\n",
       "      <td>1524.987778</td>\n",
       "      <td>1101.00</td>\n",
       "    </tr>\n",
       "    <tr>\n",
       "      <th>209037</th>\n",
       "      <td>600.0</td>\n",
       "      <td>969.804281</td>\n",
       "      <td>677.00</td>\n",
       "    </tr>\n",
       "    <tr>\n",
       "      <th>209040</th>\n",
       "      <td>1200.0</td>\n",
       "      <td>1623.519378</td>\n",
       "      <td>1237.00</td>\n",
       "    </tr>\n",
       "    <tr>\n",
       "      <th>209046</th>\n",
       "      <td>1500.0</td>\n",
       "      <td>2151.105689</td>\n",
       "      <td>1588.00</td>\n",
       "    </tr>\n",
       "    <tr>\n",
       "      <th>209047</th>\n",
       "      <td>250.0</td>\n",
       "      <td>330.460559</td>\n",
       "      <td>301.00</td>\n",
       "    </tr>\n",
       "    <tr>\n",
       "      <th>209050</th>\n",
       "      <td>400.0</td>\n",
       "      <td>1186.815591</td>\n",
       "      <td>1649.32</td>\n",
       "    </tr>\n",
       "    <tr>\n",
       "      <th>209055</th>\n",
       "      <td>1900.0</td>\n",
       "      <td>3867.337236</td>\n",
       "      <td>3072.00</td>\n",
       "    </tr>\n",
       "    <tr>\n",
       "      <th>209058</th>\n",
       "      <td>2200.0</td>\n",
       "      <td>1693.860063</td>\n",
       "      <td>2206.29</td>\n",
       "    </tr>\n",
       "    <tr>\n",
       "      <th>209097</th>\n",
       "      <td>2000.0</td>\n",
       "      <td>1757.300660</td>\n",
       "      <td>2180.00</td>\n",
       "    </tr>\n",
       "    <tr>\n",
       "      <th>209103</th>\n",
       "      <td>250.0</td>\n",
       "      <td>403.960649</td>\n",
       "      <td>352.00</td>\n",
       "    </tr>\n",
       "    <tr>\n",
       "      <th>209111</th>\n",
       "      <td>1.0</td>\n",
       "      <td>6.106676</td>\n",
       "      <td>5.00</td>\n",
       "    </tr>\n",
       "    <tr>\n",
       "      <th>209129</th>\n",
       "      <td>350.0</td>\n",
       "      <td>3194.419679</td>\n",
       "      <td>2418.00</td>\n",
       "    </tr>\n",
       "    <tr>\n",
       "      <th>209142</th>\n",
       "      <td>30000.0</td>\n",
       "      <td>25189.296525</td>\n",
       "      <td>35107.33</td>\n",
       "    </tr>\n",
       "    <tr>\n",
       "      <th>209147</th>\n",
       "      <td>50.0</td>\n",
       "      <td>78.356642</td>\n",
       "      <td>50.00</td>\n",
       "    </tr>\n",
       "    <tr>\n",
       "      <th>209154</th>\n",
       "      <td>3000.0</td>\n",
       "      <td>28288.236113</td>\n",
       "      <td>18636.29</td>\n",
       "    </tr>\n",
       "    <tr>\n",
       "      <th>209156</th>\n",
       "      <td>2200.0</td>\n",
       "      <td>3208.436334</td>\n",
       "      <td>2291.00</td>\n",
       "    </tr>\n",
       "    <tr>\n",
       "      <th>209162</th>\n",
       "      <td>1500.0</td>\n",
       "      <td>5082.383304</td>\n",
       "      <td>4051.00</td>\n",
       "    </tr>\n",
       "    <tr>\n",
       "      <th>209168</th>\n",
       "      <td>3000.0</td>\n",
       "      <td>6275.184753</td>\n",
       "      <td>4295.00</td>\n",
       "    </tr>\n",
       "    <tr>\n",
       "      <th>209173</th>\n",
       "      <td>3000.0</td>\n",
       "      <td>4884.384651</td>\n",
       "      <td>4193.00</td>\n",
       "    </tr>\n",
       "    <tr>\n",
       "      <th>209181</th>\n",
       "      <td>6000.0</td>\n",
       "      <td>8060.625388</td>\n",
       "      <td>7084.00</td>\n",
       "    </tr>\n",
       "    <tr>\n",
       "      <th>209184</th>\n",
       "      <td>250.0</td>\n",
       "      <td>502.395547</td>\n",
       "      <td>630.00</td>\n",
       "    </tr>\n",
       "    <tr>\n",
       "      <th>209204</th>\n",
       "      <td>6200.0</td>\n",
       "      <td>4854.666789</td>\n",
       "      <td>6805.00</td>\n",
       "    </tr>\n",
       "    <tr>\n",
       "      <th>209209</th>\n",
       "      <td>2000.0</td>\n",
       "      <td>2269.685356</td>\n",
       "      <td>2001.00</td>\n",
       "    </tr>\n",
       "    <tr>\n",
       "      <th>209218</th>\n",
       "      <td>5000.0</td>\n",
       "      <td>5575.830204</td>\n",
       "      <td>5100.00</td>\n",
       "    </tr>\n",
       "  </tbody>\n",
       "</table>\n",
       "<p>32006 rows × 3 columns</p>\n",
       "</div>"
      ],
      "text/plain": [
       "            goal   usd_pledged    pledged\n",
       "8          375.0    529.786729     375.00\n",
       "9          380.0   2516.160602    1954.00\n",
       "16        4200.0   4701.023782    4230.00\n",
       "17       15000.0  15328.270782   20169.00\n",
       "22        1000.0    702.613237    1015.00\n",
       "25        2000.0   2861.258251    2199.00\n",
       "29         350.0    435.427090     376.00\n",
       "32       11000.0  14580.639568   11784.00\n",
       "34        2000.0   3196.518202    2055.00\n",
       "35        1800.0   1325.061424    1838.32\n",
       "49         500.0    792.348709     510.00\n",
       "52         600.0   1511.243840    1169.00\n",
       "62         400.0    827.033316     496.00\n",
       "64         500.0    614.321602     505.00\n",
       "67         200.0    358.983180     240.00\n",
       "69        2500.0   3876.404347    3002.50\n",
       "70         200.0    278.971155     250.00\n",
       "80         300.0    847.568017     550.47\n",
       "85         250.0    599.304179     457.00\n",
       "87        6000.0   8779.299592    7552.77\n",
       "98       35000.0  35360.478929   45681.92\n",
       "116       4500.0   3720.717120    5051.00\n",
       "127      50000.0   2609.093455   50978.80\n",
       "129      70000.0   8741.655733   71620.00\n",
       "133      10000.0  11272.547885   10100.00\n",
       "136       1500.0   1892.203536    1600.00\n",
       "137       2000.0   1561.838893    2045.00\n",
       "141      50000.0   6255.189896   52600.00\n",
       "142     250000.0  33655.142579  301940.31\n",
       "144       4000.0   5305.968550    4137.00\n",
       "...          ...           ...        ...\n",
       "208910    8000.0   9128.258579   12333.82\n",
       "208937    5500.0   4642.808628    5944.29\n",
       "208952    4000.0   3177.419106    4012.00\n",
       "208963    2700.0   2138.488238    2861.00\n",
       "208976    5000.0   6221.630626    6815.00\n",
       "209017    7000.0  14808.985240   10086.00\n",
       "209025     750.0   1524.987778    1101.00\n",
       "209037     600.0    969.804281     677.00\n",
       "209040    1200.0   1623.519378    1237.00\n",
       "209046    1500.0   2151.105689    1588.00\n",
       "209047     250.0    330.460559     301.00\n",
       "209050     400.0   1186.815591    1649.32\n",
       "209055    1900.0   3867.337236    3072.00\n",
       "209058    2200.0   1693.860063    2206.29\n",
       "209097    2000.0   1757.300660    2180.00\n",
       "209103     250.0    403.960649     352.00\n",
       "209111       1.0      6.106676       5.00\n",
       "209129     350.0   3194.419679    2418.00\n",
       "209142   30000.0  25189.296525   35107.33\n",
       "209147      50.0     78.356642      50.00\n",
       "209154    3000.0  28288.236113   18636.29\n",
       "209156    2200.0   3208.436334    2291.00\n",
       "209162    1500.0   5082.383304    4051.00\n",
       "209168    3000.0   6275.184753    4295.00\n",
       "209173    3000.0   4884.384651    4193.00\n",
       "209181    6000.0   8060.625388    7084.00\n",
       "209184     250.0    502.395547     630.00\n",
       "209204    6200.0   4854.666789    6805.00\n",
       "209209    2000.0   2269.685356    2001.00\n",
       "209218    5000.0   5575.830204    5100.00\n",
       "\n",
       "[32006 rows x 3 columns]"
      ]
     },
     "execution_count": 8,
     "metadata": {},
     "output_type": "execute_result"
    }
   ],
   "source": [
    "test = df[['goal','usd_pledged','pledged']][(df.state=='successful')]\n",
    "test[(df.current_currency!=df.currency)]"
   ]
  },
  {
   "cell_type": "markdown",
   "metadata": {},
   "source": [
    "### Unravel dictonary variables"
   ]
  },
  {
   "cell_type": "code",
   "execution_count": 9,
   "metadata": {},
   "outputs": [],
   "source": [
    "# get fom creator ids -> remaining parts are ignored\n",
    "# First separate creator elements\n",
    "new2 = df[\"creator\"].str.replace(\", \", \"_\").str.split(\",\", n = 8, expand = True)\n",
    "# now pick first column in new2 and split at :\n",
    "test = new2[0].str.split(\":\")\n",
    "# pick 2. column in test (where ids are written in)\n",
    "test2 = list(map(operator.itemgetter(1), test))\n",
    "# and make a new column in df with ids\n",
    "df[\"creator_id\"]=pd.Series(test2)\n",
    "# convert ids to numeric values\n",
    "df[\"creator_id\"] = pd.to_numeric(df[\"creator_id\"])"
   ]
  },
  {
   "cell_type": "markdown",
   "metadata": {},
   "source": [
    "* We excluded everything after blurb as we could not manage to remove wrong entries -> has to be fixed..."
   ]
  },
  {
   "cell_type": "code",
   "execution_count": 10,
   "metadata": {},
   "outputs": [],
   "source": [
    "# prepare profile data\n",
    "# First separate creator elements\n",
    "#new  = df[\"profile\"].str.replace(\", \", \"_\")\n",
    "new  = df[\"profile\"].str.replace(',\"', ';;\"')\n",
    "new2 = new.str.split(\";;\", n = 16, expand = True)                                 \n",
    "#new2 = new.str.replace(\",000 \", \"000\").str.split(\",\", n = 16, expand = True)\n",
    "# now drop column 4:\n",
    "new3 = new2.drop(4, axis =1)\n",
    "# change blurb to has or has no blurb\n",
    "new3[5][new3[5]!='\"blurb\":\"none\"'] = '\"blurb\":\"1\"' #0 if new3[5]== \"none\" else 1\n",
    "new3[5][new3[5]=='\"blurb\":\"none\"'] = '\"blurb\":\"0\"' #0 if new3[5]== \"none\" else 1\n",
    "\n",
    "# change link_text to has or has not\n",
    "#new3[10][new3[10]!='\"link_text\":\"none\"'] = '\"link_text\":\"1\"' #0 if new3[5]== \"none\" else 1\n",
    "#new3[10][new3[10]=='\"link_text\":\"none\"'] = '\"link_text\":\"0\"' #0 if new3[5]== \"none\" else 1\n",
    "\n",
    "new3[17]='\"dummy\":\"dummy\"}'\n",
    "# pick columns of interest: \n",
    "#new3[\"profile\"]= new3[[0,1,2,3,5,6,7,8,9,10,11,12,13,17]].apply(lambda x: ','.join(x), axis=1)\n",
    "new3[\"profile\"]= new3[[0,1,2,3,5,17]].apply(lambda x: ','.join(x), axis=1)\n",
    "# write data in df\n",
    "df[\"profile_test\"] =new3[\"profile\"]"
   ]
  },
  {
   "cell_type": "code",
   "execution_count": 11,
   "metadata": {},
   "outputs": [
    {
     "name": "stderr",
     "output_type": "stream",
     "text": [
      "/Users/sandra/opt/anaconda3/envs/nf/lib/python3.6/site-packages/ipykernel_launcher.py:6: SettingWithCopyWarning: \n",
      "A value is trying to be set on a copy of a slice from a DataFrame\n",
      "\n",
      "See the caveats in the documentation: http://pandas.pydata.org/pandas-docs/stable/indexing.html#indexing-view-versus-copy\n",
      "  \n"
     ]
    }
   ],
   "source": [
    "# prepare location data\n",
    "# dummy for NaN entries\n",
    "location_dummy= '{\"id\":\"\",\"name\":\"\",\"slug\":\"\",\"short_name\":\"\",\"displayable_name\":\"\",\"localized_name\":\"\",\\\n",
    "                \"country\":\"\",\"state\":\"\",\"type\":\"\",\"is_root\":None,\"urls\":{}}'\n",
    "#replace NaNs with dummy\n",
    "df.location[df.location.isnull()] = location_dummy"
   ]
  },
  {
   "cell_type": "code",
   "execution_count": 12,
   "metadata": {},
   "outputs": [
    {
     "name": "stdout",
     "output_type": "stream",
     "text": [
      "category\n",
      "location\n",
      "profile_test\n"
     ]
    }
   ],
   "source": [
    "# extraction of data dictonaries in 'category','location'\n",
    "dict_list = ['category','location','profile_test']#['category','location','profile''creator']#, null false true\n",
    "\n",
    "for names in dict_list:\n",
    "    print(names)\n",
    "    new_name     = names+'new'\n",
    "    suffix       = names+'_'\n",
    "    df[new_name] = df[names].apply(eval)\n",
    "    test         = df[new_name].apply(pd.Series)\n",
    "    test         = test.add_prefix(suffix)\n",
    "    df           = pd.concat([df,test],axis=1)  \n",
    " "
   ]
  },
  {
   "cell_type": "markdown",
   "metadata": {},
   "source": [
    "### Remove projects that are live, canceled or suspended"
   ]
  },
  {
   "cell_type": "code",
   "execution_count": 13,
   "metadata": {},
   "outputs": [
    {
     "data": {
      "text/plain": [
       "(192664, 60)"
      ]
     },
     "execution_count": 13,
     "metadata": {},
     "output_type": "execute_result"
    }
   ],
   "source": [
    "# das ging doch irgendwie schöner mit eval...\n",
    "#df = df[df.state==(\"successful\" or \"failed\")]\n",
    "df = df[df.state!='canceled']\n",
    "df = df[df.state!='live']\n",
    "df = df[df.state!='suspended']\n",
    "df.shape"
   ]
  },
  {
   "cell_type": "code",
   "execution_count": 14,
   "metadata": {},
   "outputs": [
    {
     "data": {
      "text/html": [
       "<div>\n",
       "<style scoped>\n",
       "    .dataframe tbody tr th:only-of-type {\n",
       "        vertical-align: middle;\n",
       "    }\n",
       "\n",
       "    .dataframe tbody tr th {\n",
       "        vertical-align: top;\n",
       "    }\n",
       "\n",
       "    .dataframe thead th {\n",
       "        text-align: right;\n",
       "    }\n",
       "</style>\n",
       "<table border=\"1\" class=\"dataframe\">\n",
       "  <thead>\n",
       "    <tr style=\"text-align: right;\">\n",
       "      <th></th>\n",
       "      <th>backers_count</th>\n",
       "      <th>converted_pledged_amount</th>\n",
       "      <th>created_at</th>\n",
       "      <th>deadline</th>\n",
       "      <th>fx_rate</th>\n",
       "      <th>goal</th>\n",
       "      <th>id</th>\n",
       "      <th>launched_at</th>\n",
       "      <th>pledged</th>\n",
       "      <th>state_changed_at</th>\n",
       "      <th>static_usd_rate</th>\n",
       "      <th>usd_pledged</th>\n",
       "      <th>creator_id</th>\n",
       "      <th>category_id</th>\n",
       "      <th>category_position</th>\n",
       "      <th>category_parent_id</th>\n",
       "      <th>category_color</th>\n",
       "      <th>profile_test_id</th>\n",
       "      <th>profile_test_project_id</th>\n",
       "      <th>profile_test_state_changed_at</th>\n",
       "    </tr>\n",
       "  </thead>\n",
       "  <tbody>\n",
       "    <tr>\n",
       "      <th>count</th>\n",
       "      <td>192664.00</td>\n",
       "      <td>192664.00</td>\n",
       "      <td>1.926640e+05</td>\n",
       "      <td>1.926640e+05</td>\n",
       "      <td>192664.00</td>\n",
       "      <td>1.926640e+05</td>\n",
       "      <td>1.926640e+05</td>\n",
       "      <td>1.926640e+05</td>\n",
       "      <td>192664.00</td>\n",
       "      <td>1.926640e+05</td>\n",
       "      <td>192664.00</td>\n",
       "      <td>192664.00</td>\n",
       "      <td>1.926640e+05</td>\n",
       "      <td>192664.00</td>\n",
       "      <td>192664.00</td>\n",
       "      <td>184388.00</td>\n",
       "      <td>192664.00</td>\n",
       "      <td>192664.00</td>\n",
       "      <td>192664.00</td>\n",
       "      <td>1.926640e+05</td>\n",
       "    </tr>\n",
       "    <tr>\n",
       "      <th>mean</th>\n",
       "      <td>152.56</td>\n",
       "      <td>13505.68</td>\n",
       "      <td>1.453017e+09</td>\n",
       "      <td>1.459925e+09</td>\n",
       "      <td>1.00</td>\n",
       "      <td>4.528810e+04</td>\n",
       "      <td>1.072715e+09</td>\n",
       "      <td>1.457126e+09</td>\n",
       "      <td>19698.25</td>\n",
       "      <td>1.459925e+09</td>\n",
       "      <td>1.01</td>\n",
       "      <td>13516.72</td>\n",
       "      <td>1.074629e+09</td>\n",
       "      <td>176.45</td>\n",
       "      <td>6.93</td>\n",
       "      <td>11.76</td>\n",
       "      <td>11908899.29</td>\n",
       "      <td>2190319.85</td>\n",
       "      <td>2190319.85</td>\n",
       "      <td>1.469864e+09</td>\n",
       "    </tr>\n",
       "    <tr>\n",
       "      <th>std</th>\n",
       "      <td>898.35</td>\n",
       "      <td>89104.04</td>\n",
       "      <td>6.253226e+07</td>\n",
       "      <td>6.213787e+07</td>\n",
       "      <td>0.21</td>\n",
       "      <td>1.112931e+06</td>\n",
       "      <td>6.195476e+08</td>\n",
       "      <td>6.219951e+07</td>\n",
       "      <td>335111.71</td>\n",
       "      <td>6.213790e+07</td>\n",
       "      <td>0.23</td>\n",
       "      <td>89183.97</td>\n",
       "      <td>6.205606e+08</td>\n",
       "      <td>134.12</td>\n",
       "      <td>4.55</td>\n",
       "      <td>5.53</td>\n",
       "      <td>6016045.15</td>\n",
       "      <td>1063113.83</td>\n",
       "      <td>1063113.83</td>\n",
       "      <td>4.317010e+07</td>\n",
       "    </tr>\n",
       "    <tr>\n",
       "      <th>min</th>\n",
       "      <td>0.00</td>\n",
       "      <td>0.00</td>\n",
       "      <td>1.240366e+09</td>\n",
       "      <td>1.241334e+09</td>\n",
       "      <td>0.01</td>\n",
       "      <td>1.000000e-02</td>\n",
       "      <td>8.624000e+03</td>\n",
       "      <td>1.240603e+09</td>\n",
       "      <td>0.00</td>\n",
       "      <td>1.241334e+09</td>\n",
       "      <td>0.01</td>\n",
       "      <td>0.00</td>\n",
       "      <td>3.000000e+00</td>\n",
       "      <td>1.00</td>\n",
       "      <td>1.00</td>\n",
       "      <td>1.00</td>\n",
       "      <td>51627.00</td>\n",
       "      <td>19.00</td>\n",
       "      <td>19.00</td>\n",
       "      <td>1.425915e+09</td>\n",
       "    </tr>\n",
       "    <tr>\n",
       "      <th>25%</th>\n",
       "      <td>4.00</td>\n",
       "      <td>150.00</td>\n",
       "      <td>1.411574e+09</td>\n",
       "      <td>1.418587e+09</td>\n",
       "      <td>1.00</td>\n",
       "      <td>1.500000e+03</td>\n",
       "      <td>5.347017e+08</td>\n",
       "      <td>1.415810e+09</td>\n",
       "      <td>151.00</td>\n",
       "      <td>1.418587e+09</td>\n",
       "      <td>1.00</td>\n",
       "      <td>150.00</td>\n",
       "      <td>5.359004e+08</td>\n",
       "      <td>37.00</td>\n",
       "      <td>3.00</td>\n",
       "      <td>9.00</td>\n",
       "      <td>6526716.00</td>\n",
       "      <td>1376812.00</td>\n",
       "      <td>1376812.00</td>\n",
       "      <td>1.425916e+09</td>\n",
       "    </tr>\n",
       "    <tr>\n",
       "      <th>50%</th>\n",
       "      <td>30.00</td>\n",
       "      <td>1770.00</td>\n",
       "      <td>1.455448e+09</td>\n",
       "      <td>1.462130e+09</td>\n",
       "      <td>1.00</td>\n",
       "      <td>5.000000e+03</td>\n",
       "      <td>1.074132e+09</td>\n",
       "      <td>1.459349e+09</td>\n",
       "      <td>1800.00</td>\n",
       "      <td>1.462130e+09</td>\n",
       "      <td>1.00</td>\n",
       "      <td>1772.00</td>\n",
       "      <td>1.074181e+09</td>\n",
       "      <td>252.00</td>\n",
       "      <td>6.00</td>\n",
       "      <td>12.00</td>\n",
       "      <td>14867664.00</td>\n",
       "      <td>2373856.00</td>\n",
       "      <td>2373856.00</td>\n",
       "      <td>1.458412e+09</td>\n",
       "    </tr>\n",
       "    <tr>\n",
       "      <th>75%</th>\n",
       "      <td>94.25</td>\n",
       "      <td>7087.00</td>\n",
       "      <td>1.507230e+09</td>\n",
       "      <td>1.513998e+09</td>\n",
       "      <td>1.00</td>\n",
       "      <td>1.500000e+04</td>\n",
       "      <td>1.608192e+09</td>\n",
       "      <td>1.511201e+09</td>\n",
       "      <td>7463.00</td>\n",
       "      <td>1.513998e+09</td>\n",
       "      <td>1.00</td>\n",
       "      <td>7096.62</td>\n",
       "      <td>1.613398e+09</td>\n",
       "      <td>301.00</td>\n",
       "      <td>10.00</td>\n",
       "      <td>16.00</td>\n",
       "      <td>16743775.00</td>\n",
       "      <td>3170955.00</td>\n",
       "      <td>3170955.00</td>\n",
       "      <td>1.510459e+09</td>\n",
       "    </tr>\n",
       "    <tr>\n",
       "      <th>max</th>\n",
       "      <td>105857.00</td>\n",
       "      <td>8596474.00</td>\n",
       "      <td>1.551738e+09</td>\n",
       "      <td>1.552536e+09</td>\n",
       "      <td>1.75</td>\n",
       "      <td>1.000000e+08</td>\n",
       "      <td>2.147476e+09</td>\n",
       "      <td>1.551849e+09</td>\n",
       "      <td>81030744.00</td>\n",
       "      <td>1.552536e+09</td>\n",
       "      <td>1.72</td>\n",
       "      <td>8596474.58</td>\n",
       "      <td>2.147483e+09</td>\n",
       "      <td>389.00</td>\n",
       "      <td>19.00</td>\n",
       "      <td>26.00</td>\n",
       "      <td>16776056.00</td>\n",
       "      <td>3682030.00</td>\n",
       "      <td>3682030.00</td>\n",
       "      <td>1.552537e+09</td>\n",
       "    </tr>\n",
       "  </tbody>\n",
       "</table>\n",
       "</div>"
      ],
      "text/plain": [
       "       backers_count  converted_pledged_amount    created_at      deadline  \\\n",
       "count      192664.00                 192664.00  1.926640e+05  1.926640e+05   \n",
       "mean          152.56                  13505.68  1.453017e+09  1.459925e+09   \n",
       "std           898.35                  89104.04  6.253226e+07  6.213787e+07   \n",
       "min             0.00                      0.00  1.240366e+09  1.241334e+09   \n",
       "25%             4.00                    150.00  1.411574e+09  1.418587e+09   \n",
       "50%            30.00                   1770.00  1.455448e+09  1.462130e+09   \n",
       "75%            94.25                   7087.00  1.507230e+09  1.513998e+09   \n",
       "max        105857.00                8596474.00  1.551738e+09  1.552536e+09   \n",
       "\n",
       "         fx_rate          goal            id   launched_at      pledged  \\\n",
       "count  192664.00  1.926640e+05  1.926640e+05  1.926640e+05    192664.00   \n",
       "mean        1.00  4.528810e+04  1.072715e+09  1.457126e+09     19698.25   \n",
       "std         0.21  1.112931e+06  6.195476e+08  6.219951e+07    335111.71   \n",
       "min         0.01  1.000000e-02  8.624000e+03  1.240603e+09         0.00   \n",
       "25%         1.00  1.500000e+03  5.347017e+08  1.415810e+09       151.00   \n",
       "50%         1.00  5.000000e+03  1.074132e+09  1.459349e+09      1800.00   \n",
       "75%         1.00  1.500000e+04  1.608192e+09  1.511201e+09      7463.00   \n",
       "max         1.75  1.000000e+08  2.147476e+09  1.551849e+09  81030744.00   \n",
       "\n",
       "       state_changed_at  static_usd_rate  usd_pledged    creator_id  \\\n",
       "count      1.926640e+05        192664.00    192664.00  1.926640e+05   \n",
       "mean       1.459925e+09             1.01     13516.72  1.074629e+09   \n",
       "std        6.213790e+07             0.23     89183.97  6.205606e+08   \n",
       "min        1.241334e+09             0.01         0.00  3.000000e+00   \n",
       "25%        1.418587e+09             1.00       150.00  5.359004e+08   \n",
       "50%        1.462130e+09             1.00      1772.00  1.074181e+09   \n",
       "75%        1.513998e+09             1.00      7096.62  1.613398e+09   \n",
       "max        1.552536e+09             1.72   8596474.58  2.147483e+09   \n",
       "\n",
       "       category_id  category_position  category_parent_id  category_color  \\\n",
       "count    192664.00          192664.00           184388.00       192664.00   \n",
       "mean        176.45               6.93               11.76     11908899.29   \n",
       "std         134.12               4.55                5.53      6016045.15   \n",
       "min           1.00               1.00                1.00        51627.00   \n",
       "25%          37.00               3.00                9.00      6526716.00   \n",
       "50%         252.00               6.00               12.00     14867664.00   \n",
       "75%         301.00              10.00               16.00     16743775.00   \n",
       "max         389.00              19.00               26.00     16776056.00   \n",
       "\n",
       "       profile_test_id  profile_test_project_id  profile_test_state_changed_at  \n",
       "count        192664.00                192664.00                   1.926640e+05  \n",
       "mean        2190319.85               2190319.85                   1.469864e+09  \n",
       "std         1063113.83               1063113.83                   4.317010e+07  \n",
       "min              19.00                    19.00                   1.425915e+09  \n",
       "25%         1376812.00               1376812.00                   1.425916e+09  \n",
       "50%         2373856.00               2373856.00                   1.458412e+09  \n",
       "75%         3170955.00               3170955.00                   1.510459e+09  \n",
       "max         3682030.00               3682030.00                   1.552537e+09  "
      ]
     },
     "execution_count": 14,
     "metadata": {},
     "output_type": "execute_result"
    }
   ],
   "source": [
    "df.describe().round(2)"
   ]
  },
  {
   "cell_type": "markdown",
   "metadata": {},
   "source": [
    "### Other checkings"
   ]
  },
  {
   "cell_type": "code",
   "execution_count": 15,
   "metadata": {},
   "outputs": [],
   "source": [
    "# test if there are any duplicated project ids\n",
    "#df.profile_test_id[df.profile_test_id.duplicated(keep=False)]==True\n",
    "\n",
    "# these need to be tested: one succeed and one failure? why, keep it or remove it, differences..."
   ]
  },
  {
   "cell_type": "code",
   "execution_count": 16,
   "metadata": {},
   "outputs": [
    {
     "data": {
      "text/plain": [
       "USD    137788\n",
       "GBP     21235\n",
       "EUR     12399\n",
       "CAD      8896\n",
       "AUD      4383\n",
       "MXN      2038\n",
       "SEK      1281\n",
       "HKD       953\n",
       "NZD       848\n",
       "DKK       839\n",
       "SGD       624\n",
       "CHF       597\n",
       "NOK       453\n",
       "JPY       330\n",
       "Name: currency, dtype: int64"
      ]
     },
     "execution_count": 16,
     "metadata": {},
     "output_type": "execute_result"
    }
   ],
   "source": [
    "pd.value_counts(df.currency)"
   ]
  },
  {
   "cell_type": "code",
   "execution_count": 17,
   "metadata": {},
   "outputs": [
    {
     "data": {
      "text/plain": [
       "USD    192626\n",
       "CAD        38\n",
       "Name: current_currency, dtype: int64"
      ]
     },
     "execution_count": 17,
     "metadata": {},
     "output_type": "execute_result"
    }
   ],
   "source": [
    "pd.value_counts(df.current_currency)"
   ]
  },
  {
   "cell_type": "code",
   "execution_count": null,
   "metadata": {},
   "outputs": [],
   "source": []
  },
  {
   "cell_type": "code",
   "execution_count": 18,
   "metadata": {},
   "outputs": [
    {
     "data": {
      "text/plain": [
       "count          47370\n",
       "unique             2\n",
       "top       successful\n",
       "freq           45372\n",
       "Name: state, dtype: object"
      ]
     },
     "execution_count": 18,
     "metadata": {},
     "output_type": "execute_result"
    }
   ],
   "source": [
    "df.state[df.profile_test_id.duplicated(False)==True].describe()\n"
   ]
  },
  {
   "cell_type": "code",
   "execution_count": 19,
   "metadata": {},
   "outputs": [
    {
     "data": {
      "text/plain": [
       "count    1.926640e+05\n",
       "mean     1.070524e+09\n",
       "std      6.195534e+08\n",
       "min     -3.414918e+06\n",
       "25%      5.324394e+08\n",
       "50%      1.071987e+09\n",
       "75%      1.606117e+09\n",
       "max      2.147428e+09\n",
       "dtype: float64"
      ]
     },
     "execution_count": 19,
     "metadata": {},
     "output_type": "execute_result"
    }
   ],
   "source": [
    "test = df.id-df.profile_test_id\n",
    "test.describe()\n"
   ]
  },
  {
   "cell_type": "code",
   "execution_count": 20,
   "metadata": {},
   "outputs": [
    {
     "data": {
      "text/plain": [
       "47370"
      ]
     },
     "execution_count": 20,
     "metadata": {},
     "output_type": "execute_result"
    }
   ],
   "source": [
    "len(df.id[df.id.duplicated(keep=False)==True])"
   ]
  },
  {
   "cell_type": "code",
   "execution_count": 21,
   "metadata": {},
   "outputs": [
    {
     "data": {
      "text/plain": [
       "47370"
      ]
     },
     "execution_count": 21,
     "metadata": {},
     "output_type": "execute_result"
    }
   ],
   "source": [
    "len(df.profile_test_id[df.profile_test_id.duplicated(keep=False)==True])"
   ]
  },
  {
   "cell_type": "code",
   "execution_count": 22,
   "metadata": {},
   "outputs": [
    {
     "name": "stdout",
     "output_type": "stream",
     "text": [
      "928751314\n",
      "3094785\n"
     ]
    }
   ],
   "source": [
    "print(df.id[1])\n",
    "print(df.profile_test_id[1])"
   ]
  },
  {
   "cell_type": "code",
   "execution_count": 23,
   "metadata": {},
   "outputs": [
    {
     "data": {
      "text/plain": [
       "192664"
      ]
     },
     "execution_count": 23,
     "metadata": {},
     "output_type": "execute_result"
    }
   ],
   "source": [
    "test = df.groupby(\"id\")[\"profile_test_id\"].transform('count')\n",
    "len(test)"
   ]
  },
  {
   "cell_type": "code",
   "execution_count": 24,
   "metadata": {},
   "outputs": [
    {
     "name": "stdout",
     "output_type": "stream",
     "text": [
      "Int64Index([     8,      9,     13,     14,     16,     17,     19,     26,\n",
      "                29,     35,\n",
      "            ...\n",
      "            209173, 209176, 209179, 209184, 209196, 209199, 209202, 209214,\n",
      "            209215, 209217],\n",
      "           dtype='int64', length=47370) Int64Index([     8,      9,     13,     14,     16,     17,     19,     26,\n",
      "                29,     35,\n",
      "            ...\n",
      "            209173, 209176, 209179, 209184, 209196, 209199, 209202, 209214,\n",
      "            209215, 209217],\n",
      "           dtype='int64', length=47370)\n"
     ]
    },
    {
     "data": {
      "text/plain": [
       "0"
      ]
     },
     "execution_count": 24,
     "metadata": {},
     "output_type": "execute_result"
    }
   ],
   "source": [
    "abc = df.profile_test_id.duplicated(keep=False)\n",
    "print(df.id[abc].index,df.profile_test_id[abc].index)\n",
    "abce = df.id[abc].index-df.profile_test_id[abc].index\n",
    "max(abce)"
   ]
  },
  {
   "cell_type": "markdown",
   "metadata": {},
   "source": [
    "* id and profile_test_id are not the same but where profile_test_id occurs twice, also id does"
   ]
  },
  {
   "cell_type": "markdown",
   "metadata": {},
   "source": [
    "## General Overview"
   ]
  },
  {
   "cell_type": "code",
   "execution_count": 25,
   "metadata": {},
   "outputs": [
    {
     "data": {
      "text/plain": [
       "Index(['backers_count', 'blurb', 'category', 'converted_pledged_amount',\n",
       "       'country', 'created_at', 'creator', 'currency',\n",
       "       'currency_trailing_code', 'current_currency', 'deadline',\n",
       "       'disable_communication', 'fx_rate', 'goal', 'id', 'is_backing',\n",
       "       'is_starrable', 'is_starred', 'launched_at', 'location', 'name',\n",
       "       'pledged', 'profile', 'slug', 'spotlight', 'staff_pick', 'state',\n",
       "       'state_changed_at', 'static_usd_rate', 'usd_pledged', 'usd_type',\n",
       "       'creator_id', 'profile_test', 'categorynew', 'category_id',\n",
       "       'category_name', 'category_slug', 'category_position',\n",
       "       'category_parent_id', 'category_color', 'category_urls', 'locationnew',\n",
       "       'location_id', 'location_name', 'location_slug', 'location_short_name',\n",
       "       'location_displayable_name', 'location_localized_name',\n",
       "       'location_country', 'location_state', 'location_type',\n",
       "       'location_is_root', 'location_urls', 'profile_testnew',\n",
       "       'profile_test_id', 'profile_test_project_id', 'profile_test_state',\n",
       "       'profile_test_state_changed_at', 'profile_test_blurb',\n",
       "       'profile_test_dummy'],\n",
       "      dtype='object')"
      ]
     },
     "execution_count": 25,
     "metadata": {},
     "output_type": "execute_result"
    }
   ],
   "source": [
    "df.columns"
   ]
  },
  {
   "cell_type": "code",
   "execution_count": 426,
   "metadata": {},
   "outputs": [],
   "source": [
    "df2 = pd.DataFrame.copy(df)"
   ]
  },
  {
   "cell_type": "markdown",
   "metadata": {},
   "source": [
    "## Missing data"
   ]
  },
  {
   "cell_type": "code",
   "execution_count": 427,
   "metadata": {},
   "outputs": [
    {
     "data": {
      "text/html": [
       "<div>\n",
       "<style scoped>\n",
       "    .dataframe tbody tr th:only-of-type {\n",
       "        vertical-align: middle;\n",
       "    }\n",
       "\n",
       "    .dataframe tbody tr th {\n",
       "        vertical-align: top;\n",
       "    }\n",
       "\n",
       "    .dataframe thead th {\n",
       "        text-align: right;\n",
       "    }\n",
       "</style>\n",
       "<table border=\"1\" class=\"dataframe\">\n",
       "  <thead>\n",
       "    <tr style=\"text-align: right;\">\n",
       "      <th></th>\n",
       "      <th>Number</th>\n",
       "    </tr>\n",
       "  </thead>\n",
       "  <tbody>\n",
       "    <tr>\n",
       "      <th>blurb</th>\n",
       "      <td>2</td>\n",
       "    </tr>\n",
       "    <tr>\n",
       "      <th>is_backing</th>\n",
       "      <td>192664</td>\n",
       "    </tr>\n",
       "    <tr>\n",
       "      <th>is_starred</th>\n",
       "      <td>192664</td>\n",
       "    </tr>\n",
       "    <tr>\n",
       "      <th>usd_type</th>\n",
       "      <td>38</td>\n",
       "    </tr>\n",
       "    <tr>\n",
       "      <th>category_parent_id</th>\n",
       "      <td>8276</td>\n",
       "    </tr>\n",
       "    <tr>\n",
       "      <th>location_slug</th>\n",
       "      <td>459</td>\n",
       "    </tr>\n",
       "    <tr>\n",
       "      <th>location_state</th>\n",
       "      <td>57</td>\n",
       "    </tr>\n",
       "    <tr>\n",
       "      <th>location_is_root</th>\n",
       "      <td>215</td>\n",
       "    </tr>\n",
       "  </tbody>\n",
       "</table>\n",
       "</div>"
      ],
      "text/plain": [
       "                    Number\n",
       "blurb                    2\n",
       "is_backing          192664\n",
       "is_starred          192664\n",
       "usd_type                38\n",
       "category_parent_id    8276\n",
       "location_slug          459\n",
       "location_state          57\n",
       "location_is_root       215"
      ]
     },
     "execution_count": 427,
     "metadata": {},
     "output_type": "execute_result"
    }
   ],
   "source": [
    "missing = pd.DataFrame(df2.isnull().sum(),columns=['Number'])\n",
    "missing[missing.Number!=0]"
   ]
  },
  {
   "cell_type": "code",
   "execution_count": 428,
   "metadata": {},
   "outputs": [
    {
     "data": {
      "text/plain": [
       "(192664, 61)"
      ]
     },
     "execution_count": 428,
     "metadata": {},
     "output_type": "execute_result"
    }
   ],
   "source": [
    "df2.shape"
   ]
  },
  {
   "cell_type": "code",
   "execution_count": 429,
   "metadata": {},
   "outputs": [],
   "source": [
    "#new2[new2[6].str.contains(\"she was asking for it\")]\n",
    "#df.profile[119063]"
   ]
  },
  {
   "cell_type": "markdown",
   "metadata": {},
   "source": [
    "## Create new variables"
   ]
  },
  {
   "cell_type": "markdown",
   "metadata": {},
   "source": [
    "### Goal in USD"
   ]
  },
  {
   "cell_type": "code",
   "execution_count": 430,
   "metadata": {},
   "outputs": [],
   "source": [
    "df2['USD_goal'] = df2.goal*df2.static_usd_rate"
   ]
  },
  {
   "cell_type": "code",
   "execution_count": 431,
   "metadata": {},
   "outputs": [
    {
     "data": {
      "text/plain": [
       "count    1.926640e+05\n",
       "mean     3.778767e+04\n",
       "std      1.065709e+06\n",
       "min      1.000000e-02\n",
       "25%      1.500000e+03\n",
       "50%      5.000000e+03\n",
       "75%      1.244704e+04\n",
       "max      1.523501e+08\n",
       "Name: USD_goal, dtype: float64"
      ]
     },
     "execution_count": 431,
     "metadata": {},
     "output_type": "execute_result"
    }
   ],
   "source": [
    "df2['USD_goal'].describe()"
   ]
  },
  {
   "cell_type": "markdown",
   "metadata": {},
   "source": [
    "### Project Duration \n",
    "Create new Variable Duration which gives the time in days between project start and deadline"
   ]
  },
  {
   "cell_type": "code",
   "execution_count": 432,
   "metadata": {},
   "outputs": [],
   "source": [
    "df2['Duration'] = (df2.deadline-df2.launched_at)/(3600*24)"
   ]
  },
  {
   "cell_type": "markdown",
   "metadata": {},
   "source": [
    "### Actual duration until goal has been reached if has been reached\n",
    "See if there is a relationship between success and timing"
   ]
  },
  {
   "cell_type": "code",
   "execution_count": 433,
   "metadata": {},
   "outputs": [],
   "source": [
    "df2['actDuration'] = (df2.state_changed_at-df2.launched_at)/(3600*24)"
   ]
  },
  {
   "cell_type": "code",
   "execution_count": 434,
   "metadata": {},
   "outputs": [
    {
     "data": {
      "text/html": [
       "<div>\n",
       "<style scoped>\n",
       "    .dataframe tbody tr th:only-of-type {\n",
       "        vertical-align: middle;\n",
       "    }\n",
       "\n",
       "    .dataframe tbody tr th {\n",
       "        vertical-align: top;\n",
       "    }\n",
       "\n",
       "    .dataframe thead th {\n",
       "        text-align: right;\n",
       "    }\n",
       "</style>\n",
       "<table border=\"1\" class=\"dataframe\">\n",
       "  <thead>\n",
       "    <tr style=\"text-align: right;\">\n",
       "      <th></th>\n",
       "      <th>Duration</th>\n",
       "      <th>actDuration</th>\n",
       "    </tr>\n",
       "  </thead>\n",
       "  <tbody>\n",
       "    <tr>\n",
       "      <th>count</th>\n",
       "      <td>192664.000000</td>\n",
       "      <td>192664.000000</td>\n",
       "    </tr>\n",
       "    <tr>\n",
       "      <th>mean</th>\n",
       "      <td>32.393234</td>\n",
       "      <td>32.393970</td>\n",
       "    </tr>\n",
       "    <tr>\n",
       "      <th>std</th>\n",
       "      <td>11.647343</td>\n",
       "      <td>11.647972</td>\n",
       "    </tr>\n",
       "    <tr>\n",
       "      <th>min</th>\n",
       "      <td>1.000000</td>\n",
       "      <td>1.000000</td>\n",
       "    </tr>\n",
       "    <tr>\n",
       "      <th>25%</th>\n",
       "      <td>29.958333</td>\n",
       "      <td>29.958333</td>\n",
       "    </tr>\n",
       "    <tr>\n",
       "      <th>50%</th>\n",
       "      <td>30.000000</td>\n",
       "      <td>30.000012</td>\n",
       "    </tr>\n",
       "    <tr>\n",
       "      <th>75%</th>\n",
       "      <td>33.623672</td>\n",
       "      <td>33.624725</td>\n",
       "    </tr>\n",
       "    <tr>\n",
       "      <th>max</th>\n",
       "      <td>93.105602</td>\n",
       "      <td>93.105602</td>\n",
       "    </tr>\n",
       "  </tbody>\n",
       "</table>\n",
       "</div>"
      ],
      "text/plain": [
       "            Duration    actDuration\n",
       "count  192664.000000  192664.000000\n",
       "mean       32.393234      32.393970\n",
       "std        11.647343      11.647972\n",
       "min         1.000000       1.000000\n",
       "25%        29.958333      29.958333\n",
       "50%        30.000000      30.000012\n",
       "75%        33.623672      33.624725\n",
       "max        93.105602      93.105602"
      ]
     },
     "execution_count": 434,
     "metadata": {},
     "output_type": "execute_result"
    }
   ],
   "source": [
    "df2[['Duration','actDuration']].describe()"
   ]
  },
  {
   "cell_type": "code",
   "execution_count": 435,
   "metadata": {},
   "outputs": [],
   "source": [
    "### Time between project creation and project_start\n",
    "df2['t2start'] = (df2.created_at-df2.launched_at)/(3600*24)"
   ]
  },
  {
   "cell_type": "markdown",
   "metadata": {},
   "source": [
    "### Blurb_length"
   ]
  },
  {
   "cell_type": "markdown",
   "metadata": {},
   "source": [
    "Calculates length of Blurb entry as has has no Blurb occurs only 2 times"
   ]
  },
  {
   "cell_type": "code",
   "execution_count": 436,
   "metadata": {},
   "outputs": [
    {
     "data": {
      "text/plain": [
       "count    192662.000000\n",
       "mean        112.431767\n",
       "std          26.573717\n",
       "min           1.000000\n",
       "25%         101.000000\n",
       "50%         124.000000\n",
       "75%         132.000000\n",
       "max         196.000000\n",
       "Name: blurbLength, dtype: float64"
      ]
     },
     "execution_count": 436,
     "metadata": {},
     "output_type": "execute_result"
    }
   ],
   "source": [
    "df2['blurbLength'] = df2.blurb.str.len()\n",
    "df2.blurbLength.describe()"
   ]
  },
  {
   "cell_type": "code",
   "execution_count": 437,
   "metadata": {},
   "outputs": [
    {
     "name": "stderr",
     "output_type": "stream",
     "text": [
      "/Users/sandra/opt/anaconda3/envs/nf/lib/python3.6/site-packages/ipykernel_launcher.py:1: SettingWithCopyWarning: \n",
      "A value is trying to be set on a copy of a slice from a DataFrame\n",
      "\n",
      "See the caveats in the documentation: http://pandas.pydata.org/pandas-docs/stable/indexing.html#indexing-view-versus-copy\n",
      "  \"\"\"Entry point for launching an IPython kernel.\n"
     ]
    },
    {
     "data": {
      "text/html": [
       "<div>\n",
       "<style scoped>\n",
       "    .dataframe tbody tr th:only-of-type {\n",
       "        vertical-align: middle;\n",
       "    }\n",
       "\n",
       "    .dataframe tbody tr th {\n",
       "        vertical-align: top;\n",
       "    }\n",
       "\n",
       "    .dataframe thead th {\n",
       "        text-align: right;\n",
       "    }\n",
       "</style>\n",
       "<table border=\"1\" class=\"dataframe\">\n",
       "  <thead>\n",
       "    <tr style=\"text-align: right;\">\n",
       "      <th></th>\n",
       "      <th>Number</th>\n",
       "    </tr>\n",
       "  </thead>\n",
       "  <tbody>\n",
       "    <tr>\n",
       "      <th>blurb</th>\n",
       "      <td>2</td>\n",
       "    </tr>\n",
       "    <tr>\n",
       "      <th>is_backing</th>\n",
       "      <td>192664</td>\n",
       "    </tr>\n",
       "    <tr>\n",
       "      <th>is_starred</th>\n",
       "      <td>192664</td>\n",
       "    </tr>\n",
       "    <tr>\n",
       "      <th>usd_type</th>\n",
       "      <td>38</td>\n",
       "    </tr>\n",
       "    <tr>\n",
       "      <th>category_parent_id</th>\n",
       "      <td>8276</td>\n",
       "    </tr>\n",
       "    <tr>\n",
       "      <th>location_slug</th>\n",
       "      <td>459</td>\n",
       "    </tr>\n",
       "    <tr>\n",
       "      <th>location_state</th>\n",
       "      <td>57</td>\n",
       "    </tr>\n",
       "    <tr>\n",
       "      <th>location_is_root</th>\n",
       "      <td>215</td>\n",
       "    </tr>\n",
       "  </tbody>\n",
       "</table>\n",
       "</div>"
      ],
      "text/plain": [
       "                    Number\n",
       "blurb                    2\n",
       "is_backing          192664\n",
       "is_starred          192664\n",
       "usd_type                38\n",
       "category_parent_id    8276\n",
       "location_slug          459\n",
       "location_state          57\n",
       "location_is_root       215"
      ]
     },
     "execution_count": 437,
     "metadata": {},
     "output_type": "execute_result"
    }
   ],
   "source": [
    "df2.blurbLength[df2.blurbLength.isnull()]=0\n",
    "missing = pd.DataFrame(df2.isnull().sum(),columns=['Number'])\n",
    "missing[missing.Number!=0]"
   ]
  },
  {
   "cell_type": "code",
   "execution_count": null,
   "metadata": {},
   "outputs": [],
   "source": []
  },
  {
   "cell_type": "markdown",
   "metadata": {},
   "source": [
    "### length of Name"
   ]
  },
  {
   "cell_type": "code",
   "execution_count": 438,
   "metadata": {},
   "outputs": [
    {
     "data": {
      "text/plain": [
       "count                        192664\n",
       "unique                       168461\n",
       "top       A Midsummer Night's Dream\n",
       "freq                              7\n",
       "Name: name, dtype: object"
      ]
     },
     "execution_count": 438,
     "metadata": {},
     "output_type": "execute_result"
    }
   ],
   "source": [
    "df2['NameLength'] = df2.name.str.len()\n",
    "df2.name.describe()"
   ]
  },
  {
   "cell_type": "code",
   "execution_count": null,
   "metadata": {},
   "outputs": [],
   "source": []
  },
  {
   "cell_type": "code",
   "execution_count": 439,
   "metadata": {},
   "outputs": [
    {
     "name": "stderr",
     "output_type": "stream",
     "text": [
      "/Users/sandra/opt/anaconda3/envs/nf/lib/python3.6/site-packages/ipykernel_launcher.py:1: SettingWithCopyWarning: \n",
      "A value is trying to be set on a copy of a slice from a DataFrame\n",
      "\n",
      "See the caveats in the documentation: http://pandas.pydata.org/pandas-docs/stable/indexing.html#indexing-view-versus-copy\n",
      "  \"\"\"Entry point for launching an IPython kernel.\n"
     ]
    },
    {
     "data": {
      "text/html": [
       "<div>\n",
       "<style scoped>\n",
       "    .dataframe tbody tr th:only-of-type {\n",
       "        vertical-align: middle;\n",
       "    }\n",
       "\n",
       "    .dataframe tbody tr th {\n",
       "        vertical-align: top;\n",
       "    }\n",
       "\n",
       "    .dataframe thead th {\n",
       "        text-align: right;\n",
       "    }\n",
       "</style>\n",
       "<table border=\"1\" class=\"dataframe\">\n",
       "  <thead>\n",
       "    <tr style=\"text-align: right;\">\n",
       "      <th></th>\n",
       "      <th>Number</th>\n",
       "    </tr>\n",
       "  </thead>\n",
       "  <tbody>\n",
       "    <tr>\n",
       "      <th>blurb</th>\n",
       "      <td>2</td>\n",
       "    </tr>\n",
       "    <tr>\n",
       "      <th>is_backing</th>\n",
       "      <td>192664</td>\n",
       "    </tr>\n",
       "    <tr>\n",
       "      <th>is_starred</th>\n",
       "      <td>192664</td>\n",
       "    </tr>\n",
       "    <tr>\n",
       "      <th>usd_type</th>\n",
       "      <td>38</td>\n",
       "    </tr>\n",
       "    <tr>\n",
       "      <th>category_parent_id</th>\n",
       "      <td>8276</td>\n",
       "    </tr>\n",
       "    <tr>\n",
       "      <th>location_slug</th>\n",
       "      <td>459</td>\n",
       "    </tr>\n",
       "    <tr>\n",
       "      <th>location_state</th>\n",
       "      <td>57</td>\n",
       "    </tr>\n",
       "    <tr>\n",
       "      <th>location_is_root</th>\n",
       "      <td>215</td>\n",
       "    </tr>\n",
       "  </tbody>\n",
       "</table>\n",
       "</div>"
      ],
      "text/plain": [
       "                    Number\n",
       "blurb                    2\n",
       "is_backing          192664\n",
       "is_starred          192664\n",
       "usd_type                38\n",
       "category_parent_id    8276\n",
       "location_slug          459\n",
       "location_state          57\n",
       "location_is_root       215"
      ]
     },
     "execution_count": 439,
     "metadata": {},
     "output_type": "execute_result"
    }
   ],
   "source": [
    "df2.NameLength[df2.NameLength.isnull()]=0\n",
    "missing = pd.DataFrame(df2.isnull().sum(),columns=['Number'])\n",
    "missing[missing.Number!=0]"
   ]
  },
  {
   "cell_type": "markdown",
   "metadata": {},
   "source": [
    "### Id"
   ]
  },
  {
   "cell_type": "code",
   "execution_count": 440,
   "metadata": {},
   "outputs": [
    {
     "data": {
      "text/plain": [
       "1    145294\n",
       "2     47370\n",
       "Name: count_id, dtype: int64"
      ]
     },
     "execution_count": 440,
     "metadata": {},
     "output_type": "execute_result"
    }
   ],
   "source": [
    "# count double entires in the column \"id\"\n",
    "df2[\"count_id\"] = df2.groupby(\"id\")[\"id\"].transform('count')\n",
    "df2[\"count_id\"].value_counts()\n"
   ]
  },
  {
   "cell_type": "code",
   "execution_count": 441,
   "metadata": {},
   "outputs": [
    {
     "data": {
      "text/plain": [
       "1    145294\n",
       "2     47370\n",
       "Name: count_id, dtype: int64"
      ]
     },
     "execution_count": 441,
     "metadata": {},
     "output_type": "execute_result"
    }
   ],
   "source": [
    "df[\"count_id\"] = df.groupby(\"id\")[\"id\"].transform('count')\n",
    "df[\"count_id\"].value_counts()"
   ]
  },
  {
   "cell_type": "markdown",
   "metadata": {},
   "source": [
    "### Category_slug"
   ]
  },
  {
   "cell_type": "code",
   "execution_count": 442,
   "metadata": {},
   "outputs": [
    {
     "data": {
      "text/plain": [
       "169"
      ]
     },
     "execution_count": 442,
     "metadata": {},
     "output_type": "execute_result"
    }
   ],
   "source": [
    "len(df2[\"category_slug\"].value_counts())"
   ]
  },
  {
   "cell_type": "code",
   "execution_count": 443,
   "metadata": {},
   "outputs": [],
   "source": [
    "df2[\"parent_category\"], df2[\"category\"] = df2[\"category_slug\"].str.split('/', 1).str"
   ]
  },
  {
   "cell_type": "code",
   "execution_count": 444,
   "metadata": {},
   "outputs": [
    {
     "data": {
      "text/plain": [
       "music           25920\n",
       "film & video    25653\n",
       "technology      19476\n",
       "art             19217\n",
       "publishing      18690\n",
       "food            14948\n",
       "games           12452\n",
       "fashion         10764\n",
       "comics           8190\n",
       "design           7680\n",
       "photography      7390\n",
       "crafts           6549\n",
       "theater          6478\n",
       "journalism       5338\n",
       "dance            3919\n",
       "Name: parent_category, dtype: int64"
      ]
     },
     "execution_count": 444,
     "metadata": {},
     "output_type": "execute_result"
    }
   ],
   "source": [
    "df2[\"parent_category\"].value_counts()"
   ]
  },
  {
   "cell_type": "code",
   "execution_count": 445,
   "metadata": {},
   "outputs": [
    {
     "data": {
      "text/plain": [
       "144"
      ]
     },
     "execution_count": 445,
     "metadata": {},
     "output_type": "execute_result"
    }
   ],
   "source": [
    "len(df2[\"category\"].value_counts())"
   ]
  },
  {
   "cell_type": "markdown",
   "metadata": {},
   "source": [
    "### Count_creator_ID"
   ]
  },
  {
   "cell_type": "code",
   "execution_count": 446,
   "metadata": {},
   "outputs": [
    {
     "data": {
      "text/plain": [
       "1     117387\n",
       "2      46008\n",
       "3       9723\n",
       "4       5868\n",
       "5       2975\n",
       "6       2256\n",
       "7       1372\n",
       "8       1192\n",
       "9        909\n",
       "10       570\n",
       "11       473\n",
       "13       364\n",
       "14       322\n",
       "12       288\n",
       "15       285\n",
       "16       272\n",
       "19       247\n",
       "18       234\n",
       "25       175\n",
       "20       160\n",
       "22       132\n",
       "17       119\n",
       "28       112\n",
       "27       108\n",
       "23        92\n",
       "21        84\n",
       "39        78\n",
       "75        75\n",
       "34        68\n",
       "32        64\n",
       "30        60\n",
       "60        60\n",
       "59        59\n",
       "55        55\n",
       "53        53\n",
       "26        52\n",
       "52        52\n",
       "51        51\n",
       "45        45\n",
       "40        40\n",
       "37        37\n",
       "33        33\n",
       "31        31\n",
       "24        24\n",
       "Name: count_creator_id, dtype: int64"
      ]
     },
     "execution_count": 446,
     "metadata": {},
     "output_type": "execute_result"
    }
   ],
   "source": [
    "# count double entires in the column \"creator_id\"\n",
    "df2[\"count_creator_id\"] = df.groupby(\"creator_id\")[\"creator_id\"].transform('count')\n",
    "df2[\"count_creator_id\"].value_counts()"
   ]
  },
  {
   "cell_type": "markdown",
   "metadata": {},
   "source": [
    "### country_us"
   ]
  },
  {
   "cell_type": "code",
   "execution_count": 447,
   "metadata": {},
   "outputs": [],
   "source": [
    "# create dummie variables from column \"country\"\n",
    "dummies_country = pd.get_dummies(df2[\"country\"])\n",
    "df2[\"country_US\"] = dummies_country[\"US\"]"
   ]
  },
  {
   "cell_type": "markdown",
   "metadata": {},
   "source": [
    "## Remove everything that is not needed anymore"
   ]
  },
  {
   "cell_type": "markdown",
   "metadata": {},
   "source": [
    "remove:\n",
    "* is_backing and is_starred as there are no entries left\n",
    "* goal as it has been converted to USD_goal and us_static_rate as it is not needed anymore\n",
    "* converted_pledge_amount and pledged as we have usd_pledge\n",
    "* blurb as we have has or has not blurb\n",
    "* launched_at, deadline\n",
    "* blurb, as it has been replaced by length of Blurb\n",
    "* profile_test_id and profile_test_project_id are the same\n",
    "* name \n",
    "* fx_rate -> exchange rate but not as accurate as static_usd_rate\n",
    "* is_starreable + disable_communication are all = False\n",
    "* usd_pledged, we can not influence it and are more interested in the usd_goal"
   ]
  },
  {
   "cell_type": "code",
   "execution_count": 448,
   "metadata": {},
   "outputs": [],
   "source": [
    "df2.drop(['blurb','category','category_color','category_id','category_parent_id','category_position',\\\n",
    "          'category_slug','category_urls','categorynew','creator','created_at','creator_id',\\\n",
    "          'converted_pledged_amount','current_currency','deadline','disable_communication','fx_rate','goal',\\\n",
    "          'id','is_backing','is_starred','is_starrable','location','launched_at','location_displayable_name',\\\n",
    "          'location_is_root','location_id','location_localized_name','location_name','locationnew',\\\n",
    "          'location_slug','location_state', 'location_short_name','location_urls','name',\\\n",
    "          'pledged','profile_test_blurb','profile_test_project_id','profile','profile_test','profile_testnew',\\\n",
    "          'profile_test_dummy','profile_test_state_changed_at','profile_test_id','profile_test_state',\\\n",
    "          'static_usd_rate','state_changed_at','slug','spotlight','usd_pledged'],axis=1,inplace=True)\n",
    "df2.drop(['currency_trailing_code','count_id','actDuration','t2start','category_name'],axis=1,inplace=True)"
   ]
  },
  {
   "cell_type": "code",
   "execution_count": 449,
   "metadata": {},
   "outputs": [
    {
     "data": {
      "text/html": [
       "<div>\n",
       "<style scoped>\n",
       "    .dataframe tbody tr th:only-of-type {\n",
       "        vertical-align: middle;\n",
       "    }\n",
       "\n",
       "    .dataframe tbody tr th {\n",
       "        vertical-align: top;\n",
       "    }\n",
       "\n",
       "    .dataframe thead th {\n",
       "        text-align: right;\n",
       "    }\n",
       "</style>\n",
       "<table border=\"1\" class=\"dataframe\">\n",
       "  <thead>\n",
       "    <tr style=\"text-align: right;\">\n",
       "      <th></th>\n",
       "      <th>Number</th>\n",
       "    </tr>\n",
       "  </thead>\n",
       "  <tbody>\n",
       "    <tr>\n",
       "      <th>usd_type</th>\n",
       "      <td>38</td>\n",
       "    </tr>\n",
       "  </tbody>\n",
       "</table>\n",
       "</div>"
      ],
      "text/plain": [
       "          Number\n",
       "usd_type      38"
      ]
     },
     "execution_count": 449,
     "metadata": {},
     "output_type": "execute_result"
    }
   ],
   "source": [
    "missing = pd.DataFrame(df2.isnull().sum(),columns=['Number'])\n",
    "missing[missing.Number!=0]"
   ]
  },
  {
   "cell_type": "code",
   "execution_count": 450,
   "metadata": {},
   "outputs": [
    {
     "data": {
      "text/plain": [
       "domestic         97437\n",
       "international    95189\n",
       "Name: usd_type, dtype: int64"
      ]
     },
     "execution_count": 450,
     "metadata": {},
     "output_type": "execute_result"
    }
   ],
   "source": [
    "df2.usd_type.value_counts()"
   ]
  },
  {
   "cell_type": "code",
   "execution_count": 451,
   "metadata": {},
   "outputs": [
    {
     "data": {
      "text/plain": [
       "backers_count        3206\n",
       "country                22\n",
       "currency               14\n",
       "staff_pick              2\n",
       "state                   2\n",
       "usd_type                2\n",
       "location_country      196\n",
       "location_type          10\n",
       "USD_goal            46164\n",
       "Duration            47963\n",
       "blurbLength           153\n",
       "NameLength             85\n",
       "parent_category        15\n",
       "count_creator_id       44\n",
       "country_US              2\n",
       "dtype: int64"
      ]
     },
     "execution_count": 451,
     "metadata": {},
     "output_type": "execute_result"
    }
   ],
   "source": [
    "df2.nunique()"
   ]
  },
  {
   "cell_type": "code",
   "execution_count": 452,
   "metadata": {},
   "outputs": [
    {
     "data": {
      "text/plain": [
       "(192664, 15)"
      ]
     },
     "execution_count": 452,
     "metadata": {},
     "output_type": "execute_result"
    }
   ],
   "source": [
    "df2.shape"
   ]
  },
  {
   "cell_type": "code",
   "execution_count": 453,
   "metadata": {},
   "outputs": [],
   "source": [
    "#len(df2.creator_id[df2.creator_id.duplicated()==True])"
   ]
  },
  {
   "cell_type": "code",
   "execution_count": 454,
   "metadata": {},
   "outputs": [],
   "source": [
    "#len(df2.profile_test_id[df2.profile_test_id.duplicated(keep=False)==True])"
   ]
  },
  {
   "cell_type": "code",
   "execution_count": 455,
   "metadata": {},
   "outputs": [
    {
     "data": {
      "text/plain": [
       "['country',\n",
       " 'currency',\n",
       " 'usd_type',\n",
       " 'location_country',\n",
       " 'location_type',\n",
       " 'parent_category']"
      ]
     },
     "execution_count": 455,
     "metadata": {},
     "output_type": "execute_result"
    }
   ],
   "source": [
    "## identify categorical and numeric variables\n",
    "cat_features = list(df2.columns[df2.dtypes==object])\n",
    "cat_features.remove('state')\n",
    "cat_features"
   ]
  },
  {
   "cell_type": "code",
   "execution_count": 456,
   "metadata": {},
   "outputs": [
    {
     "data": {
      "text/plain": [
       "['backers_count',\n",
       " 'staff_pick',\n",
       " 'USD_goal',\n",
       " 'Duration',\n",
       " 'blurbLength',\n",
       " 'NameLength',\n",
       " 'count_creator_id',\n",
       " 'country_US']"
      ]
     },
     "execution_count": 456,
     "metadata": {},
     "output_type": "execute_result"
    }
   ],
   "source": [
    "num_features = list(df2.columns[df2.dtypes!=object])\n",
    "num_features"
   ]
  },
  {
   "cell_type": "markdown",
   "metadata": {},
   "source": [
    "## Split data in test and training data"
   ]
  },
  {
   "cell_type": "code",
   "execution_count": 457,
   "metadata": {},
   "outputs": [
    {
     "name": "stdout",
     "output_type": "stream",
     "text": [
      "(192664, 14)\n",
      "(192664,)\n"
     ]
    }
   ],
   "source": [
    "# Define predictors and target variable\n",
    "X = df2.drop('state', axis=1)\n",
    "y = df2['state']\n",
    "print(X.shape)\n",
    "print(y.shape)"
   ]
  },
  {
   "cell_type": "code",
   "execution_count": 458,
   "metadata": {},
   "outputs": [
    {
     "name": "stdout",
     "output_type": "stream",
     "text": [
      "X_train shape: (144498, 14)\n",
      "X_test shape: (48166, 14)\n",
      "y_train shape: (144498,)\n",
      "y_test shape: (48166,)\n"
     ]
    }
   ],
   "source": [
    "# Split into train and test set \n",
    "X_train, X_test, y_train, y_test = train_test_split(X, y, test_size=0.25, random_state=RSEED)\n",
    "print('X_train shape:', X_train.shape)\n",
    "print('X_test shape:', X_test.shape)\n",
    "print('y_train shape:', y_train.shape)\n",
    "print('y_test shape:', y_test.shape)"
   ]
  },
  {
   "cell_type": "code",
   "execution_count": 459,
   "metadata": {},
   "outputs": [
    {
     "data": {
      "text/plain": [
       "Index(['backers_count', 'country', 'currency', 'staff_pick', 'usd_type',\n",
       "       'location_country', 'location_type', 'USD_goal', 'Duration',\n",
       "       'blurbLength', 'NameLength', 'parent_category', 'count_creator_id',\n",
       "       'country_US'],\n",
       "      dtype='object')"
      ]
     },
     "execution_count": 459,
     "metadata": {},
     "output_type": "execute_result"
    }
   ],
   "source": [
    "X_train.columns"
   ]
  },
  {
   "cell_type": "code",
   "execution_count": 460,
   "metadata": {},
   "outputs": [
    {
     "data": {
      "text/plain": [
       "Index(['backers_count', 'country', 'currency', 'staff_pick', 'usd_type',\n",
       "       'location_country', 'location_type', 'USD_goal', 'Duration',\n",
       "       'blurbLength', 'NameLength', 'parent_category', 'count_creator_id',\n",
       "       'country_US', 'state'],\n",
       "      dtype='object')"
      ]
     },
     "execution_count": 460,
     "metadata": {},
     "output_type": "execute_result"
    }
   ],
   "source": [
    "train_data = X_train.join(y_train)\n",
    "train_data.columns"
   ]
  },
  {
   "cell_type": "markdown",
   "metadata": {},
   "source": [
    "## Some statistics"
   ]
  },
  {
   "cell_type": "markdown",
   "metadata": {},
   "source": [
    "### Correlogramm"
   ]
  },
  {
   "cell_type": "code",
   "execution_count": 461,
   "metadata": {
    "code_folding": []
   },
   "outputs": [
    {
     "data": {
      "image/png": "[encoded data removed]",
      "text/plain": [
       "<Figure size 576x396 with 2 Axes>"
      ]
     },
     "metadata": {},
     "output_type": "display_data"
    }
   ],
   "source": [
    "continuous_var = list(train_data.select_dtypes(\n",
    "                        ['int64','float64','bool']).columns.values)\n",
    "continuous_var.append('state')\n",
    "X_dum=pd.get_dummies(df2[continuous_var].copy())\n",
    "mask = np.triu(X_dum.corr())\n",
    "ax = sns.heatmap(round(X_dum.corr()*100.0)\n",
    "                ,annot=True\n",
    "                ,mask=mask,\n",
    "                cmap='coolwarm')\n",
    "ax.set_ylim((0,9))\n",
    "plt.savefig('figures/correlogram.png')"
   ]
  },
  {
   "cell_type": "markdown",
   "metadata": {},
   "source": [
    "* there is a strong correlation between backers_count and usd_pledged\n",
    "* find out how to increase backers_count"
   ]
  },
  {
   "cell_type": "code",
   "execution_count": 462,
   "metadata": {},
   "outputs": [
    {
     "data": {
      "image/png": "[encoded data removed]",
      "text/plain": [
       "<Figure size 450.725x360 with 1 Axes>"
      ]
     },
     "metadata": {},
     "output_type": "display_data"
    }
   ],
   "source": [
    "g = sns.lmplot(x='usd_pledged', y='backers_count', hue='state',data=df)\n",
    "#sns.regplot(x=\"x\", y=\"y\", data=df, scatter=False, ax=g.axes[0, 0])\n",
    "#sns.regplot(x=df.state,y = df.backers_count, scatter=False, ax=g.axes[0, 0]);"
   ]
  },
  {
   "cell_type": "code",
   "execution_count": 463,
   "metadata": {},
   "outputs": [
    {
     "data": {
      "image/png": "[encoded data removed]",
      "text/plain": [
       "<Figure size 450.725x360 with 1 Axes>"
      ]
     },
     "metadata": {},
     "output_type": "display_data"
    }
   ],
   "source": [
    "g = sns.lmplot(x='USD_goal', y='backers_count', hue='state',data=train_data)\n",
    "#sns.regplot(x=\"x\", y=\"y\", data=df, scatter=False, ax=g.axes[0, 0])\n",
    "#sns.regplot(x=df.state,y = df.backers_count, scatter=False, ax=g.axes[0, 0]);"
   ]
  },
  {
   "cell_type": "markdown",
   "metadata": {},
   "source": [
    "### Success"
   ]
  },
  {
   "cell_type": "code",
   "execution_count": 222,
   "metadata": {},
   "outputs": [
    {
     "data": {
      "image/png": "[encoded data removed]",
      "text/plain": [
       "<Figure size 576x396 with 1 Axes>"
      ]
     },
     "metadata": {},
     "output_type": "display_data"
    }
   ],
   "source": [
    "ax = sns.countplot(x=\"state\", data=train_data)"
   ]
  },
  {
   "cell_type": "code",
   "execution_count": 223,
   "metadata": {},
   "outputs": [
    {
     "data": {
      "image/png": "[encoded data removed]",
      "text/plain": [
       "<Figure size 576x396 with 1 Axes>"
      ]
     },
     "metadata": {},
     "output_type": "display_data"
    }
   ],
   "source": [
    "ax= sns.boxplot(x=\"state\", y= \"USD_goal\", data=train_data)\n",
    "ax.set(ylim=(0, 60000));"
   ]
  },
  {
   "cell_type": "code",
   "execution_count": 224,
   "metadata": {},
   "outputs": [
    {
     "data": {
      "text/plain": [
       "state\n",
       "failed        7213.27935\n",
       "successful    3500.00000\n",
       "Name: USD_goal, dtype: float64"
      ]
     },
     "execution_count": 224,
     "metadata": {},
     "output_type": "execute_result"
    }
   ],
   "source": [
    "train_data.groupby(\"state\")[\"USD_goal\"].median()"
   ]
  },
  {
   "cell_type": "code",
   "execution_count": 225,
   "metadata": {},
   "outputs": [
    {
     "data": {
      "image/png": "[encoded data removed]",
      "text/plain": [
       "<Figure size 576x396 with 1 Axes>"
      ]
     },
     "metadata": {},
     "output_type": "display_data"
    }
   ],
   "source": [
    "ax = sns.barplot(x=\"state\", y=\"USD_goal\", data=train_data, estimator=median)\n"
   ]
  },
  {
   "cell_type": "markdown",
   "metadata": {},
   "source": [
    "### Country"
   ]
  },
  {
   "cell_type": "code",
   "execution_count": 226,
   "metadata": {},
   "outputs": [
    {
     "data": {
      "image/png": "[encoded data removed]",
      "text/plain": [
       "<Figure size 576x396 with 1 Axes>"
      ]
     },
     "metadata": {},
     "output_type": "display_data"
    }
   ],
   "source": [
    "ax = sns.countplot(x=\"country\", data=train_data)\n"
   ]
  },
  {
   "cell_type": "code",
   "execution_count": 230,
   "metadata": {},
   "outputs": [
    {
     "data": {
      "text/plain": [
       "<matplotlib.axes._subplots.AxesSubplot at 0x7f8dd4dc5f98>"
      ]
     },
     "execution_count": 230,
     "metadata": {},
     "output_type": "execute_result"
    },
    {
     "data": {
      "image/png": "[encoded data removed]",
      "text/plain": [
       "<Figure size 576x396 with 1 Axes>"
      ]
     },
     "metadata": {},
     "output_type": "display_data"
    }
   ],
   "source": [
    "sns.countplot(x=\"state\", data=train_data, hue=\"country\")"
   ]
  },
  {
   "cell_type": "code",
   "execution_count": 231,
   "metadata": {},
   "outputs": [
    {
     "data": {
      "image/png": "[encoded data removed]",
      "text/plain": [
       "<Figure size 576x396 with 1 Axes>"
      ]
     },
     "metadata": {},
     "output_type": "display_data"
    }
   ],
   "source": [
    "ax= sns.barplot(x=\"state\", y= \"USD_goal\", data= train_data, estimator= median, hue=\"country\")\n"
   ]
  },
  {
   "cell_type": "code",
   "execution_count": 232,
   "metadata": {},
   "outputs": [
    {
     "data": {
      "image/png": "[encoded data removed]",
      "text/plain": [
       "<Figure size 720x360 with 2 Axes>"
      ]
     },
     "metadata": {},
     "output_type": "display_data"
    }
   ],
   "source": [
    "sns.catplot(x=\"state\", y=\"USD_goal\",\n",
    "                col=\"country_US\", estimator= median,\n",
    "                kind=\"bar\",\n",
    "                data=train_data);"
   ]
  },
  {
   "cell_type": "code",
   "execution_count": 404,
   "metadata": {},
   "outputs": [
    {
     "data": {
      "text/plain": [
       "Index(['AT', 'AU', 'BE', 'CA', 'CH', 'DE', 'DK', 'ES', 'FR', 'GB', 'HK', 'IE',\n",
       "       'IT', 'JP', 'LU', 'MX', 'NL', 'NO', 'NZ', 'SE', 'SG', 'US'],\n",
       "      dtype='object')"
      ]
     },
     "execution_count": 404,
     "metadata": {},
     "output_type": "execute_result"
    }
   ],
   "source": [
    "# calculate number of number of counts per country\n",
    "num_per_country = train_data[\"country\"].value_counts()#.iloc[:5].index\n",
    "num_suc_per_country = train_data.country[train_data[\"state\"]==\"successful\"].value_counts()\n",
    "per_suc_per_county = num_suc_per_country/num_per_country*100\n",
    "per_suc_per_county.index"
   ]
  },
  {
   "cell_type": "code",
   "execution_count": 414,
   "metadata": {},
   "outputs": [],
   "source": [
    "#fhelp = pd.DataFrame(per_suc_per_county,per_suc_per_county.index,columns=['per_suc_per_county','per_suc_per_countyIndex'])\n",
    "SucCountry = per_suc_per_county.sort_values(ascending=False)"
   ]
  },
  {
   "cell_type": "code",
   "execution_count": 416,
   "metadata": {},
   "outputs": [
    {
     "data": {
      "image/png": "[encoded data removed]",
      "text/plain": [
       "<Figure size 864x360 with 1 Axes>"
      ]
     },
     "metadata": {},
     "output_type": "display_data"
    }
   ],
   "source": [
    "plt.figure(figsize=(12,5))\n",
    "ax= sns.barplot(x=SucCountry.index, y= SucCountry, palette='pastel')\n",
    "#ax.ylabel(\"Goal (in USD)\", fontsize = 12)\n",
    "#ax.xlabel(\"Category\", fontsize = 12)\n",
    "ax.set_xlabel(\"Country\",fontsize=14);\n",
    "ax.set_ylabel(\"Percent successful\",fontsize=14);\n",
    "ax.set_title(\"Percent of successful projects per country\",fontsize=14);\n",
    "plt.savefig('figures/Country_succes_inPercent.png')"
   ]
  },
  {
   "cell_type": "code",
   "execution_count": 418,
   "metadata": {},
   "outputs": [
    {
     "data": {
      "image/png": "[encoded data removed]",
      "text/plain": [
       "<Figure size 864x360 with 1 Axes>"
      ]
     },
     "metadata": {},
     "output_type": "display_data"
    }
   ],
   "source": [
    "plt.figure(figsize=(12,5))\n",
    "ax = sns.countplot(x=\"country\",data=train_data[train_data[\"state\"]==\"successful\"], order=train_data[\"country\"].value_counts().iloc[:5].index)\n",
    "ax.set_xlabel(\"Country\",fontsize=14);\n",
    "ax.set_ylabel(\"Number of successful projects\",fontsize=14);\n",
    "ax.set_title(\"Number of successful projects per country\",fontsize=14);\n",
    "plt.savefig('figures/Country_succes_count.png')"
   ]
  },
  {
   "cell_type": "markdown",
   "metadata": {},
   "source": [
    "### ID"
   ]
  },
  {
   "cell_type": "code",
   "execution_count": 236,
   "metadata": {},
   "outputs": [
    {
     "data": {
      "text/plain": [
       "1    145294\n",
       "2     47370\n",
       "Name: count_id, dtype: int64"
      ]
     },
     "execution_count": 236,
     "metadata": {},
     "output_type": "execute_result"
    }
   ],
   "source": [
    "df[\"count_id\"].value_counts()"
   ]
  },
  {
   "cell_type": "code",
   "execution_count": 238,
   "metadata": {},
   "outputs": [
    {
     "data": {
      "image/png": "[encoded data removed]",
      "text/plain": [
       "<Figure size 576x396 with 1 Axes>"
      ]
     },
     "metadata": {},
     "output_type": "display_data"
    }
   ],
   "source": [
    "ax = sns.countplot(x=\"count_id\", data=df)"
   ]
  },
  {
   "cell_type": "code",
   "execution_count": 240,
   "metadata": {},
   "outputs": [
    {
     "data": {
      "text/plain": [
       "<matplotlib.axes._subplots.AxesSubplot at 0x7f8e06ec4b70>"
      ]
     },
     "execution_count": 240,
     "metadata": {},
     "output_type": "execute_result"
    },
    {
     "data": {
      "image/png": "[encoded data removed]",
      "text/plain": [
       "<Figure size 576x396 with 1 Axes>"
      ]
     },
     "metadata": {},
     "output_type": "display_data"
    }
   ],
   "source": [
    "sns.countplot(x=\"state\", data=df, hue=\"count_id\")"
   ]
  },
  {
   "cell_type": "markdown",
   "metadata": {},
   "source": [
    "### Category"
   ]
  },
  {
   "cell_type": "code",
   "execution_count": 73,
   "metadata": {},
   "outputs": [
    {
     "data": {
      "image/png": "[encoded data removed]",
      "text/plain": [
       "<Figure size 1584x360 with 1 Axes>"
      ]
     },
     "metadata": {},
     "output_type": "display_data"
    }
   ],
   "source": [
    "plt.figure(figsize=(22,5))\n",
    "ax = sns.countplot(x=\"parent_category\", hue= \"state\", data=train_data)"
   ]
  },
  {
   "cell_type": "code",
   "execution_count": 419,
   "metadata": {},
   "outputs": [
    {
     "data": {
      "image/png": "[encoded data removed]",
      "text/plain": [
       "<Figure size 1584x360 with 1 Axes>"
      ]
     },
     "metadata": {},
     "output_type": "display_data"
    }
   ],
   "source": [
    "plt.figure(figsize=(22,5))\n",
    "ax= sns.barplot(x=\"parent_category\", y= \"USD_goal\",hue='state', data= train_data, estimator= median, palette=sns.xkcd_palette(['sky blue','dark magenta']))\n",
    "#ax.ylabel(\"Goal (in USD)\", fontsize = 12)\n",
    "#ax.xlabel(\"Category\", fontsize = 12)\n",
    "ax.set_xlabel(\"Category\",fontsize=14);\n",
    "ax.set_ylabel(\"Goal (in USD)\",fontsize=14);\n",
    "ax.set_title(\"Number of successful projects per country\",fontsize=14);\n",
    "plt.xticks(fontsize= 18)\n",
    "plt.savefig('figures/Category_fail_vs_Goal.png')"
   ]
  },
  {
   "cell_type": "markdown",
   "metadata": {},
   "source": [
    "### blurb_count"
   ]
  },
  {
   "cell_type": "code",
   "execution_count": 370,
   "metadata": {},
   "outputs": [
    {
     "data": {
      "image/png": "[encoded data removed]",
      "text/plain": [
       "<Figure size 450.725x360 with 1 Axes>"
      ]
     },
     "metadata": {},
     "output_type": "display_data"
    }
   ],
   "source": [
    "g = sns.lmplot(x='blurbLength', y='backers_count', hue='state',data=train_data,palette=sns.xkcd_palette(['sky blue','dark magenta']))\n",
    "g.set(xlabel='Blurb length', ylabel='Number of backers')\n",
    "#g.set_xlabel(\"Blurb length\",fontsize=14);\n",
    "#g.set_ylabel(\"Number of backers\",fontsize=14);\n",
    "plt.savefig('figures/BlurbLength_vs_backers.png')"
   ]
  },
  {
   "cell_type": "code",
   "execution_count": 517,
   "metadata": {},
   "outputs": [
    {
     "data": {
      "image/png": "[encoded data removed]",
      "text/plain": [
       "<Figure size 450.725x360 with 1 Axes>"
      ]
     },
     "metadata": {},
     "output_type": "display_data"
    }
   ],
   "source": [
    "g = sns.lmplot(x='NameLength', y='USD_goal', hue='state',data=train_data,palette=sns.xkcd_palette(['sky blue','dark magenta']))\n",
    "g.set(xlabel='Name length', ylabel='Number of backers')\n",
    "#g.set_xlabel(\"Blurb length\",fontsize=14);\n",
    "#g.set_ylabel(\"Number of backers\",fontsize=14);\n",
    "plt.savefig('figures/NameLength_vs_backers.png')"
   ]
  },
  {
   "cell_type": "markdown",
   "metadata": {},
   "source": [
    "# Predictive Modelling"
   ]
  },
  {
   "cell_type": "markdown",
   "metadata": {},
   "source": [
    "* FirstRound included currency_trailing_code, count_id, actDuration, t2start, category_name\n",
    "* these were removed in second round"
   ]
  },
  {
   "cell_type": "markdown",
   "metadata": {},
   "source": [
    "## Built a pipeline"
   ]
  },
  {
   "cell_type": "code",
   "execution_count": 284,
   "metadata": {},
   "outputs": [],
   "source": [
    "# Pipline for numerical features\n",
    "num_pipeline = Pipeline([\n",
    "    ('imputer_num',SimpleImputer(strategy='median')),\n",
    "     ('std_scaler', StandardScaler())])\n",
    "    \n",
    "# Pipeline for categorical features \n",
    "cat_pipeline = Pipeline([\n",
    "    ('imputer_cat', SimpleImputer(strategy='constant', fill_value='missing')),\n",
    "    ('1hot', OneHotEncoder(handle_unknown='ignore'))])"
   ]
  },
  {
   "cell_type": "code",
   "execution_count": 285,
   "metadata": {},
   "outputs": [],
   "source": [
    "# Complete pipeline\n",
    "preprocessor = ColumnTransformer([\n",
    "    ('num', num_pipeline, num_features),\n",
    "    ('cat', cat_pipeline, cat_features)])"
   ]
  },
  {
   "cell_type": "markdown",
   "metadata": {},
   "source": [
    "## Logistic regression"
   ]
  },
  {
   "cell_type": "code",
   "execution_count": 286,
   "metadata": {},
   "outputs": [
    {
     "data": {
      "text/plain": [
       "['country',\n",
       " 'currency',\n",
       " 'usd_type',\n",
       " 'location_country',\n",
       " 'location_type',\n",
       " 'parent_category']"
      ]
     },
     "execution_count": 286,
     "metadata": {},
     "output_type": "execute_result"
    }
   ],
   "source": [
    "cat_features"
   ]
  },
  {
   "cell_type": "code",
   "execution_count": 324,
   "metadata": {},
   "outputs": [
    {
     "data": {
      "text/plain": [
       "['backers_count',\n",
       " 'staff_pick',\n",
       " 'USD_goal',\n",
       " 'Duration',\n",
       " 'blurbLength',\n",
       " 'NameLength',\n",
       " 'count_creator_id',\n",
       " 'country_US']"
      ]
     },
     "execution_count": 324,
     "metadata": {},
     "output_type": "execute_result"
    }
   ],
   "source": [
    "num_features"
   ]
  },
  {
   "cell_type": "code",
   "execution_count": 287,
   "metadata": {},
   "outputs": [],
   "source": [
    "pipe_logreg = Pipeline([\n",
    "    ('preprocessor', preprocessor),\n",
    "    ('logreg', LogisticRegression(max_iter=1000))\n",
    "])\n",
    "# Making predictions on the training set using cross validation as well as calculating the probabilities \n",
    "y_train_predicted = cross_val_predict(pipe_logreg, X_train, y_train, cv=5)"
   ]
  },
  {
   "cell_type": "code",
   "execution_count": 288,
   "metadata": {},
   "outputs": [
    {
     "name": "stdout",
     "output_type": "stream",
     "text": [
      "Cross validation scores:\n",
      "-------------------------\n",
      "              precision    recall  f1-score   support\n",
      "\n",
      "      failed       0.87      0.89      0.88     56545\n",
      "  successful       0.93      0.91      0.92     87953\n",
      "\n",
      "    accuracy                           0.91    144498\n",
      "   macro avg       0.90      0.90      0.90    144498\n",
      "weighted avg       0.91      0.91      0.91    144498\n",
      "\n"
     ]
    }
   ],
   "source": [
    "# Calculating the accuracy for the LogisticRegression Classifier \n",
    "print('Cross validation scores:')\n",
    "print('-------------------------')\n",
    "print(classification_report(y_train, y_train_predicted))"
   ]
  },
  {
   "cell_type": "markdown",
   "metadata": {},
   "source": [
    "## Random Forrest"
   ]
  },
  {
   "cell_type": "code",
   "execution_count": 291,
   "metadata": {},
   "outputs": [],
   "source": [
    "pipe_R_forest= Pipeline([('preprocessor', preprocessor),\n",
    "                         ('R_Forrest_classifier', RandomForestClassifier(n_estimators=70))])"
   ]
  },
  {
   "cell_type": "code",
   "execution_count": 292,
   "metadata": {},
   "outputs": [],
   "source": [
    "# Making predictions on the training set using cross validation as well as calculating the probabilities \n",
    "y_train_predicted = cross_val_predict(pipe_R_forest, X_train, y_train, cv=5)"
   ]
  },
  {
   "cell_type": "code",
   "execution_count": 293,
   "metadata": {},
   "outputs": [
    {
     "name": "stdout",
     "output_type": "stream",
     "text": [
      "Cross validation scores:\n",
      "-------------------------\n",
      "              precision    recall  f1-score   support\n",
      "\n",
      "      failed       0.95      0.90      0.93     56545\n",
      "  successful       0.94      0.97      0.96     87953\n",
      "\n",
      "    accuracy                           0.94    144498\n",
      "   macro avg       0.95      0.94      0.94    144498\n",
      "weighted avg       0.94      0.94      0.94    144498\n",
      "\n"
     ]
    }
   ],
   "source": [
    "# Calculating the accuracy for the LogisticRegression Classifier \n",
    "print('Cross validation scores:')\n",
    "print('-------------------------')\n",
    "print(classification_report(y_train, y_train_predicted))"
   ]
  },
  {
   "cell_type": "markdown",
   "metadata": {},
   "source": [
    "CVScore  \n",
    "\n",
    "              precision    recall  f1-score   support\n",
    "\n",
    "      failed       0.96      0.93      0.94     56545\n",
    "  successful       0.96      0.97      0.96     87953\n",
    "\n",
    "    accuracy                           0.96    144498\n",
    "   macro avg       0.96      0.95      0.95    144498\n",
    "weighted avg       0.96      0.96      0.96    144498"
   ]
  },
  {
   "cell_type": "markdown",
   "metadata": {},
   "source": [
    "## Ada_boost"
   ]
  },
  {
   "cell_type": "code",
   "execution_count": 294,
   "metadata": {},
   "outputs": [],
   "source": [
    "pipe_R_adaBoost= Pipeline([('preprocessor', preprocessor),\n",
    "                         ('Ada_classifier', AdaBoostClassifier(random_state = RSEED,\\\n",
    "                                                           base_estimator=DecisionTreeClassifier()))])"
   ]
  },
  {
   "cell_type": "code",
   "execution_count": 295,
   "metadata": {},
   "outputs": [],
   "source": [
    "# Making predictions on the training set using cross validation as well as calculating the probabilities \n",
    "y_train_predicted = cross_val_predict(pipe_R_adaBoost, X_train, y_train, cv=5)"
   ]
  },
  {
   "cell_type": "code",
   "execution_count": 296,
   "metadata": {},
   "outputs": [
    {
     "name": "stdout",
     "output_type": "stream",
     "text": [
      "Cross validation scores:\n",
      "-------------------------\n",
      "              precision    recall  f1-score   support\n",
      "\n",
      "      failed       0.91      0.90      0.91     56545\n",
      "  successful       0.94      0.94      0.94     87953\n",
      "\n",
      "    accuracy                           0.93    144498\n",
      "   macro avg       0.92      0.92      0.92    144498\n",
      "weighted avg       0.93      0.93      0.93    144498\n",
      "\n"
     ]
    }
   ],
   "source": [
    "# Calculating the accuracy for the AdaBoost Classifier \n",
    "print('Cross validation scores:')\n",
    "print('-------------------------')\n",
    "print(classification_report(y_train, y_train_predicted))"
   ]
  },
  {
   "cell_type": "markdown",
   "metadata": {},
   "source": [
    "Cross validation scores:  \n",
    "              precision    recall  f1-score   support\n",
    "\n",
    "      failed       0.93      0.93      0.93     56545\n",
    "  successful       0.95      0.95      0.95     87953\n",
    "\n",
    "    accuracy                           0.94    144498\n",
    "   macro avg       0.94      0.94      0.94    144498\n",
    "weighted avg       0.94      0.94      0.94    144498"
   ]
  },
  {
   "cell_type": "markdown",
   "metadata": {},
   "source": [
    "## SVC"
   ]
  },
  {
   "cell_type": "code",
   "execution_count": 312,
   "metadata": {},
   "outputs": [],
   "source": [
    "pipe_R_svc= Pipeline([('preprocessor', preprocessor),\n",
    "                        ('svc_classifier', SVC(random_state = RSEED))])"
   ]
  },
  {
   "cell_type": "code",
   "execution_count": 313,
   "metadata": {},
   "outputs": [
    {
     "name": "stderr",
     "output_type": "stream",
     "text": [
      "[Parallel(n_jobs=1)]: Using backend SequentialBackend with 1 concurrent workers.\n",
      "[Parallel(n_jobs=1)]: Done   1 out of   1 | elapsed: 16.8min remaining:    0.0s\n",
      "[Parallel(n_jobs=1)]: Done   2 out of   2 | elapsed: 31.9min remaining:    0.0s\n",
      "[Parallel(n_jobs=1)]: Done   3 out of   3 | elapsed: 43.6min remaining:    0.0s\n",
      "[Parallel(n_jobs=1)]: Done   4 out of   4 | elapsed: 55.6min remaining:    0.0s\n",
      "[Parallel(n_jobs=1)]: Done   5 out of   5 | elapsed: 67.1min remaining:    0.0s\n",
      "[Parallel(n_jobs=1)]: Done   5 out of   5 | elapsed: 67.1min finished\n"
     ]
    }
   ],
   "source": [
    "# Making predictions on the training set using cross validation as well as calculating the probabilities \n",
    "y_train_predicted = cross_val_predict(pipe_R_svc, X_train, y_train, cv=5,verbose=8)"
   ]
  },
  {
   "cell_type": "code",
   "execution_count": 314,
   "metadata": {},
   "outputs": [
    {
     "name": "stdout",
     "output_type": "stream",
     "text": [
      "Cross validation scores:\n",
      "-------------------------\n",
      "              precision    recall  f1-score   support\n",
      "\n",
      "      failed       0.84      0.86      0.85     56545\n",
      "  successful       0.91      0.89      0.90     87953\n",
      "\n",
      "    accuracy                           0.88    144498\n",
      "   macro avg       0.87      0.88      0.87    144498\n",
      "weighted avg       0.88      0.88      0.88    144498\n",
      "\n"
     ]
    }
   ],
   "source": [
    "# Calculating the accuracy for the LogisticRegression Classifier \n",
    "print('Cross validation scores:')\n",
    "print('-------------------------')\n",
    "print(classification_report(y_train, y_train_predicted))"
   ]
  },
  {
   "cell_type": "markdown",
   "metadata": {},
   "source": [
    "Cross validation scores:\n",
    "\n",
    "              precision    recall  f1-score   support\n",
    "\n",
    "      failed       0.84      0.93      0.88     56545\n",
    "  successful       0.95      0.89      0.92     87953\n",
    "\n",
    "    accuracy                           0.90    144498\n",
    "   macro avg       0.90      0.91      0.90    144498\n",
    "weighted avg       0.91      0.90      0.90    144498"
   ]
  },
  {
   "cell_type": "markdown",
   "metadata": {},
   "source": [
    "## Grid Search"
   ]
  },
  {
   "cell_type": "markdown",
   "metadata": {},
   "source": [
    "### Logistic Regression"
   ]
  },
  {
   "cell_type": "code",
   "execution_count": 316,
   "metadata": {},
   "outputs": [],
   "source": [
    "params_logreg = {'logreg__penalty':('l1','l2'),\n",
    "                'logreg__C': [ 0.1, 1, 10, 100]\n",
    "               } \n",
    "# removed 0.01 in second Round\n",
    "grid_logreg = GridSearchCV(pipe_logreg, param_grid=params_logreg, cv=3, scoring='accuracy', \n",
    "                           verbose=8, n_jobs=-1)\n"
   ]
  },
  {
   "cell_type": "code",
   "execution_count": 317,
   "metadata": {},
   "outputs": [
    {
     "name": "stdout",
     "output_type": "stream",
     "text": [
      "Fitting 3 folds for each of 8 candidates, totalling 24 fits\n"
     ]
    },
    {
     "name": "stderr",
     "output_type": "stream",
     "text": [
      "[Parallel(n_jobs=-1)]: Using backend LokyBackend with 4 concurrent workers.\n",
      "[Parallel(n_jobs=-1)]: Done  10 tasks      | elapsed:    8.2s\n",
      "[Parallel(n_jobs=-1)]: Done  22 out of  24 | elapsed:   31.3s remaining:    2.8s\n",
      "[Parallel(n_jobs=-1)]: Done  24 out of  24 | elapsed:   35.8s finished\n",
      "/Users/sandra/opt/anaconda3/envs/nf/lib/python3.6/site-packages/sklearn/linear_model/_logistic.py:940: ConvergenceWarning: lbfgs failed to converge (status=1):\n",
      "STOP: TOTAL NO. of ITERATIONS REACHED LIMIT.\n",
      "\n",
      "Increase the number of iterations (max_iter) or scale the data as shown in:\n",
      "    https://scikit-learn.org/stable/modules/preprocessing.html\n",
      "Please also refer to the documentation for alternative solver options:\n",
      "    https://scikit-learn.org/stable/modules/linear_model.html#logistic-regression\n",
      "  extra_warning_msg=_LOGISTIC_SOLVER_CONVERGENCE_MSG)\n"
     ]
    },
    {
     "data": {
      "text/plain": [
       "GridSearchCV(cv=3, error_score=nan,\n",
       "             estimator=Pipeline(memory=None,\n",
       "                                steps=[('preprocessor',\n",
       "                                        ColumnTransformer(n_jobs=None,\n",
       "                                                          remainder='drop',\n",
       "                                                          sparse_threshold=0.3,\n",
       "                                                          transformer_weights=None,\n",
       "                                                          transformers=[('num',\n",
       "                                                                         Pipeline(memory=None,\n",
       "                                                                                  steps=[('imputer_num',\n",
       "                                                                                          SimpleImputer(add_indicator=False,\n",
       "                                                                                                        copy=True,\n",
       "                                                                                                        fill_value=None,\n",
       "                                                                                                        missing_values=nan,\n",
       "                                                                                                        strategy='median',\n",
       "                                                                                                        verbose=...\n",
       "                                                           intercept_scaling=1,\n",
       "                                                           l1_ratio=None,\n",
       "                                                           max_iter=1000,\n",
       "                                                           multi_class='auto',\n",
       "                                                           n_jobs=None,\n",
       "                                                           penalty='l2',\n",
       "                                                           random_state=None,\n",
       "                                                           solver='lbfgs',\n",
       "                                                           tol=0.0001,\n",
       "                                                           verbose=0,\n",
       "                                                           warm_start=False))],\n",
       "                                verbose=False),\n",
       "             iid='deprecated', n_jobs=-1,\n",
       "             param_grid={'logreg__C': [0.1, 1, 10, 100],\n",
       "                         'logreg__penalty': ('l1', 'l2')},\n",
       "             pre_dispatch='2*n_jobs', refit=True, return_train_score=False,\n",
       "             scoring='accuracy', verbose=5)"
      ]
     },
     "execution_count": 317,
     "metadata": {},
     "output_type": "execute_result"
    }
   ],
   "source": [
    "grid_logreg.fit(X_train, y_train)"
   ]
  },
  {
   "cell_type": "code",
   "execution_count": 318,
   "metadata": {},
   "outputs": [
    {
     "name": "stdout",
     "output_type": "stream",
     "text": [
      "Best score:\n",
      "0.93\n",
      "Best parameters:\n",
      "{'logreg__C': 100, 'logreg__penalty': 'l2'}\n"
     ]
    }
   ],
   "source": [
    "# Show best parameters\n",
    "print('Best score:\\n{:.2f}'.format(grid_logreg.best_score_))\n",
    "print(\"Best parameters:\\n{}\".format(grid_logreg.best_params_))"
   ]
  },
  {
   "cell_type": "markdown",
   "metadata": {},
   "source": [
    "before removing currency trailing code, count id, actDuration, t2start, category name:  \n",
    "Best score:  \n",
    "0.95  \n",
    "Best parameters:  \n",
    "{'logreg__C': 100, 'logreg__penalty': 'l2'}"
   ]
  },
  {
   "cell_type": "code",
   "execution_count": 319,
   "metadata": {},
   "outputs": [],
   "source": [
    "# Save best model as best_model\n",
    "best_model_logReg = grid_logreg.best_estimator_['logreg']"
   ]
  },
  {
   "cell_type": "markdown",
   "metadata": {},
   "source": [
    "### Random Forrest"
   ]
  },
  {
   "cell_type": "code",
   "execution_count": 464,
   "metadata": {},
   "outputs": [],
   "source": [
    "samples_1 = int(round(len(X_train) / 100))\n",
    "samples_10 = int(round(len(X_train) / 10))\n",
    "samples_25 = int(round(len(X_train)/4))\n",
    "\n",
    "params_RandomForrest = {'R_Forrest_classifier__bootstrap': [True, False],                \n",
    "              'R_Forrest_classifier__max_depth': [1, 2, 4],               \n",
    "              'R_Forrest_classifier__n_estimators': [samples_1, samples_10, samples_25],                             \n",
    "             } \n",
    "\n",
    "grid_RandomForrest = GridSearchCV(pipe_R_forest, param_grid=params_RandomForrest, cv=3, scoring='accuracy', \n",
    "                           verbose=8, n_jobs=-1)\n",
    "#{'bootstrap': [True, False],\n",
    "# 'max_depth': [10, 20, 30, 40, 50, 60, 70, 80, 90, 100, None],\n",
    "# 'max_features': ['auto', 'sqrt'],\n",
    "# 'min_samples_leaf': [1, 2, 4],\n",
    "# 'min_samples_split': [2, 5, 10],\n",
    "# 'n_estimators': [200, 400, 600, 800, 1000, 1200, 1400, 1600, 1800, 2000]}"
   ]
  },
  {
   "cell_type": "code",
   "execution_count": 465,
   "metadata": {},
   "outputs": [
    {
     "name": "stdout",
     "output_type": "stream",
     "text": [
      "Fitting 3 folds for each of 18 candidates, totalling 54 fits\n"
     ]
    },
    {
     "name": "stderr",
     "output_type": "stream",
     "text": [
      "[Parallel(n_jobs=-1)]: Using backend LokyBackend with 4 concurrent workers.\n",
      "[Parallel(n_jobs=-1)]: Done  10 tasks      | elapsed: 23.7min\n",
      "[Parallel(n_jobs=-1)]: Done  33 tasks      | elapsed: 81.5min\n",
      "[Parallel(n_jobs=-1)]: Done  54 out of  54 | elapsed: 133.6min remaining:    0.0s\n",
      "[Parallel(n_jobs=-1)]: Done  54 out of  54 | elapsed: 133.6min finished\n"
     ]
    },
    {
     "name": "stdout",
     "output_type": "stream",
     "text": [
      "Best score:\n",
      "0.87\n",
      "Best parameters:\n",
      "{'R_Forrest_classifier__bootstrap': False, 'R_Forrest_classifier__max_depth': 4, 'R_Forrest_classifier__n_estimators': 36124}\n"
     ]
    }
   ],
   "source": [
    "grid_RandomForrest.fit(X_train, y_train)\n",
    "# Show best parameters\n",
    "print('Best score:\\n{:.2f}'.format(grid_RandomForrest.best_score_))\n",
    "print(\"Best parameters:\\n{}\".format(grid_RandomForrest.best_params_))"
   ]
  },
  {
   "cell_type": "markdown",
   "metadata": {},
   "source": [
    "before removing currency trailing code, count id, actDuration, t2start, category name: \n",
    "Best score:  \n",
    "0.87  \n",
    "Best parameters:  \n",
    "{'R_Forrest_classifier__bootstrap': False, 'R_Forrest_classifier__max_depth': 4, 'R_Forrest_classifier__n_estimators': 1445}"
   ]
  },
  {
   "cell_type": "code",
   "execution_count": 466,
   "metadata": {},
   "outputs": [],
   "source": [
    "# Save best model as best_model\n",
    "best_model_RandomForrest = grid_RandomForrest.best_estimator_['R_Forrest_classifier']"
   ]
  },
  {
   "cell_type": "markdown",
   "metadata": {},
   "source": [
    "### AdaBoostClassifier"
   ]
  },
  {
   "cell_type": "code",
   "execution_count": 330,
   "metadata": {},
   "outputs": [],
   "source": [
    "# TODO: Initialize the classifier\n",
    "#clf = AdaBoostClassifier(base_estimator=DecisionTreeClassifier()) \n",
    "\n",
    "# TODO: Create the parameters list you wish to tune\n",
    "params_Ada = {'Ada_classifier__n_estimators':[50, 120],                \n",
    "              'Ada_classifier__learning_rate':[0.1, 0.5, 1.],               \n",
    "              'Ada_classifier__base_estimator__min_samples_split' : np.arange(2, 8, 2),               \n",
    "              'Ada_classifier__base_estimator__max_depth' : np.arange(1, 4, 1)              \n",
    "             } \n",
    "\n",
    "grid_AdaBoost = GridSearchCV(pipe_R_adaBoost, param_grid=params_Ada, cv=3, scoring='accuracy', \n",
    "                           verbose=8, n_jobs=-1)\n"
   ]
  },
  {
   "cell_type": "code",
   "execution_count": 331,
   "metadata": {},
   "outputs": [
    {
     "name": "stdout",
     "output_type": "stream",
     "text": [
      "Fitting 3 folds for each of 54 candidates, totalling 162 fits\n"
     ]
    },
    {
     "name": "stderr",
     "output_type": "stream",
     "text": [
      "[Parallel(n_jobs=-1)]: Using backend LokyBackend with 4 concurrent workers.\n",
      "[Parallel(n_jobs=-1)]: Done  10 tasks      | elapsed:  2.0min\n",
      "[Parallel(n_jobs=-1)]: Done  33 tasks      | elapsed:  5.7min\n",
      "[Parallel(n_jobs=-1)]: Done  64 tasks      | elapsed: 12.0min\n",
      "[Parallel(n_jobs=-1)]: Done 105 tasks      | elapsed: 22.6min\n",
      "[Parallel(n_jobs=-1)]: Done 154 tasks      | elapsed: 38.4min\n",
      "[Parallel(n_jobs=-1)]: Done 162 out of 162 | elapsed: 40.4min finished\n"
     ]
    },
    {
     "name": "stdout",
     "output_type": "stream",
     "text": [
      "Best score:\n",
      "0.95\n",
      "Best parameters:\n",
      "{'Ada_classifier__base_estimator__max_depth': 3, 'Ada_classifier__base_estimator__min_samples_split': 6, 'Ada_classifier__learning_rate': 0.5, 'Ada_classifier__n_estimators': 120}\n"
     ]
    }
   ],
   "source": [
    "grid_AdaBoost.fit(X_train, y_train)\n",
    "# Show best parameters\n",
    "print('Best score:\\n{:.2f}'.format(grid_AdaBoost.best_score_))\n",
    "print(\"Best parameters:\\n{}\".format(grid_AdaBoost.best_params_))"
   ]
  },
  {
   "cell_type": "markdown",
   "metadata": {},
   "source": [
    "before removing currency trailing code, count id, actDuration, t2start, category name: \n",
    "Best score:  \n",
    "0.96  \n",
    "Best parameters:  \n",
    "{'Ada_classifier__base_estimator__max_depth': 2, 'Ada_classifier__base_estimator__min_samples_split': 2, 'Ada_classifier__learning_rate': 0.5, 'Ada_classifier__n_estimators': 120}"
   ]
  },
  {
   "cell_type": "code",
   "execution_count": 332,
   "metadata": {},
   "outputs": [],
   "source": [
    "# Save best model as best_model\n",
    "best_model_AdaBoost = grid_AdaBoost.best_estimator_['Ada_classifier']\n",
    "#grid_AdaBoost.best_estimator_"
   ]
  },
  {
   "cell_type": "markdown",
   "metadata": {},
   "source": [
    "### SVC"
   ]
  },
  {
   "cell_type": "code",
   "execution_count": 473,
   "metadata": {},
   "outputs": [],
   "source": [
    "# TODO: Initialize the classifier\n",
    "#clf = AdaBoostClassifier(base_estimator=DecisionTreeClassifier()) \n",
    "\n",
    "# TODO: Create the parameters list you wish to tune\n",
    "params_svc = {'svc_classifier__C':[2, 10],                \n",
    "              'svc_classifier__gamma':[0.0005, 0.001, 0.005],               \n",
    "              'svc_classifier__kernel' : ['linear','rbf']             \n",
    "             } \n",
    "\n",
    "grid_SVC = GridSearchCV(pipe_R_svc, param_grid=params_svc, cv=3, scoring='accuracy', \n",
    "                           verbose=12, n_jobs=-1)"
   ]
  },
  {
   "cell_type": "code",
   "execution_count": 474,
   "metadata": {},
   "outputs": [
    {
     "name": "stdout",
     "output_type": "stream",
     "text": [
      "Fitting 3 folds for each of 12 candidates, totalling 36 fits\n"
     ]
    },
    {
     "name": "stderr",
     "output_type": "stream",
     "text": [
      "[Parallel(n_jobs=-1)]: Using backend LokyBackend with 4 concurrent workers.\n",
      "[Parallel(n_jobs=-1)]: Done   1 tasks      | elapsed: 13.3min\n",
      "[Parallel(n_jobs=-1)]: Done   2 tasks      | elapsed: 13.4min\n",
      "[Parallel(n_jobs=-1)]: Done   3 tasks      | elapsed: 13.7min\n",
      "[Parallel(n_jobs=-1)]: Done   4 tasks      | elapsed: 22.4min\n",
      "[Parallel(n_jobs=-1)]: Done   5 tasks      | elapsed: 27.1min\n",
      "[Parallel(n_jobs=-1)]: Done   6 tasks      | elapsed: 35.5min\n",
      "[Parallel(n_jobs=-1)]: Done   7 tasks      | elapsed: 35.6min\n",
      "[Parallel(n_jobs=-1)]: Done   8 tasks      | elapsed: 36.0min\n",
      "[Parallel(n_jobs=-1)]: Done   9 tasks      | elapsed: 40.3min\n",
      "[Parallel(n_jobs=-1)]: Done  10 tasks      | elapsed: 53.0min\n",
      "[Parallel(n_jobs=-1)]: Done  11 tasks      | elapsed: 58.8min\n",
      "[Parallel(n_jobs=-1)]: Done  12 tasks      | elapsed: 58.9min\n",
      "[Parallel(n_jobs=-1)]: Done  13 tasks      | elapsed: 59.3min\n",
      "[Parallel(n_jobs=-1)]: Done  14 tasks      | elapsed: 65.7min\n",
      "[Parallel(n_jobs=-1)]: Done  15 tasks      | elapsed: 72.3min\n",
      "[Parallel(n_jobs=-1)]: Done  16 tasks      | elapsed: 73.4min\n",
      "[Parallel(n_jobs=-1)]: Done  17 tasks      | elapsed: 73.8min\n",
      "[Parallel(n_jobs=-1)]: Done  18 tasks      | elapsed: 80.3min\n",
      "[Parallel(n_jobs=-1)]: Done  19 tasks      | elapsed: 95.9min\n",
      "[Parallel(n_jobs=-1)]: Done  20 tasks      | elapsed: 96.1min\n",
      "[Parallel(n_jobs=-1)]: Done  21 tasks      | elapsed: 96.8min\n",
      "[Parallel(n_jobs=-1)]: Done  22 tasks      | elapsed: 97.8min\n",
      "[Parallel(n_jobs=-1)]: Done  23 tasks      | elapsed: 111.4min\n",
      "[Parallel(n_jobs=-1)]: Done  24 tasks      | elapsed: 111.8min\n",
      "[Parallel(n_jobs=-1)]: Done  25 tasks      | elapsed: 120.1min\n",
      "[Parallel(n_jobs=-1)]: Done  26 tasks      | elapsed: 120.7min\n",
      "[Parallel(n_jobs=-1)]: Done  27 tasks      | elapsed: 125.8min\n",
      "[Parallel(n_jobs=-1)]: Done  28 tasks      | elapsed: 134.3min\n",
      "[Parallel(n_jobs=-1)]: Done  29 tasks      | elapsed: 134.5min\n",
      "[Parallel(n_jobs=-1)]: Done  33 out of  36 | elapsed: 157.3min remaining: 14.3min\n",
      "[Parallel(n_jobs=-1)]: Done  36 out of  36 | elapsed: 159.3min finished\n"
     ]
    },
    {
     "name": "stdout",
     "output_type": "stream",
     "text": [
      "Best score:\n",
      "0.93\n",
      "Best parameters:\n",
      "{'svc_classifier__C': 10, 'svc_classifier__gamma': 0.0005, 'svc_classifier__kernel': 'linear'}\n"
     ]
    }
   ],
   "source": [
    "grid_SVC.fit(X_train, y_train)\n",
    "# Show best parameters\n",
    "print('Best score:\\n{:.2f}'.format(grid_SVC.best_score_))\n",
    "print(\"Best parameters:\\n{}\".format(grid_SVC.best_params_))"
   ]
  },
  {
   "cell_type": "markdown",
   "metadata": {},
   "source": [
    "Best score:  \n",
    "0.95  \n",
    "Best parameters:  \n",
    "{'svc_classifier__C': 10, 'svc_classifier__gamma': 0.0005, 'svc_classifier__kernel': 'linear'}"
   ]
  },
  {
   "cell_type": "code",
   "execution_count": 475,
   "metadata": {},
   "outputs": [],
   "source": [
    "# Save best model as best_model\n",
    "best_model_SVC = grid_SVC.best_estimator_['svc_classifier']"
   ]
  },
  {
   "cell_type": "markdown",
   "metadata": {},
   "source": [
    "# Feature Importance"
   ]
  },
  {
   "cell_type": "code",
   "execution_count": 470,
   "metadata": {},
   "outputs": [],
   "source": [
    "# Preparing the test set \n",
    "preprocessor.fit(X_train)\n",
    "X_test_preprocessed = preprocessor.transform(X_test)"
   ]
  },
  {
   "cell_type": "code",
   "execution_count": 120,
   "metadata": {},
   "outputs": [
    {
     "name": "stdout",
     "output_type": "stream",
     "text": [
      "Logistic Regression\n",
      "----------\n",
      "Accuracy: 0.95\n",
      "              precision    recall  f1-score   support\n",
      "\n",
      "      failed       0.91      0.96      0.93     18654\n",
      "  successful       0.97      0.94      0.96     29512\n",
      "\n",
      "    accuracy                           0.95     48166\n",
      "   macro avg       0.94      0.95      0.95     48166\n",
      "weighted avg       0.95      0.95      0.95     48166\n",
      "\n",
      "\n",
      "\n",
      "Random Forest\n",
      "----------\n",
      "Accuracy: 0.87\n",
      "              precision    recall  f1-score   support\n",
      "\n",
      "      failed       0.97      0.70      0.81     18654\n",
      "  successful       0.84      0.98      0.90     29512\n",
      "\n",
      "    accuracy                           0.87     48166\n",
      "   macro avg       0.90      0.84      0.86     48166\n",
      "weighted avg       0.89      0.87      0.87     48166\n",
      "\n",
      "\n",
      "\n",
      "AdaBoost Classifier\n",
      "----------\n",
      "Accuracy: 0.96\n",
      "              precision    recall  f1-score   support\n",
      "\n",
      "      failed       0.96      0.95      0.95     18654\n",
      "  successful       0.97      0.98      0.97     29512\n",
      "\n",
      "    accuracy                           0.96     48166\n",
      "   macro avg       0.96      0.96      0.96     48166\n",
      "weighted avg       0.96      0.96      0.96     48166\n",
      "\n",
      "\n",
      "\n",
      "SVM Classifier\n",
      "----------\n",
      "Accuracy: 0.95\n",
      "              precision    recall  f1-score   support\n",
      "\n",
      "      failed       0.91      0.96      0.93     18654\n",
      "  successful       0.97      0.94      0.96     29512\n",
      "\n",
      "    accuracy                           0.95     48166\n",
      "   macro avg       0.94      0.95      0.94     48166\n",
      "weighted avg       0.95      0.95      0.95     48166\n",
      "\n"
     ]
    }
   ],
   "source": [
    "\n",
    "\n",
    "\n"
   ]
  },
  {
   "cell_type": "markdown",
   "metadata": {},
   "source": [
    "Logistic Regression\n",
    "\n",
    "Accuracy: 0.95\n",
    "              precision    recall  f1-score   support\n",
    "\n",
    "      failed       0.91      0.96      0.93     18654\n",
    "  successful       0.97      0.94      0.96     29512\n",
    "\n",
    "    accuracy                           0.95     48166\n",
    "   macro avg       0.94      0.95      0.95     48166\n",
    "weighted avg       0.95      0.95      0.95     48166\n",
    "\n",
    "\n",
    "\n",
    "Random Forest\n",
    "\n",
    "Accuracy: 0.87\n",
    "              precision    recall  f1-score   support\n",
    "\n",
    "      failed       0.97      0.70      0.81     18654\n",
    "  successful       0.84      0.98      0.90     29512\n",
    "\n",
    "    accuracy                           0.87     48166\n",
    "   macro avg       0.90      0.84      0.86     48166\n",
    "weighted avg       0.89      0.87      0.87     48166\n",
    "\n",
    "\n",
    "\n",
    "AdaBoost Classifier\n",
    "\n",
    "Accuracy: 0.96\n",
    "              precision    recall  f1-score   support\n",
    "\n",
    "      failed       0.96      0.95      0.95     18654\n",
    "  successful       0.97      0.98      0.97     29512\n",
    "\n",
    "    accuracy                           0.96     48166\n",
    "   macro avg       0.96      0.96      0.96     48166\n",
    "weighted avg       0.96      0.96      0.96     48166\n",
    "\n",
    "\n",
    "\n",
    "SVM Classifier\n",
    "\n",
    "Accuracy: 0.95\n",
    "              precision    recall  f1-score   support\n",
    "\n",
    "      failed       0.91      0.96      0.93     18654\n",
    "  successful       0.97      0.94      0.96     29512\n",
    "\n",
    "    accuracy                           0.95     48166\n",
    "   macro avg       0.94      0.95      0.94     48166\n",
    "weighted avg       0.95      0.95      0.95     48166"
   ]
  },
  {
   "cell_type": "markdown",
   "metadata": {},
   "source": [
    "## Identify important features"
   ]
  },
  {
   "cell_type": "code",
   "execution_count": 468,
   "metadata": {},
   "outputs": [],
   "source": [
    "onehot_columns = list(pipe_logreg.named_steps['preprocessor'].named_transformers_['cat'].named_steps['1hot'].get_feature_names(input_features=cat_features))\n",
    "numeric_features_listasd = list(num_features)\n",
    "numeric_features_listasd.extend(onehot_columns)"
   ]
  },
  {
   "cell_type": "code",
   "execution_count": 510,
   "metadata": {},
   "outputs": [],
   "source": [
    "def feature_plot(importances, X_train, y_train,name='Bild.png'):\n",
    "    \n",
    "    # Display the five most important features\n",
    "    indices = list(np.argsort(importances)[::-1])\n",
    "    #print(indices[:10])\n",
    "    #columns = X_train.columns.values[indices[:9]]\n",
    "    columns = []\n",
    "    for col in indices[:5]:\n",
    "        columns.append(numeric_features_listasd[col])\n",
    "    values = importances[indices][:5]\n",
    "\n",
    "    # Creat the plot\n",
    "    fig = plt.figure(figsize = (11,7))\n",
    "    plt.title(\"Normalized Weights for First Five Most Predictive Features\", fontsize = 16)\n",
    "    plt.bar(np.arange(5), values, width = 0.6, align=\"center\", color = '#00A000', \\\n",
    "          label = \"Feature Weight\")\n",
    "    plt.bar(np.arange(5) - 0.3, np.cumsum(values), width = 0.2, align = \"center\", color = '#00A0A0', \\\n",
    "          label = \"Cumulative Feature Weight\")\n",
    "    plt.xticks(np.arange(5), columns)\n",
    "    plt.xlim((-0.5, 4.5))\n",
    "    plt.ylabel(\"Weight\", fontsize = 12)\n",
    "    plt.xlabel(\"Feature\", fontsize = 12)\n",
    "    plt.xticks(rotation=45)\n",
    "    \n",
    "    plt.legend(loc = 'upper center')\n",
    "    plt.tight_layout()\n",
    "    plt.savefig(name)\n",
    "    plt.show() "
   ]
  },
  {
   "cell_type": "markdown",
   "metadata": {},
   "source": [
    "### Logistic Regression"
   ]
  },
  {
   "cell_type": "code",
   "execution_count": 327,
   "metadata": {},
   "outputs": [
    {
     "name": "stdout",
     "output_type": "stream",
     "text": [
      "Logistic Regression\n",
      "----------\n",
      "Accuracy: 0.93\n",
      "              precision    recall  f1-score   support\n",
      "\n",
      "      failed       0.91      0.91      0.91     18654\n",
      "  successful       0.94      0.94      0.94     29512\n",
      "\n",
      "    accuracy                           0.93     48166\n",
      "   macro avg       0.92      0.93      0.93     48166\n",
      "weighted avg       0.93      0.93      0.93     48166\n",
      "\n"
     ]
    }
   ],
   "source": [
    "# Calculating the accuracy, recall and precision for the test set with the optimized model\n",
    "y_test_predicted_logReg = best_model_logReg.predict(X_test_preprocessed)\n",
    "print(\"Logistic Regression\\n----------\")\n",
    "print(\"Accuracy: {:.2f}\".format(accuracy_score(y_test, y_test_predicted_logReg)))\n",
    "print(classification_report(y_test, y_test_predicted_logReg))"
   ]
  },
  {
   "cell_type": "code",
   "execution_count": 492,
   "metadata": {},
   "outputs": [
    {
     "data": {
      "image/png": "[encoded data removed]",
      "text/plain": [
       "<Figure size 936x432 with 1 Axes>"
      ]
     },
     "metadata": {},
     "output_type": "display_data"
    }
   ],
   "source": [
    "imp = abs(best_model_logReg.coef_[0])\n",
    "feature_importance = (imp / imp.sum())\n",
    "\n",
    "importances = feature_importance\n",
    "# Plot\n",
    "\n",
    "\n",
    "feature_plot(importances, numeric_features_listasd, y_train,'figures/FImportance_LogReg_SecondRound.png')\n"
   ]
  },
  {
   "cell_type": "code",
   "execution_count": null,
   "metadata": {},
   "outputs": [],
   "source": []
  },
  {
   "cell_type": "markdown",
   "metadata": {},
   "source": [
    "### Random Forest"
   ]
  },
  {
   "cell_type": "code",
   "execution_count": 471,
   "metadata": {},
   "outputs": [
    {
     "name": "stdout",
     "output_type": "stream",
     "text": [
      "\n",
      "Random Forest\n",
      "----------\n",
      "Accuracy: 0.87\n",
      "              precision    recall  f1-score   support\n",
      "\n",
      "      failed       0.95      0.70      0.81     18654\n",
      "  successful       0.84      0.98      0.90     29512\n",
      "\n",
      "    accuracy                           0.87     48166\n",
      "   macro avg       0.90      0.84      0.85     48166\n",
      "weighted avg       0.88      0.87      0.86     48166\n",
      "\n",
      "\n"
     ]
    }
   ],
   "source": [
    "y_test_predicted_RandomForrest = best_model_RandomForrest.predict(X_test_preprocessed)\n",
    "print(\"\\nRandom Forest\\n----------\")\n",
    "print(\"Accuracy: {:.2f}\".format(accuracy_score(y_test, y_test_predicted_RandomForrest)))\n",
    "print(classification_report(y_test, y_test_predicted_RandomForrest))\n",
    "print()"
   ]
  },
  {
   "cell_type": "code",
   "execution_count": 484,
   "metadata": {},
   "outputs": [
    {
     "data": {
      "image/png": "[encoded data removed]",
      "text/plain": [
       "<Figure size 936x432 with 1 Axes>"
      ]
     },
     "metadata": {},
     "output_type": "display_data"
    }
   ],
   "source": [
    "importances = best_model_RandomForrest.feature_importances_\n",
    "# Plot\n",
    "feature_plot(importances, numeric_features_listasd, y_train,'figures/FImportance_RF_SecondRound.png')"
   ]
  },
  {
   "cell_type": "markdown",
   "metadata": {},
   "source": [
    "### AdaBoost"
   ]
  },
  {
   "cell_type": "code",
   "execution_count": 333,
   "metadata": {},
   "outputs": [
    {
     "name": "stdout",
     "output_type": "stream",
     "text": [
      "\n",
      "AdaBoost Classifier\n",
      "----------\n",
      "Accuracy: 0.95\n",
      "              precision    recall  f1-score   support\n",
      "\n",
      "      failed       0.95      0.92      0.93     18654\n",
      "  successful       0.95      0.97      0.96     29512\n",
      "\n",
      "    accuracy                           0.95     48166\n",
      "   macro avg       0.95      0.94      0.95     48166\n",
      "weighted avg       0.95      0.95      0.95     48166\n",
      "\n"
     ]
    }
   ],
   "source": [
    "y_test_predicted_AdaBoost = best_model_AdaBoost.predict(X_test_preprocessed)\n",
    "print(\"\\nAdaBoost Classifier\\n----------\")\n",
    "print(\"Accuracy: {:.2f}\".format(accuracy_score(y_test, y_test_predicted_AdaBoost)))\n",
    "print(classification_report(y_test, y_test_predicted_AdaBoost))"
   ]
  },
  {
   "cell_type": "code",
   "execution_count": 511,
   "metadata": {},
   "outputs": [
    {
     "data": {
      "image/png": "[encoded data removed]",
      "text/plain": [
       "<Figure size 792x504 with 1 Axes>"
      ]
     },
     "metadata": {},
     "output_type": "display_data"
    }
   ],
   "source": [
    "importances = best_model_AdaBoost.feature_importances_\n",
    "# Plot\n",
    "feature_plot(importances, numeric_features_listasd, y_train,'figures/FImportance_AdaBoost_SecondRound.png')"
   ]
  },
  {
   "cell_type": "markdown",
   "metadata": {},
   "source": [
    "### SVM"
   ]
  },
  {
   "cell_type": "code",
   "execution_count": 481,
   "metadata": {},
   "outputs": [
    {
     "name": "stdout",
     "output_type": "stream",
     "text": [
      "\n",
      "\n",
      "SVM Classifier\n",
      "----------\n",
      "Accuracy: 0.93\n",
      "              precision    recall  f1-score   support\n",
      "\n",
      "      failed       0.90      0.92      0.91     18654\n",
      "  successful       0.95      0.94      0.94     29512\n",
      "\n",
      "    accuracy                           0.93     48166\n",
      "   macro avg       0.92      0.93      0.92     48166\n",
      "weighted avg       0.93      0.93      0.93     48166\n",
      "\n"
     ]
    }
   ],
   "source": [
    "y_test_predicted_svc = best_model_SVC.predict(X_test_preprocessed)\n",
    "\n",
    "\n",
    "\n",
    "\n",
    "print()\n",
    "print(\"\\nSVM Classifier\\n----------\")\n",
    "print(\"Accuracy: {:.2f}\".format(accuracy_score(y_test, y_test_predicted_svc)))\n",
    "print(classification_report(y_test, y_test_predicted_svc))"
   ]
  },
  {
   "cell_type": "code",
   "execution_count": 505,
   "metadata": {},
   "outputs": [
    {
     "name": "stdout",
     "output_type": "stream",
     "text": [
      "  (0, 0)\t53.19706675375108\n",
      "  (0, 1)\t0.014993568099261445\n",
      "  (0, 2)\t159.73010641019633\n",
      "  (0, 3)\t0.0954210695729909\n",
      "  (0, 4)\t0.009646222433275398\n",
      "  (0, 5)\t0.03108985576073664\n",
      "  (0, 6)\t1.0430061228506675\n",
      "  (0, 7)\t0.048536779430495613\n",
      "  (0, 8)\t0.20220829098758486\n",
      "  (0, 9)\t0.06828532678287047\n",
      "  (0, 10)\t0.036395950353316664\n",
      "  (0, 11)\t0.04095882475780854\n",
      "  (0, 12)\t0.3324031086335708\n",
      "  (0, 13)\t0.015145208860133152\n",
      "  (0, 14)\t0.016357507109546532\n",
      "  (0, 15)\t0.05956744038991246\n",
      "  (0, 16)\t0.235005698068938\n",
      "  (0, 17)\t0.013485871962018336\n",
      "  (0, 18)\t0.4880715901614394\n",
      "  (0, 19)\t0.20347489488518988\n",
      "  (0, 20)\t0.18747114898252448\n",
      "  (0, 21)\t0.009265602867969847\n",
      "  (0, 23)\t0.17346999144729125\n",
      "  (0, 24)\t0.24120203632890025\n",
      "  (0, 25)\t0.025809579880672118\n",
      "  :\t:\n",
      "  (0, 237)\t0.2167351249272489\n",
      "  (0, 239)\t0.1458229756074445\n",
      "  (0, 240)\t0.030244762469632036\n",
      "  (0, 241)\t0.026826504459222633\n",
      "  (0, 242)\t0.37567118249395115\n",
      "  (0, 243)\t0.33477854095832527\n",
      "  (0, 244)\t0.04965870774310588\n",
      "  (0, 245)\t0.12645701508736096\n",
      "  (0, 246)\t0.024181351199331402\n",
      "  (0, 247)\t0.028664691649737506\n",
      "  (0, 249)\t0.09164607366653854\n",
      "  (0, 250)\t0.25724556303032386\n",
      "  (0, 251)\t0.07678452701748029\n",
      "  (0, 252)\t0.671126897203635\n",
      "  (0, 253)\t0.1426176356560518\n",
      "  (0, 254)\t0.034108825214183014\n",
      "  (0, 255)\t0.3128362270229559\n",
      "  (0, 256)\t0.2779860913333323\n",
      "  (0, 257)\t0.3968180814417792\n",
      "  (0, 258)\t0.36477816298634025\n",
      "  (0, 259)\t0.1926186017328746\n",
      "  (0, 260)\t0.17227872409068823\n",
      "  (0, 261)\t0.20596818272042583\n",
      "  (0, 262)\t0.24639500976422823\n",
      "  (0, 263)\t0.49481663817823573\n",
      "<class 'scipy.sparse.csr.csr_matrix'>\n"
     ]
    }
   ],
   "source": [
    "imp = abs(best_model_SVC.coef_[0])\n",
    "print(imp)\n",
    "print(type(imp))\n",
    "#imp = absbest_model_SVC.feature_importances_\n",
    "feature_importance = (imp / imp.sum())\n",
    "\n",
    "importances = feature_importance\n",
    "# Plot\n",
    "#print(len(importances))\n",
    "\n",
    "#feature_plot(importances, numeric_features_listasd, y_train,'figures/FImportance_SVM_SecondRound.png')\n",
    "#importances = best_model_SVC.feature_importances_\n",
    "# Plot\n",
    "#feature_plot(importances, X_test_preprocessed, y_train)"
   ]
  },
  {
   "cell_type": "markdown",
   "metadata": {},
   "source": [
    "## Confusion Matrix for our best Model "
   ]
  },
  {
   "cell_type": "code",
   "execution_count": 336,
   "metadata": {},
   "outputs": [
    {
     "data": {
      "image/png": "[encoded data removed]",
      "text/plain": [
       "<Figure size 576x396 with 2 Axes>"
      ]
     },
     "metadata": {},
     "output_type": "display_data"
    }
   ],
   "source": [
    "#Visualizing the confusion matrix for each classifier\n",
    "from sklearn.metrics import confusion_matrix\n",
    "\n",
    "for i,model in enumerate([best_model_logReg]):\n",
    "    cm = confusion_matrix(y_test, y_test_predicted_logReg)\n",
    "    cm = cm.astype('float') / cm.sum(axis=1)[:, np.newaxis] # normalize the data\n",
    "\n",
    "    # view with a heatmap\n",
    "    plt.figure(i)\n",
    "    sns.heatmap(cm, annot=True, annot_kws={\"size\":30}, \n",
    "            cmap='Blues', square=True, fmt='.3f')\n",
    "    plt.ylabel('True label')\n",
    "    plt.xlabel('Predicted label')\n",
    "    plt.title('Confusion matrix for:\\n{}'.format(model.__class__.__name__));\n",
    "    plt.savefig('figures/ConvMatrix_LogReg_SecondRound.png')"
   ]
  },
  {
   "cell_type": "code",
   "execution_count": 520,
   "metadata": {},
   "outputs": [
    {
     "data": {
      "image/png": "[encoded data removed]",
      "text/plain": [
       "<Figure size 576x396 with 2 Axes>"
      ]
     },
     "metadata": {},
     "output_type": "display_data"
    }
   ],
   "source": [
    "#Visualizing the confusion matrix for each classifier\n",
    "from sklearn.metrics import confusion_matrix\n",
    "\n",
    "for i,model in enumerate([best_model_RandomForrest]):\n",
    "    cm = confusion_matrix(y_test, y_test_predicted_RandomForrest)\n",
    "    cm = cm.astype('float') / cm.sum(axis=1)[:, np.newaxis]*100 # normalize the data\n",
    "\n",
    "    # view with a heatmap\n",
    "    plt.figure(i)\n",
    "    sns.heatmap(cm.round(1), annot=True, annot_kws={\"size\":30}, \n",
    "            cmap='Blues', square=True, fmt='.1f')\n",
    "    plt.ylabel('True label')\n",
    "    plt.xlabel('Predicted label')\n",
    "    plt.title('Confusion matrix for:\\n{}'.format(model.__class__.__name__));\n",
    "    plt.savefig('figures/ConvMatrix_RF_SecondRound.png')"
   ]
  },
  {
   "cell_type": "code",
   "execution_count": 521,
   "metadata": {},
   "outputs": [
    {
     "data": {
      "image/png": "[encoded data removed]",
      "text/plain": [
       "<Figure size 576x396 with 2 Axes>"
      ]
     },
     "metadata": {},
     "output_type": "display_data"
    }
   ],
   "source": [
    "#Visualizing the confusion matrix for each classifier\n",
    "from sklearn.metrics import confusion_matrix\n",
    "\n",
    "for i,model in enumerate([best_model_AdaBoost]):\n",
    "    cm = confusion_matrix(y_test, y_test_predicted_AdaBoost)\n",
    "    cm = cm.astype('float') / cm.sum(axis=1)[:, np.newaxis]*100 # normalize the data\n",
    "\n",
    "    # view with a heatmap\n",
    "    plt.figure(i)\n",
    "    sns.heatmap(cm, annot=True, annot_kws={\"size\":30}, \n",
    "            cmap='Blues', square=True, fmt='.1f')\n",
    "    plt.ylabel('True label')\n",
    "    plt.xlabel('Predicted label')\n",
    "    plt.title('Confusion matrix for:\\n{}'.format(model.__class__.__name__));\n",
    "    plt.savefig('figures/ConvMatrix_AdaBoost_SecondRound.png')"
   ]
  },
  {
   "cell_type": "code",
   "execution_count": 478,
   "metadata": {},
   "outputs": [
    {
     "data": {
      "image/png": "[encoded data removed]",
      "text/plain": [
       "<Figure size 576x396 with 2 Axes>"
      ]
     },
     "metadata": {},
     "output_type": "display_data"
    }
   ],
   "source": [
    "#Visualizing the confusion matrix for each classifier\n",
    "from sklearn.metrics import confusion_matrix\n",
    "\n",
    "for i,model in enumerate([best_model_SVC]):\n",
    "    cm = confusion_matrix(y_test, y_test_predicted_svc)\n",
    "    cm = cm.astype('float') / cm.sum(axis=1)[:, np.newaxis] # normalize the data\n",
    "\n",
    "    # view with a heatmap\n",
    "    plt.figure(i)\n",
    "    sns.heatmap(cm, annot=True, annot_kws={\"size\":30}, \n",
    "            cmap='Blues', square=True, fmt='.3f')\n",
    "    plt.ylabel('True label')\n",
    "    plt.xlabel('Predicted label')\n",
    "    plt.title('Confusion matrix for:\\n{}'.format(model.__class__.__name__));\n",
    "    plt.savefig('figures/ConvMatrix_SVM_SecondRound.png')"
   ]
  },
  {
   "cell_type": "code",
   "execution_count": null,
   "metadata": {},
   "outputs": [],
   "source": [
    "#votingClassifier = VotingClassifier(estimators=[\n",
    "#        ('p1', pipe1), ('p2', pipe2)])"
   ]
  },
  {
   "cell_type": "code",
   "execution_count": null,
   "metadata": {},
   "outputs": [],
   "source": []
  },
  {
   "cell_type": "code",
   "execution_count": null,
   "metadata": {},
   "outputs": [],
   "source": [
    "# Import functionality for cloning a model\n",
    "\n",
    "\n",
    "# Reduce the feature space\n",
    "#X_train_reduced = X_train[X_train.columns.values[(np.argsort(importances)[::-1])[:5]]]\n",
    "#X_test_reduced = X_test[X_test.columns.values[(np.argsort(importances)[::-1])[:5]]]\n",
    "\n",
    "# Train on the \"best\" model found from grid search earlier\n",
    "#clf = (clone(best_clf)).fit(X_train_reduced, y_train)\n",
    "\n",
    "# Make new predictions\n",
    "#reduced_predictions = clf.predict(X_test_reduced)\n",
    "\n",
    "# Report scores from the final model using both versions of data\n",
    "#print(\"Final Model trained on full data\\n------\")\n",
    "#print(\"Accuracy on testing data: {:.4f}\".format(accuracy_score(y_test, best_predictions)))\n",
    "#print(\"F-score on testing data: {:.4f}\".format(fbeta_score(y_test, best_predictions, beta = 0.5)))\n",
    "#print(\"\\nFinal Model trained on reduced data\\n------\")\n",
    "#print(\"Accuracy on testing data: {:.4f}\".format(accuracy_score(y_test, reduced_predictions)))\n",
    "#print(\"F-score on testing data: {:.4f}\".format(fbeta_score(y_test, reduced_predictions, beta = 0.5)))"
   ]
  },
  {
   "cell_type": "markdown",
   "metadata": {},
   "source": [
    "# Data Visualization"
   ]
  },
  {
   "cell_type": "markdown",
   "metadata": {},
   "source": [
    "# Summary"
   ]
  },
  {
   "cell_type": "markdown",
   "metadata": {},
   "source": [
    "# Future Work "
   ]
  },
  {
   "cell_type": "code",
   "execution_count": null,
   "metadata": {},
   "outputs": [],
   "source": []
  }
 ],
 "metadata": {
  "kernelspec": {
   "display_name": "Python [conda env:nf] *",
   "language": "python",
   "name": "conda-env-nf-py"
  },
  "toc": {
   "base_numbering": 1,
   "nav_menu": {},
   "number_sections": true,
   "sideBar": true,
   "skip_h1_title": false,
   "title_cell": "Table of Contents",
   "title_sidebar": "Contents",
   "toc_cell": false,
   "toc_position": {
    "height": "calc(100% - 180px)",
    "left": "10px",
    "top": "150px",
    "width": "314.797px"
   },
   "toc_section_display": true,
   "toc_window_display": true
  }
 },
 "nbformat": 4,
 "nbformat_minor": 4
}
