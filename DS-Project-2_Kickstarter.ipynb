{
 "cells": [
  {
   "cell_type": "markdown",
   "metadata": {},
   "source": [
    "# DS Project no. 2: Kickstarter data set  \n",
    "by Sandra Schwegmann & Marvin Lorenzen"
   ]
  },
  {
   "cell_type": "markdown",
   "metadata": {},
   "source": [
    "## Project Goal"
   ]
  },
  {
   "cell_type": "markdown",
   "metadata": {},
   "source": [
    "Buildung the scene:  \n",
    "We are a startup that helps people to find out **which probability they have to get funded** by kickstarters with their projects and what they **can do to improve their chances**."
   ]
  },
  {
   "cell_type": "markdown",
   "metadata": {},
   "source": [
    "## Data Describtion"
   ]
  },
  {
   "cell_type": "code",
   "execution_count": null,
   "metadata": {},
   "outputs": [],
   "source": []
  },
  {
   "cell_type": "markdown",
   "metadata": {},
   "source": [
    "# Data Handling"
   ]
  },
  {
   "cell_type": "code",
   "execution_count": 139,
   "metadata": {},
   "outputs": [],
   "source": [
    "import pandas as pd\n",
    "import glob\n",
    "import numpy as np\n",
    "import operator"
   ]
  },
  {
   "cell_type": "code",
   "execution_count": 140,
   "metadata": {},
   "outputs": [],
   "source": [
    "# Read in data: loop over all files\n",
    "path = '/Users/sandra/Documents/materials/Project-2_Kickstarter/data'\n",
    "filenames = glob.glob(path + \"/*.csv\")\n",
    "comlete_csv =[]\n",
    "\n",
    "for i in filenames:\n",
    "    comlete_csv.append(pd.read_csv(i,encoding='utf-8'))\n",
    "\n",
    "df = pd.concat(comlete_csv, ignore_index = True)\n"
   ]
  },
  {
   "cell_type": "code",
   "execution_count": 141,
   "metadata": {},
   "outputs": [
    {
     "name": "stdout",
     "output_type": "stream",
     "text": [
      "<class 'pandas.core.frame.DataFrame'>\n",
      "RangeIndex: 209222 entries, 0 to 209221\n",
      "Data columns (total 37 columns):\n",
      "backers_count               209222 non-null int64\n",
      "blurb                       209214 non-null object\n",
      "category                    209222 non-null object\n",
      "converted_pledged_amount    209222 non-null int64\n",
      "country                     209222 non-null object\n",
      "created_at                  209222 non-null int64\n",
      "creator                     209222 non-null object\n",
      "currency                    209222 non-null object\n",
      "currency_symbol             209222 non-null object\n",
      "currency_trailing_code      209222 non-null bool\n",
      "current_currency            209222 non-null object\n",
      "deadline                    209222 non-null int64\n",
      "disable_communication       209222 non-null bool\n",
      "friends                     300 non-null object\n",
      "fx_rate                     209222 non-null float64\n",
      "goal                        209222 non-null float64\n",
      "id                          209222 non-null int64\n",
      "is_backing                  300 non-null object\n",
      "is_starrable                209222 non-null bool\n",
      "is_starred                  300 non-null object\n",
      "launched_at                 209222 non-null int64\n",
      "location                    208996 non-null object\n",
      "name                        209222 non-null object\n",
      "permissions                 300 non-null object\n",
      "photo                       209222 non-null object\n",
      "pledged                     209222 non-null float64\n",
      "profile                     209222 non-null object\n",
      "slug                        209222 non-null object\n",
      "source_url                  209222 non-null object\n",
      "spotlight                   209222 non-null bool\n",
      "staff_pick                  209222 non-null bool\n",
      "state                       209222 non-null object\n",
      "state_changed_at            209222 non-null int64\n",
      "static_usd_rate             209222 non-null float64\n",
      "urls                        209222 non-null object\n",
      "usd_pledged                 209222 non-null float64\n",
      "usd_type                    208742 non-null object\n",
      "dtypes: bool(5), float64(5), int64(7), object(20)\n",
      "memory usage: 52.1+ MB\n"
     ]
    }
   ],
   "source": [
    "df.info()"
   ]
  },
  {
   "cell_type": "code",
   "execution_count": 142,
   "metadata": {},
   "outputs": [
    {
     "data": {
      "text/html": [
       "<div>\n",
       "<style scoped>\n",
       "    .dataframe tbody tr th:only-of-type {\n",
       "        vertical-align: middle;\n",
       "    }\n",
       "\n",
       "    .dataframe tbody tr th {\n",
       "        vertical-align: top;\n",
       "    }\n",
       "\n",
       "    .dataframe thead th {\n",
       "        text-align: right;\n",
       "    }\n",
       "</style>\n",
       "<table border=\"1\" class=\"dataframe\">\n",
       "  <thead>\n",
       "    <tr style=\"text-align: right;\">\n",
       "      <th></th>\n",
       "      <th>backers_count</th>\n",
       "      <th>blurb</th>\n",
       "      <th>category</th>\n",
       "      <th>converted_pledged_amount</th>\n",
       "      <th>country</th>\n",
       "      <th>created_at</th>\n",
       "      <th>creator</th>\n",
       "      <th>currency</th>\n",
       "      <th>currency_symbol</th>\n",
       "      <th>currency_trailing_code</th>\n",
       "      <th>...</th>\n",
       "      <th>slug</th>\n",
       "      <th>source_url</th>\n",
       "      <th>spotlight</th>\n",
       "      <th>staff_pick</th>\n",
       "      <th>state</th>\n",
       "      <th>state_changed_at</th>\n",
       "      <th>static_usd_rate</th>\n",
       "      <th>urls</th>\n",
       "      <th>usd_pledged</th>\n",
       "      <th>usd_type</th>\n",
       "    </tr>\n",
       "  </thead>\n",
       "  <tbody>\n",
       "    <tr>\n",
       "      <th>0</th>\n",
       "      <td>315</td>\n",
       "      <td>Babalus Shoes</td>\n",
       "      <td>{\"id\":266,\"name\":\"Footwear\",\"slug\":\"fashion/fo...</td>\n",
       "      <td>28645</td>\n",
       "      <td>US</td>\n",
       "      <td>1541459205</td>\n",
       "      <td>{\"id\":2094277840,\"name\":\"Lucy Conroy\",\"slug\":\"...</td>\n",
       "      <td>USD</td>\n",
       "      <td>$</td>\n",
       "      <td>True</td>\n",
       "      <td>...</td>\n",
       "      <td>babalus-childrens-shoes</td>\n",
       "      <td>https://www.kickstarter.com/discover/categorie...</td>\n",
       "      <td>False</td>\n",
       "      <td>False</td>\n",
       "      <td>live</td>\n",
       "      <td>1548223375</td>\n",
       "      <td>1.0</td>\n",
       "      <td>{\"web\":{\"project\":\"https://www.kickstarter.com...</td>\n",
       "      <td>28645.0</td>\n",
       "      <td>international</td>\n",
       "    </tr>\n",
       "    <tr>\n",
       "      <th>1</th>\n",
       "      <td>47</td>\n",
       "      <td>A colorful Dia de los Muertos themed oracle de...</td>\n",
       "      <td>{\"id\":273,\"name\":\"Playing Cards\",\"slug\":\"games...</td>\n",
       "      <td>1950</td>\n",
       "      <td>US</td>\n",
       "      <td>1501684093</td>\n",
       "      <td>{\"id\":723886115,\"name\":\"Lisa Vollrath\",\"slug\":...</td>\n",
       "      <td>USD</td>\n",
       "      <td>$</td>\n",
       "      <td>True</td>\n",
       "      <td>...</td>\n",
       "      <td>the-ofrenda-oracle-deck</td>\n",
       "      <td>https://www.kickstarter.com/discover/categorie...</td>\n",
       "      <td>True</td>\n",
       "      <td>False</td>\n",
       "      <td>successful</td>\n",
       "      <td>1504976459</td>\n",
       "      <td>1.0</td>\n",
       "      <td>{\"web\":{\"project\":\"https://www.kickstarter.com...</td>\n",
       "      <td>1950.0</td>\n",
       "      <td>domestic</td>\n",
       "    </tr>\n",
       "  </tbody>\n",
       "</table>\n",
       "<p>2 rows × 37 columns</p>\n",
       "</div>"
      ],
      "text/plain": [
       "   backers_count                                              blurb  \\\n",
       "0            315                                      Babalus Shoes   \n",
       "1             47  A colorful Dia de los Muertos themed oracle de...   \n",
       "\n",
       "                                            category  \\\n",
       "0  {\"id\":266,\"name\":\"Footwear\",\"slug\":\"fashion/fo...   \n",
       "1  {\"id\":273,\"name\":\"Playing Cards\",\"slug\":\"games...   \n",
       "\n",
       "   converted_pledged_amount country  created_at  \\\n",
       "0                     28645      US  1541459205   \n",
       "1                      1950      US  1501684093   \n",
       "\n",
       "                                             creator currency currency_symbol  \\\n",
       "0  {\"id\":2094277840,\"name\":\"Lucy Conroy\",\"slug\":\"...      USD               $   \n",
       "1  {\"id\":723886115,\"name\":\"Lisa Vollrath\",\"slug\":...      USD               $   \n",
       "\n",
       "   currency_trailing_code  ...                     slug  \\\n",
       "0                    True  ...  babalus-childrens-shoes   \n",
       "1                    True  ...  the-ofrenda-oracle-deck   \n",
       "\n",
       "                                          source_url  spotlight staff_pick  \\\n",
       "0  https://www.kickstarter.com/discover/categorie...      False      False   \n",
       "1  https://www.kickstarter.com/discover/categorie...       True      False   \n",
       "\n",
       "        state  state_changed_at  static_usd_rate  \\\n",
       "0        live        1548223375              1.0   \n",
       "1  successful        1504976459              1.0   \n",
       "\n",
       "                                                urls  usd_pledged  \\\n",
       "0  {\"web\":{\"project\":\"https://www.kickstarter.com...      28645.0   \n",
       "1  {\"web\":{\"project\":\"https://www.kickstarter.com...       1950.0   \n",
       "\n",
       "        usd_type  \n",
       "0  international  \n",
       "1       domestic  \n",
       "\n",
       "[2 rows x 37 columns]"
      ]
     },
     "execution_count": 142,
     "metadata": {},
     "output_type": "execute_result"
    }
   ],
   "source": [
    "df.head(2)"
   ]
  },
  {
   "cell_type": "markdown",
   "metadata": {},
   "source": [
    "* data like dictonaries: \n",
    "    * category\n",
    "    * creator\n",
    "    * location\n",
    "    * photo\n",
    "    * profile\n",
    "* photo will be dropped, other stay at the moment\n",
    "* other object variables:\n",
    "    * friends    - nothing in friends - dropped\n",
    "    * is_backing - False\n",
    "    * is_starred - False\n",
    "    * permission - nothing in friends - dropped\n",
    "* also drop source_url and urls"
   ]
  },
  {
   "cell_type": "markdown",
   "metadata": {},
   "source": [
    "## Data cleaning"
   ]
  },
  {
   "cell_type": "code",
   "execution_count": 143,
   "metadata": {},
   "outputs": [],
   "source": [
    "#drop first columns\n",
    "df.drop(['photo','friends','permissions','currency_symbol',\\\n",
    "             'source_url','urls'],axis=1, inplace=True)"
   ]
  },
  {
   "cell_type": "code",
   "execution_count": 144,
   "metadata": {},
   "outputs": [],
   "source": [
    "#df.location[df.location.isnull()!=False] = {}"
   ]
  },
  {
   "cell_type": "code",
   "execution_count": 145,
   "metadata": {},
   "outputs": [],
   "source": [
    "# clean data from empty spaces, line breaks, etc.\n",
    "dict_list1 = ['location','profile','creator']\n",
    "for names in dict_list1:\n",
    "    df[names] = df[names].str.replace(':null,',':None,')\n",
    "    df[names] = df[names].str.replace(':false,',':False,')\n",
    "    df[names] = df[names].str.replace(':true',':True')\n",
    "    df[names] = df[names].str.replace('\\n', '')\n",
    "    df[names] = df[names].str.replace('\\t', '')\n",
    "    "
   ]
  },
  {
   "cell_type": "markdown",
   "metadata": {},
   "source": [
    "* test which projects are still active\n",
    "* test whether currency is always USD\n",
    "* create a new variable project length and length per 100USD (or so)"
   ]
  },
  {
   "cell_type": "code",
   "execution_count": 146,
   "metadata": {},
   "outputs": [
    {
     "name": "stdout",
     "output_type": "stream",
     "text": [
      "(209222, 31)\n"
     ]
    },
    {
     "data": {
      "text/plain": [
       "7311"
      ]
     },
     "execution_count": 146,
     "metadata": {},
     "output_type": "execute_result"
    }
   ],
   "source": [
    "print(df.shape)\n",
    "len(df.state[df.state == 'live'])"
   ]
  },
  {
   "cell_type": "code",
   "execution_count": null,
   "metadata": {},
   "outputs": [],
   "source": []
  },
  {
   "cell_type": "code",
   "execution_count": 147,
   "metadata": {},
   "outputs": [
    {
     "name": "stdout",
     "output_type": "stream",
     "text": [
      "backers_count  47\n",
      "\n",
      "blurb  A colorful Dia de los Muertos themed oracle deck & guidebook for all you tarot lovers, from mixed media artist Lisa Vollrath.\n",
      "\n",
      "category  {\"id\":273,\"name\":\"Playing Cards\",\"slug\":\"games/playing cards\",\"position\":4,\"parent_id\":12,\"color\":51627,\"urls\":{\"web\":{\"discover\":\"http://www.kickstarter.com/discover/categories/games/playing%20cards\"}}}\n",
      "\n",
      "converted_pledged_amount  1950\n",
      "\n",
      "country  US\n",
      "\n",
      "created_at  1501684093\n",
      "\n",
      "creator  {\"id\":723886115,\"name\":\"Lisa Vollrath\",\"slug\":\"lisavollrath\",\"is_registered\":None,\"chosen_currency\":None,\"avatar\":{\"thumb\":\"https://ksr-ugc.imgix.net/assets/005/864/451/bcb1e27325c110287e4cade12433e161_original.jpg?ixlib=rb-1.1.0&w=40&h=40&fit=crop&v=1525353537&auto=format&frame=1&q=92&s=6f941b16c6c05cc5722b182874032842\",\"small\":\"https://ksr-ugc.imgix.net/assets/005/864/451/bcb1e27325c110287e4cade12433e161_original.jpg?ixlib=rb-1.1.0&w=160&h=160&fit=crop&v=1525353537&auto=format&frame=1&q=92&s=eee046cfdb8810ddc961450cdf114f6d\",\"medium\":\"https://ksr-ugc.imgix.net/assets/005/864/451/bcb1e27325c110287e4cade12433e161_original.jpg?ixlib=rb-1.1.0&w=160&h=160&fit=crop&v=1525353537&auto=format&frame=1&q=92&s=eee046cfdb8810ddc961450cdf114f6d\"},\"urls\":{\"web\":{\"user\":\"https://www.kickstarter.com/profile/lisavollrath\"},\"api\":{\"user\":\"https://api.kickstarter.com/v1/users/723886115?signature=1552621781.028aa6bdab59abedd2a1eb192d77735f53c218df\"}}}\n",
      "\n",
      "currency  USD\n",
      "\n",
      "currency_trailing_code  True\n",
      "\n",
      "current_currency  USD\n",
      "\n",
      "deadline  1504976459\n",
      "\n",
      "disable_communication  False\n",
      "\n",
      "fx_rate  1.0\n",
      "\n",
      "goal  1000.0\n",
      "\n",
      "id  928751314\n",
      "\n",
      "is_backing  nan\n",
      "\n",
      "is_starrable  False\n",
      "\n",
      "is_starred  nan\n",
      "\n",
      "launched_at  1502384459\n",
      "\n",
      "location  {\"id\":2400549,\"name\":\"Euless\",\"slug\":\"euless-tx\",\"short_name\":\"Euless, TX\",\"displayable_name\":\"Euless, TX\",\"localized_name\":\"Euless\",\"country\":\"US\",\"state\":\"TX\",\"type\":\"Town\",\"is_root\":False,\"urls\":{\"web\":{\"discover\":\"https://www.kickstarter.com/discover/places/euless-tx\",\"location\":\"https://www.kickstarter.com/locations/euless-tx\"},\"api\":{\"nearby_projects\":\"https://api.kickstarter.com/v1/discover?signature=1552595201.21559901337a1cbb442882fc58ce69fbdd8eec26&woe_id=2400549\"}}}\n",
      "\n",
      "name  The Ofrenda Oracle Deck\n",
      "\n",
      "pledged  1950.0\n",
      "\n",
      "profile  {\"id\":3094785,\"project_id\":3094785,\"state\":\"active\",\"state_changed_at\":1505402530,\"name\":\"The Ofrenda Oracle Deck\",\"blurb\":\"A colorful Dia de los Muertos themed oracle deck & guidebook for all you tarot lovers, from mixed media artist Lisa Vollrath.\",\"background_color\":\"\",\"text_color\":\"000000\",\"link_background_color\":\"fd7a00\",\"link_text_color\":\"fdfcfc\",\"link_text\":\"Purchase a Deck\",\"link_url\":\"http://www.makeplayingcards.com/sell/lisavollrath\",\"show_feature_image\":False,\"background_image_opacity\":0.8,\"should_show_feature_image_section\":True,\"feature_image_attributes\":{\"image_urls\":{\"default\":\"https://ksr-ugc.imgix.net/assets/017/766/989/dd9f18c773a8546d996293a20e2c422b_original.jpg?ixlib=rb-1.1.0&crop=faces&w=1552&h=873&fit=crop&v=1502053663&auto=format&frame=1&q=92&s=303e28e5899b51063369a2c0370872c6\",\"baseball_card\":\"https://ksr-ugc.imgix.net/assets/017/766/989/dd9f18c773a8546d996293a20e2c422b_original.jpg?ixlib=rb-1.1.0&crop=faces&w=560&h=315&fit=crop&v=1502053663&auto=format&frame=1&q=92&s=90bdce91db36494610fd98402dfe9712\"}}}\n",
      "\n",
      "slug  the-ofrenda-oracle-deck\n",
      "\n",
      "spotlight  True\n",
      "\n",
      "staff_pick  False\n",
      "\n",
      "state  successful\n",
      "\n",
      "state_changed_at  1504976459\n",
      "\n",
      "static_usd_rate  1.0\n",
      "\n",
      "usd_pledged  1950.0\n",
      "\n",
      "usd_type  domestic\n",
      "\n"
     ]
    }
   ],
   "source": [
    "\n",
    "for i in df.columns:\n",
    "    print(i,'', df[i][1])\n",
    "    print()"
   ]
  },
  {
   "cell_type": "code",
   "execution_count": 148,
   "metadata": {},
   "outputs": [
    {
     "name": "stderr",
     "output_type": "stream",
     "text": [
      "/Users/sandra/opt/anaconda3/envs/nf/lib/python3.6/site-packages/ipykernel_launcher.py:2: UserWarning: Boolean Series key will be reindexed to match DataFrame index.\n",
      "  \n"
     ]
    },
    {
     "data": {
      "text/html": [
       "<div>\n",
       "<style scoped>\n",
       "    .dataframe tbody tr th:only-of-type {\n",
       "        vertical-align: middle;\n",
       "    }\n",
       "\n",
       "    .dataframe tbody tr th {\n",
       "        vertical-align: top;\n",
       "    }\n",
       "\n",
       "    .dataframe thead th {\n",
       "        text-align: right;\n",
       "    }\n",
       "</style>\n",
       "<table border=\"1\" class=\"dataframe\">\n",
       "  <thead>\n",
       "    <tr style=\"text-align: right;\">\n",
       "      <th></th>\n",
       "      <th>goal</th>\n",
       "      <th>usd_pledged</th>\n",
       "      <th>pledged</th>\n",
       "    </tr>\n",
       "  </thead>\n",
       "  <tbody>\n",
       "    <tr>\n",
       "      <th>8</th>\n",
       "      <td>375.0</td>\n",
       "      <td>529.786729</td>\n",
       "      <td>375.00</td>\n",
       "    </tr>\n",
       "    <tr>\n",
       "      <th>9</th>\n",
       "      <td>380.0</td>\n",
       "      <td>2516.160602</td>\n",
       "      <td>1954.00</td>\n",
       "    </tr>\n",
       "    <tr>\n",
       "      <th>16</th>\n",
       "      <td>4200.0</td>\n",
       "      <td>4701.023782</td>\n",
       "      <td>4230.00</td>\n",
       "    </tr>\n",
       "    <tr>\n",
       "      <th>17</th>\n",
       "      <td>15000.0</td>\n",
       "      <td>15328.270782</td>\n",
       "      <td>20169.00</td>\n",
       "    </tr>\n",
       "    <tr>\n",
       "      <th>22</th>\n",
       "      <td>1000.0</td>\n",
       "      <td>702.613237</td>\n",
       "      <td>1015.00</td>\n",
       "    </tr>\n",
       "    <tr>\n",
       "      <th>25</th>\n",
       "      <td>2000.0</td>\n",
       "      <td>2861.258251</td>\n",
       "      <td>2199.00</td>\n",
       "    </tr>\n",
       "    <tr>\n",
       "      <th>29</th>\n",
       "      <td>350.0</td>\n",
       "      <td>435.427090</td>\n",
       "      <td>376.00</td>\n",
       "    </tr>\n",
       "    <tr>\n",
       "      <th>32</th>\n",
       "      <td>11000.0</td>\n",
       "      <td>14580.639568</td>\n",
       "      <td>11784.00</td>\n",
       "    </tr>\n",
       "    <tr>\n",
       "      <th>34</th>\n",
       "      <td>2000.0</td>\n",
       "      <td>3196.518202</td>\n",
       "      <td>2055.00</td>\n",
       "    </tr>\n",
       "    <tr>\n",
       "      <th>35</th>\n",
       "      <td>1800.0</td>\n",
       "      <td>1325.061424</td>\n",
       "      <td>1838.32</td>\n",
       "    </tr>\n",
       "    <tr>\n",
       "      <th>49</th>\n",
       "      <td>500.0</td>\n",
       "      <td>792.348709</td>\n",
       "      <td>510.00</td>\n",
       "    </tr>\n",
       "    <tr>\n",
       "      <th>52</th>\n",
       "      <td>600.0</td>\n",
       "      <td>1511.243840</td>\n",
       "      <td>1169.00</td>\n",
       "    </tr>\n",
       "    <tr>\n",
       "      <th>62</th>\n",
       "      <td>400.0</td>\n",
       "      <td>827.033316</td>\n",
       "      <td>496.00</td>\n",
       "    </tr>\n",
       "    <tr>\n",
       "      <th>64</th>\n",
       "      <td>500.0</td>\n",
       "      <td>614.321602</td>\n",
       "      <td>505.00</td>\n",
       "    </tr>\n",
       "    <tr>\n",
       "      <th>67</th>\n",
       "      <td>200.0</td>\n",
       "      <td>358.983180</td>\n",
       "      <td>240.00</td>\n",
       "    </tr>\n",
       "    <tr>\n",
       "      <th>69</th>\n",
       "      <td>2500.0</td>\n",
       "      <td>3876.404347</td>\n",
       "      <td>3002.50</td>\n",
       "    </tr>\n",
       "    <tr>\n",
       "      <th>70</th>\n",
       "      <td>200.0</td>\n",
       "      <td>278.971155</td>\n",
       "      <td>250.00</td>\n",
       "    </tr>\n",
       "    <tr>\n",
       "      <th>80</th>\n",
       "      <td>300.0</td>\n",
       "      <td>847.568017</td>\n",
       "      <td>550.47</td>\n",
       "    </tr>\n",
       "    <tr>\n",
       "      <th>85</th>\n",
       "      <td>250.0</td>\n",
       "      <td>599.304179</td>\n",
       "      <td>457.00</td>\n",
       "    </tr>\n",
       "    <tr>\n",
       "      <th>87</th>\n",
       "      <td>6000.0</td>\n",
       "      <td>8779.299592</td>\n",
       "      <td>7552.77</td>\n",
       "    </tr>\n",
       "    <tr>\n",
       "      <th>98</th>\n",
       "      <td>35000.0</td>\n",
       "      <td>35360.478929</td>\n",
       "      <td>45681.92</td>\n",
       "    </tr>\n",
       "    <tr>\n",
       "      <th>116</th>\n",
       "      <td>4500.0</td>\n",
       "      <td>3720.717120</td>\n",
       "      <td>5051.00</td>\n",
       "    </tr>\n",
       "    <tr>\n",
       "      <th>127</th>\n",
       "      <td>50000.0</td>\n",
       "      <td>2609.093455</td>\n",
       "      <td>50978.80</td>\n",
       "    </tr>\n",
       "    <tr>\n",
       "      <th>129</th>\n",
       "      <td>70000.0</td>\n",
       "      <td>8741.655733</td>\n",
       "      <td>71620.00</td>\n",
       "    </tr>\n",
       "    <tr>\n",
       "      <th>133</th>\n",
       "      <td>10000.0</td>\n",
       "      <td>11272.547885</td>\n",
       "      <td>10100.00</td>\n",
       "    </tr>\n",
       "    <tr>\n",
       "      <th>136</th>\n",
       "      <td>1500.0</td>\n",
       "      <td>1892.203536</td>\n",
       "      <td>1600.00</td>\n",
       "    </tr>\n",
       "    <tr>\n",
       "      <th>137</th>\n",
       "      <td>2000.0</td>\n",
       "      <td>1561.838893</td>\n",
       "      <td>2045.00</td>\n",
       "    </tr>\n",
       "    <tr>\n",
       "      <th>141</th>\n",
       "      <td>50000.0</td>\n",
       "      <td>6255.189896</td>\n",
       "      <td>52600.00</td>\n",
       "    </tr>\n",
       "    <tr>\n",
       "      <th>142</th>\n",
       "      <td>250000.0</td>\n",
       "      <td>33655.142579</td>\n",
       "      <td>301940.31</td>\n",
       "    </tr>\n",
       "    <tr>\n",
       "      <th>144</th>\n",
       "      <td>4000.0</td>\n",
       "      <td>5305.968550</td>\n",
       "      <td>4137.00</td>\n",
       "    </tr>\n",
       "    <tr>\n",
       "      <th>...</th>\n",
       "      <td>...</td>\n",
       "      <td>...</td>\n",
       "      <td>...</td>\n",
       "    </tr>\n",
       "    <tr>\n",
       "      <th>208910</th>\n",
       "      <td>8000.0</td>\n",
       "      <td>9128.258579</td>\n",
       "      <td>12333.82</td>\n",
       "    </tr>\n",
       "    <tr>\n",
       "      <th>208937</th>\n",
       "      <td>5500.0</td>\n",
       "      <td>4642.808628</td>\n",
       "      <td>5944.29</td>\n",
       "    </tr>\n",
       "    <tr>\n",
       "      <th>208952</th>\n",
       "      <td>4000.0</td>\n",
       "      <td>3177.419106</td>\n",
       "      <td>4012.00</td>\n",
       "    </tr>\n",
       "    <tr>\n",
       "      <th>208963</th>\n",
       "      <td>2700.0</td>\n",
       "      <td>2138.488238</td>\n",
       "      <td>2861.00</td>\n",
       "    </tr>\n",
       "    <tr>\n",
       "      <th>208976</th>\n",
       "      <td>5000.0</td>\n",
       "      <td>6221.630626</td>\n",
       "      <td>6815.00</td>\n",
       "    </tr>\n",
       "    <tr>\n",
       "      <th>209017</th>\n",
       "      <td>7000.0</td>\n",
       "      <td>14808.985240</td>\n",
       "      <td>10086.00</td>\n",
       "    </tr>\n",
       "    <tr>\n",
       "      <th>209025</th>\n",
       "      <td>750.0</td>\n",
       "      <td>1524.987778</td>\n",
       "      <td>1101.00</td>\n",
       "    </tr>\n",
       "    <tr>\n",
       "      <th>209037</th>\n",
       "      <td>600.0</td>\n",
       "      <td>969.804281</td>\n",
       "      <td>677.00</td>\n",
       "    </tr>\n",
       "    <tr>\n",
       "      <th>209040</th>\n",
       "      <td>1200.0</td>\n",
       "      <td>1623.519378</td>\n",
       "      <td>1237.00</td>\n",
       "    </tr>\n",
       "    <tr>\n",
       "      <th>209046</th>\n",
       "      <td>1500.0</td>\n",
       "      <td>2151.105689</td>\n",
       "      <td>1588.00</td>\n",
       "    </tr>\n",
       "    <tr>\n",
       "      <th>209047</th>\n",
       "      <td>250.0</td>\n",
       "      <td>330.460559</td>\n",
       "      <td>301.00</td>\n",
       "    </tr>\n",
       "    <tr>\n",
       "      <th>209050</th>\n",
       "      <td>400.0</td>\n",
       "      <td>1186.815591</td>\n",
       "      <td>1649.32</td>\n",
       "    </tr>\n",
       "    <tr>\n",
       "      <th>209055</th>\n",
       "      <td>1900.0</td>\n",
       "      <td>3867.337236</td>\n",
       "      <td>3072.00</td>\n",
       "    </tr>\n",
       "    <tr>\n",
       "      <th>209058</th>\n",
       "      <td>2200.0</td>\n",
       "      <td>1693.860063</td>\n",
       "      <td>2206.29</td>\n",
       "    </tr>\n",
       "    <tr>\n",
       "      <th>209097</th>\n",
       "      <td>2000.0</td>\n",
       "      <td>1757.300660</td>\n",
       "      <td>2180.00</td>\n",
       "    </tr>\n",
       "    <tr>\n",
       "      <th>209103</th>\n",
       "      <td>250.0</td>\n",
       "      <td>403.960649</td>\n",
       "      <td>352.00</td>\n",
       "    </tr>\n",
       "    <tr>\n",
       "      <th>209111</th>\n",
       "      <td>1.0</td>\n",
       "      <td>6.106676</td>\n",
       "      <td>5.00</td>\n",
       "    </tr>\n",
       "    <tr>\n",
       "      <th>209129</th>\n",
       "      <td>350.0</td>\n",
       "      <td>3194.419679</td>\n",
       "      <td>2418.00</td>\n",
       "    </tr>\n",
       "    <tr>\n",
       "      <th>209142</th>\n",
       "      <td>30000.0</td>\n",
       "      <td>25189.296525</td>\n",
       "      <td>35107.33</td>\n",
       "    </tr>\n",
       "    <tr>\n",
       "      <th>209147</th>\n",
       "      <td>50.0</td>\n",
       "      <td>78.356642</td>\n",
       "      <td>50.00</td>\n",
       "    </tr>\n",
       "    <tr>\n",
       "      <th>209154</th>\n",
       "      <td>3000.0</td>\n",
       "      <td>28288.236113</td>\n",
       "      <td>18636.29</td>\n",
       "    </tr>\n",
       "    <tr>\n",
       "      <th>209156</th>\n",
       "      <td>2200.0</td>\n",
       "      <td>3208.436334</td>\n",
       "      <td>2291.00</td>\n",
       "    </tr>\n",
       "    <tr>\n",
       "      <th>209162</th>\n",
       "      <td>1500.0</td>\n",
       "      <td>5082.383304</td>\n",
       "      <td>4051.00</td>\n",
       "    </tr>\n",
       "    <tr>\n",
       "      <th>209168</th>\n",
       "      <td>3000.0</td>\n",
       "      <td>6275.184753</td>\n",
       "      <td>4295.00</td>\n",
       "    </tr>\n",
       "    <tr>\n",
       "      <th>209173</th>\n",
       "      <td>3000.0</td>\n",
       "      <td>4884.384651</td>\n",
       "      <td>4193.00</td>\n",
       "    </tr>\n",
       "    <tr>\n",
       "      <th>209181</th>\n",
       "      <td>6000.0</td>\n",
       "      <td>8060.625388</td>\n",
       "      <td>7084.00</td>\n",
       "    </tr>\n",
       "    <tr>\n",
       "      <th>209184</th>\n",
       "      <td>250.0</td>\n",
       "      <td>502.395547</td>\n",
       "      <td>630.00</td>\n",
       "    </tr>\n",
       "    <tr>\n",
       "      <th>209204</th>\n",
       "      <td>6200.0</td>\n",
       "      <td>4854.666789</td>\n",
       "      <td>6805.00</td>\n",
       "    </tr>\n",
       "    <tr>\n",
       "      <th>209209</th>\n",
       "      <td>2000.0</td>\n",
       "      <td>2269.685356</td>\n",
       "      <td>2001.00</td>\n",
       "    </tr>\n",
       "    <tr>\n",
       "      <th>209218</th>\n",
       "      <td>5000.0</td>\n",
       "      <td>5575.830204</td>\n",
       "      <td>5100.00</td>\n",
       "    </tr>\n",
       "  </tbody>\n",
       "</table>\n",
       "<p>32006 rows × 3 columns</p>\n",
       "</div>"
      ],
      "text/plain": [
       "            goal   usd_pledged    pledged\n",
       "8          375.0    529.786729     375.00\n",
       "9          380.0   2516.160602    1954.00\n",
       "16        4200.0   4701.023782    4230.00\n",
       "17       15000.0  15328.270782   20169.00\n",
       "22        1000.0    702.613237    1015.00\n",
       "25        2000.0   2861.258251    2199.00\n",
       "29         350.0    435.427090     376.00\n",
       "32       11000.0  14580.639568   11784.00\n",
       "34        2000.0   3196.518202    2055.00\n",
       "35        1800.0   1325.061424    1838.32\n",
       "49         500.0    792.348709     510.00\n",
       "52         600.0   1511.243840    1169.00\n",
       "62         400.0    827.033316     496.00\n",
       "64         500.0    614.321602     505.00\n",
       "67         200.0    358.983180     240.00\n",
       "69        2500.0   3876.404347    3002.50\n",
       "70         200.0    278.971155     250.00\n",
       "80         300.0    847.568017     550.47\n",
       "85         250.0    599.304179     457.00\n",
       "87        6000.0   8779.299592    7552.77\n",
       "98       35000.0  35360.478929   45681.92\n",
       "116       4500.0   3720.717120    5051.00\n",
       "127      50000.0   2609.093455   50978.80\n",
       "129      70000.0   8741.655733   71620.00\n",
       "133      10000.0  11272.547885   10100.00\n",
       "136       1500.0   1892.203536    1600.00\n",
       "137       2000.0   1561.838893    2045.00\n",
       "141      50000.0   6255.189896   52600.00\n",
       "142     250000.0  33655.142579  301940.31\n",
       "144       4000.0   5305.968550    4137.00\n",
       "...          ...           ...        ...\n",
       "208910    8000.0   9128.258579   12333.82\n",
       "208937    5500.0   4642.808628    5944.29\n",
       "208952    4000.0   3177.419106    4012.00\n",
       "208963    2700.0   2138.488238    2861.00\n",
       "208976    5000.0   6221.630626    6815.00\n",
       "209017    7000.0  14808.985240   10086.00\n",
       "209025     750.0   1524.987778    1101.00\n",
       "209037     600.0    969.804281     677.00\n",
       "209040    1200.0   1623.519378    1237.00\n",
       "209046    1500.0   2151.105689    1588.00\n",
       "209047     250.0    330.460559     301.00\n",
       "209050     400.0   1186.815591    1649.32\n",
       "209055    1900.0   3867.337236    3072.00\n",
       "209058    2200.0   1693.860063    2206.29\n",
       "209097    2000.0   1757.300660    2180.00\n",
       "209103     250.0    403.960649     352.00\n",
       "209111       1.0      6.106676       5.00\n",
       "209129     350.0   3194.419679    2418.00\n",
       "209142   30000.0  25189.296525   35107.33\n",
       "209147      50.0     78.356642      50.00\n",
       "209154    3000.0  28288.236113   18636.29\n",
       "209156    2200.0   3208.436334    2291.00\n",
       "209162    1500.0   5082.383304    4051.00\n",
       "209168    3000.0   6275.184753    4295.00\n",
       "209173    3000.0   4884.384651    4193.00\n",
       "209181    6000.0   8060.625388    7084.00\n",
       "209184     250.0    502.395547     630.00\n",
       "209204    6200.0   4854.666789    6805.00\n",
       "209209    2000.0   2269.685356    2001.00\n",
       "209218    5000.0   5575.830204    5100.00\n",
       "\n",
       "[32006 rows x 3 columns]"
      ]
     },
     "execution_count": 148,
     "metadata": {},
     "output_type": "execute_result"
    }
   ],
   "source": [
    "test = df[['goal','usd_pledged','pledged']][(df.state=='successful')]\n",
    "test[(df.current_currency!=df.currency)]"
   ]
  },
  {
   "cell_type": "code",
   "execution_count": 149,
   "metadata": {},
   "outputs": [],
   "source": [
    "# get fom creator ids -> remaining parts are ignored\n",
    "# First separate creator elements\n",
    "new2 = df[\"creator\"].str.replace(\", \", \"_\").str.split(\",\", n = 8, expand = True)\n",
    "# now pick first column in new2 and split at :\n",
    "test = new2[0].str.split(\":\")\n",
    "# pick 2. column in test (where ids are written in)\n",
    "test2 = list(map(operator.itemgetter(1), test))\n",
    "# and make a new column in df with ids\n",
    "df[\"creator_id\"]=pd.Series(test2)\n",
    "# convert ids to numeric values\n",
    "df[\"creator_id\"] = pd.to_numeric(df[\"creator_id\"])"
   ]
  },
  {
   "cell_type": "markdown",
   "metadata": {},
   "source": [
    "* We excluded everything after blurb as we could not manage to remove wrong entries -> has to be fixed..."
   ]
  },
  {
   "cell_type": "code",
   "execution_count": 150,
   "metadata": {},
   "outputs": [],
   "source": [
    "# prepare profile data\n",
    "# First separate creator elements\n",
    "#new  = df[\"profile\"].str.replace(\", \", \"_\")\n",
    "new  = df[\"profile\"].str.replace(',\"', ';;\"')\n",
    "new2 = new.str.split(\";;\", n = 16, expand = True)                                 \n",
    "#new2 = new.str.replace(\",000 \", \"000\").str.split(\",\", n = 16, expand = True)\n",
    "# now drop column 4:\n",
    "new3 = new2.drop(4, axis =1)\n",
    "# change blurb to has or has no blurb\n",
    "new3[5][new3[5]!='\"blurb\":\"none\"'] = '\"blurb\":\"1\"' #0 if new3[5]== \"none\" else 1\n",
    "new3[5][new3[5]=='\"blurb\":\"none\"'] = '\"blurb\":\"0\"' #0 if new3[5]== \"none\" else 1\n",
    "\n",
    "# change link_text to has or has not\n",
    "#new3[10][new3[10]!='\"link_text\":\"none\"'] = '\"link_text\":\"1\"' #0 if new3[5]== \"none\" else 1\n",
    "#new3[10][new3[10]=='\"link_text\":\"none\"'] = '\"link_text\":\"0\"' #0 if new3[5]== \"none\" else 1\n",
    "\n",
    "new3[17]='\"dummy\":\"dummy\"}'\n",
    "# pick columns of interest: \n",
    "#new3[\"profile\"]= new3[[0,1,2,3,5,6,7,8,9,10,11,12,13,17]].apply(lambda x: ','.join(x), axis=1)\n",
    "new3[\"profile\"]= new3[[0,1,2,3,5,17]].apply(lambda x: ','.join(x), axis=1)\n",
    "# write data in df\n",
    "df[\"profile_test\"] =new3[\"profile\"]"
   ]
  },
  {
   "cell_type": "code",
   "execution_count": 151,
   "metadata": {},
   "outputs": [
    {
     "name": "stderr",
     "output_type": "stream",
     "text": [
      "/Users/sandra/opt/anaconda3/envs/nf/lib/python3.6/site-packages/ipykernel_launcher.py:6: SettingWithCopyWarning: \n",
      "A value is trying to be set on a copy of a slice from a DataFrame\n",
      "\n",
      "See the caveats in the documentation: http://pandas.pydata.org/pandas-docs/stable/indexing.html#indexing-view-versus-copy\n",
      "  \n"
     ]
    }
   ],
   "source": [
    "# prepare location data\n",
    "# dummy for NaN entries\n",
    "location_dummy= '{\"id\":\"\",\"name\":\"\",\"slug\":\"\",\"short_name\":\"\",\"displayable_name\":\"\",\"localized_name\":\"\",\\\n",
    "                \"country\":\"\",\"state\":\"\",\"type\":\"\",\"is_root\":None,\"urls\":{}}'\n",
    "#replace NaNs with dummy\n",
    "df.location[df.location.isnull()] = location_dummy"
   ]
  },
  {
   "cell_type": "code",
   "execution_count": 152,
   "metadata": {},
   "outputs": [
    {
     "name": "stdout",
     "output_type": "stream",
     "text": [
      "category\n",
      "location\n",
      "profile_test\n"
     ]
    }
   ],
   "source": [
    "# extraction of data dictonaries in 'category','location'\n",
    "dict_list = ['category','location','profile_test']#['category','location','profile''creator']#, null false true\n",
    "\n",
    "for names in dict_list:\n",
    "    print(names)\n",
    "    new_name     = names+'new'\n",
    "    suffix       = names+'_'\n",
    "    df[new_name] = df[names].apply(eval)\n",
    "    test         = df[new_name].apply(pd.Series)\n",
    "    test         = test.add_prefix(suffix)\n",
    "    df           = pd.concat([df,test],axis=1)  \n",
    " "
   ]
  },
  {
   "cell_type": "code",
   "execution_count": 153,
   "metadata": {},
   "outputs": [
    {
     "data": {
      "text/plain": [
       "(192664, 60)"
      ]
     },
     "execution_count": 153,
     "metadata": {},
     "output_type": "execute_result"
    }
   ],
   "source": [
    "# das ging doch irgendwie schöner mit eval...\n",
    "df = df[df.state!='canceled']\n",
    "df = df[df.state!='live']\n",
    "df = df[df.state!='suspended']\n",
    "df.shape"
   ]
  },
  {
   "cell_type": "code",
   "execution_count": 154,
   "metadata": {},
   "outputs": [],
   "source": [
    "# test if there are any duplicated project ids\n",
    "#df.profile_test_id[df.profile_test_id.duplicated(keep=False)]==True\n",
    "\n",
    "# these need to be tested: one succeed and one failure? why, keep it or remove it, differences..."
   ]
  },
  {
   "cell_type": "code",
   "execution_count": 155,
   "metadata": {},
   "outputs": [
    {
     "data": {
      "text/plain": [
       "USD    137788\n",
       "GBP     21235\n",
       "EUR     12399\n",
       "CAD      8896\n",
       "AUD      4383\n",
       "MXN      2038\n",
       "SEK      1281\n",
       "HKD       953\n",
       "NZD       848\n",
       "DKK       839\n",
       "SGD       624\n",
       "CHF       597\n",
       "NOK       453\n",
       "JPY       330\n",
       "Name: currency, dtype: int64"
      ]
     },
     "execution_count": 155,
     "metadata": {},
     "output_type": "execute_result"
    }
   ],
   "source": [
    "pd.value_counts(df.currency)"
   ]
  },
  {
   "cell_type": "code",
   "execution_count": 156,
   "metadata": {},
   "outputs": [
    {
     "data": {
      "text/plain": [
       "USD    192626\n",
       "CAD        38\n",
       "Name: current_currency, dtype: int64"
      ]
     },
     "execution_count": 156,
     "metadata": {},
     "output_type": "execute_result"
    }
   ],
   "source": [
    "pd.value_counts(df.current_currency)"
   ]
  },
  {
   "cell_type": "code",
   "execution_count": null,
   "metadata": {},
   "outputs": [],
   "source": []
  },
  {
   "cell_type": "markdown",
   "metadata": {},
   "source": [
    "## General Overview"
   ]
  },
  {
   "cell_type": "code",
   "execution_count": 157,
   "metadata": {},
   "outputs": [
    {
     "data": {
      "text/plain": [
       "Index(['backers_count', 'blurb', 'category', 'converted_pledged_amount',\n",
       "       'country', 'created_at', 'creator', 'currency',\n",
       "       'currency_trailing_code', 'current_currency', 'deadline',\n",
       "       'disable_communication', 'fx_rate', 'goal', 'id', 'is_backing',\n",
       "       'is_starrable', 'is_starred', 'launched_at', 'location', 'name',\n",
       "       'pledged', 'profile', 'slug', 'spotlight', 'staff_pick', 'state',\n",
       "       'state_changed_at', 'static_usd_rate', 'usd_pledged', 'usd_type',\n",
       "       'creator_id', 'profile_test', 'categorynew', 'category_id',\n",
       "       'category_name', 'category_slug', 'category_position',\n",
       "       'category_parent_id', 'category_color', 'category_urls', 'locationnew',\n",
       "       'location_id', 'location_name', 'location_slug', 'location_short_name',\n",
       "       'location_displayable_name', 'location_localized_name',\n",
       "       'location_country', 'location_state', 'location_type',\n",
       "       'location_is_root', 'location_urls', 'profile_testnew',\n",
       "       'profile_test_id', 'profile_test_project_id', 'profile_test_state',\n",
       "       'profile_test_state_changed_at', 'profile_test_blurb',\n",
       "       'profile_test_dummy'],\n",
       "      dtype='object')"
      ]
     },
     "execution_count": 157,
     "metadata": {},
     "output_type": "execute_result"
    }
   ],
   "source": [
    "df.columns"
   ]
  },
  {
   "cell_type": "code",
   "execution_count": 158,
   "metadata": {},
   "outputs": [],
   "source": [
    "df2 = df\n",
    "df2.drop(['category','location','locationnew','profile','profile_test','profile_testnew','creator','profile_test_dummy'], axis=1,inplace=True)"
   ]
  },
  {
   "cell_type": "code",
   "execution_count": 159,
   "metadata": {},
   "outputs": [
    {
     "data": {
      "text/html": [
       "<div>\n",
       "<style scoped>\n",
       "    .dataframe tbody tr th:only-of-type {\n",
       "        vertical-align: middle;\n",
       "    }\n",
       "\n",
       "    .dataframe tbody tr th {\n",
       "        vertical-align: top;\n",
       "    }\n",
       "\n",
       "    .dataframe thead th {\n",
       "        text-align: right;\n",
       "    }\n",
       "</style>\n",
       "<table border=\"1\" class=\"dataframe\">\n",
       "  <thead>\n",
       "    <tr style=\"text-align: right;\">\n",
       "      <th></th>\n",
       "      <th>backers_count</th>\n",
       "      <th>blurb</th>\n",
       "      <th>converted_pledged_amount</th>\n",
       "      <th>country</th>\n",
       "      <th>created_at</th>\n",
       "      <th>currency</th>\n",
       "      <th>currency_trailing_code</th>\n",
       "      <th>current_currency</th>\n",
       "      <th>deadline</th>\n",
       "      <th>disable_communication</th>\n",
       "      <th>...</th>\n",
       "      <th>location_country</th>\n",
       "      <th>location_state</th>\n",
       "      <th>location_type</th>\n",
       "      <th>location_is_root</th>\n",
       "      <th>location_urls</th>\n",
       "      <th>profile_test_id</th>\n",
       "      <th>profile_test_project_id</th>\n",
       "      <th>profile_test_state</th>\n",
       "      <th>profile_test_state_changed_at</th>\n",
       "      <th>profile_test_blurb</th>\n",
       "    </tr>\n",
       "  </thead>\n",
       "  <tbody>\n",
       "    <tr>\n",
       "      <th>1</th>\n",
       "      <td>47</td>\n",
       "      <td>A colorful Dia de los Muertos themed oracle de...</td>\n",
       "      <td>1950</td>\n",
       "      <td>US</td>\n",
       "      <td>1501684093</td>\n",
       "      <td>USD</td>\n",
       "      <td>True</td>\n",
       "      <td>USD</td>\n",
       "      <td>1504976459</td>\n",
       "      <td>False</td>\n",
       "      <td>...</td>\n",
       "      <td>US</td>\n",
       "      <td>TX</td>\n",
       "      <td>Town</td>\n",
       "      <td>False</td>\n",
       "      <td>{'web': {'discover': 'https://www.kickstarter....</td>\n",
       "      <td>3094785</td>\n",
       "      <td>3094785</td>\n",
       "      <td>active</td>\n",
       "      <td>1505402530</td>\n",
       "      <td>1</td>\n",
       "    </tr>\n",
       "    <tr>\n",
       "      <th>2</th>\n",
       "      <td>271</td>\n",
       "      <td>Electra's long awaited, eclectic Debut Pop/Roc...</td>\n",
       "      <td>22404</td>\n",
       "      <td>US</td>\n",
       "      <td>1348987533</td>\n",
       "      <td>USD</td>\n",
       "      <td>True</td>\n",
       "      <td>USD</td>\n",
       "      <td>1371013395</td>\n",
       "      <td>False</td>\n",
       "      <td>...</td>\n",
       "      <td>US</td>\n",
       "      <td>CA</td>\n",
       "      <td>Suburb</td>\n",
       "      <td>False</td>\n",
       "      <td>{'web': {'discover': 'https://www.kickstarter....</td>\n",
       "      <td>359847</td>\n",
       "      <td>359847</td>\n",
       "      <td>inactive</td>\n",
       "      <td>1425915819</td>\n",
       "      <td>1</td>\n",
       "    </tr>\n",
       "    <tr>\n",
       "      <th>3</th>\n",
       "      <td>3</td>\n",
       "      <td>The Mist of Tribunal is a turn-based card game...</td>\n",
       "      <td>165</td>\n",
       "      <td>GB</td>\n",
       "      <td>1483780271</td>\n",
       "      <td>GBP</td>\n",
       "      <td>False</td>\n",
       "      <td>USD</td>\n",
       "      <td>1489425776</td>\n",
       "      <td>False</td>\n",
       "      <td>...</td>\n",
       "      <td>LT</td>\n",
       "      <td>Kaunas County</td>\n",
       "      <td>Town</td>\n",
       "      <td>False</td>\n",
       "      <td>{'web': {'discover': 'https://www.kickstarter....</td>\n",
       "      <td>2825329</td>\n",
       "      <td>2825329</td>\n",
       "      <td>inactive</td>\n",
       "      <td>1483780271</td>\n",
       "      <td>1</td>\n",
       "    </tr>\n",
       "    <tr>\n",
       "      <th>4</th>\n",
       "      <td>3</td>\n",
       "      <td>Livng with a brain impairment, what its like t...</td>\n",
       "      <td>2820</td>\n",
       "      <td>US</td>\n",
       "      <td>1354817071</td>\n",
       "      <td>USD</td>\n",
       "      <td>True</td>\n",
       "      <td>USD</td>\n",
       "      <td>1357763527</td>\n",
       "      <td>False</td>\n",
       "      <td>...</td>\n",
       "      <td>US</td>\n",
       "      <td>MI</td>\n",
       "      <td>Town</td>\n",
       "      <td>False</td>\n",
       "      <td>{'web': {'discover': 'https://www.kickstarter....</td>\n",
       "      <td>417385</td>\n",
       "      <td>417385</td>\n",
       "      <td>inactive</td>\n",
       "      <td>1425915823</td>\n",
       "      <td>1</td>\n",
       "    </tr>\n",
       "    <tr>\n",
       "      <th>5</th>\n",
       "      <td>35</td>\n",
       "      <td>Annapolis Chamber Players is a non-for profit ...</td>\n",
       "      <td>3725</td>\n",
       "      <td>US</td>\n",
       "      <td>1414172150</td>\n",
       "      <td>USD</td>\n",
       "      <td>True</td>\n",
       "      <td>USD</td>\n",
       "      <td>1430533546</td>\n",
       "      <td>False</td>\n",
       "      <td>...</td>\n",
       "      <td>US</td>\n",
       "      <td>MD</td>\n",
       "      <td>Town</td>\n",
       "      <td>False</td>\n",
       "      <td>{'web': {'discover': 'https://www.kickstarter....</td>\n",
       "      <td>1465941</td>\n",
       "      <td>1465941</td>\n",
       "      <td>inactive</td>\n",
       "      <td>1425915880</td>\n",
       "      <td>1</td>\n",
       "    </tr>\n",
       "  </tbody>\n",
       "</table>\n",
       "<p>5 rows × 52 columns</p>\n",
       "</div>"
      ],
      "text/plain": [
       "   backers_count                                              blurb  \\\n",
       "1             47  A colorful Dia de los Muertos themed oracle de...   \n",
       "2            271  Electra's long awaited, eclectic Debut Pop/Roc...   \n",
       "3              3  The Mist of Tribunal is a turn-based card game...   \n",
       "4              3  Livng with a brain impairment, what its like t...   \n",
       "5             35  Annapolis Chamber Players is a non-for profit ...   \n",
       "\n",
       "   converted_pledged_amount country  created_at currency  \\\n",
       "1                      1950      US  1501684093      USD   \n",
       "2                     22404      US  1348987533      USD   \n",
       "3                       165      GB  1483780271      GBP   \n",
       "4                      2820      US  1354817071      USD   \n",
       "5                      3725      US  1414172150      USD   \n",
       "\n",
       "   currency_trailing_code current_currency    deadline  disable_communication  \\\n",
       "1                    True              USD  1504976459                  False   \n",
       "2                    True              USD  1371013395                  False   \n",
       "3                   False              USD  1489425776                  False   \n",
       "4                    True              USD  1357763527                  False   \n",
       "5                    True              USD  1430533546                  False   \n",
       "\n",
       "   ...  location_country  location_state  location_type location_is_root  \\\n",
       "1  ...                US              TX           Town            False   \n",
       "2  ...                US              CA         Suburb            False   \n",
       "3  ...                LT   Kaunas County           Town            False   \n",
       "4  ...                US              MI           Town            False   \n",
       "5  ...                US              MD           Town            False   \n",
       "\n",
       "                                       location_urls profile_test_id  \\\n",
       "1  {'web': {'discover': 'https://www.kickstarter....         3094785   \n",
       "2  {'web': {'discover': 'https://www.kickstarter....          359847   \n",
       "3  {'web': {'discover': 'https://www.kickstarter....         2825329   \n",
       "4  {'web': {'discover': 'https://www.kickstarter....          417385   \n",
       "5  {'web': {'discover': 'https://www.kickstarter....         1465941   \n",
       "\n",
       "   profile_test_project_id profile_test_state  profile_test_state_changed_at  \\\n",
       "1                  3094785             active                     1505402530   \n",
       "2                   359847           inactive                     1425915819   \n",
       "3                  2825329           inactive                     1483780271   \n",
       "4                   417385           inactive                     1425915823   \n",
       "5                  1465941           inactive                     1425915880   \n",
       "\n",
       "  profile_test_blurb  \n",
       "1                  1  \n",
       "2                  1  \n",
       "3                  1  \n",
       "4                  1  \n",
       "5                  1  \n",
       "\n",
       "[5 rows x 52 columns]"
      ]
     },
     "execution_count": 159,
     "metadata": {},
     "output_type": "execute_result"
    }
   ],
   "source": [
    "df2.head()\n"
   ]
  },
  {
   "cell_type": "code",
   "execution_count": 160,
   "metadata": {},
   "outputs": [
    {
     "data": {
      "text/plain": [
       "Series([], Name: is_backing, dtype: object)"
      ]
     },
     "execution_count": 160,
     "metadata": {},
     "output_type": "execute_result"
    }
   ],
   "source": [
    "df.is_backing[df.is_backing.isnull()==False] "
   ]
  },
  {
   "cell_type": "markdown",
   "metadata": {},
   "source": [
    "## Missing data"
   ]
  },
  {
   "cell_type": "code",
   "execution_count": 161,
   "metadata": {},
   "outputs": [
    {
     "data": {
      "text/html": [
       "<div>\n",
       "<style scoped>\n",
       "    .dataframe tbody tr th:only-of-type {\n",
       "        vertical-align: middle;\n",
       "    }\n",
       "\n",
       "    .dataframe tbody tr th {\n",
       "        vertical-align: top;\n",
       "    }\n",
       "\n",
       "    .dataframe thead th {\n",
       "        text-align: right;\n",
       "    }\n",
       "</style>\n",
       "<table border=\"1\" class=\"dataframe\">\n",
       "  <thead>\n",
       "    <tr style=\"text-align: right;\">\n",
       "      <th></th>\n",
       "      <th>Number</th>\n",
       "    </tr>\n",
       "  </thead>\n",
       "  <tbody>\n",
       "    <tr>\n",
       "      <th>blurb</th>\n",
       "      <td>2</td>\n",
       "    </tr>\n",
       "    <tr>\n",
       "      <th>is_backing</th>\n",
       "      <td>192664</td>\n",
       "    </tr>\n",
       "    <tr>\n",
       "      <th>is_starred</th>\n",
       "      <td>192664</td>\n",
       "    </tr>\n",
       "    <tr>\n",
       "      <th>usd_type</th>\n",
       "      <td>38</td>\n",
       "    </tr>\n",
       "    <tr>\n",
       "      <th>category_parent_id</th>\n",
       "      <td>8276</td>\n",
       "    </tr>\n",
       "    <tr>\n",
       "      <th>location_slug</th>\n",
       "      <td>459</td>\n",
       "    </tr>\n",
       "    <tr>\n",
       "      <th>location_state</th>\n",
       "      <td>57</td>\n",
       "    </tr>\n",
       "    <tr>\n",
       "      <th>location_is_root</th>\n",
       "      <td>215</td>\n",
       "    </tr>\n",
       "  </tbody>\n",
       "</table>\n",
       "</div>"
      ],
      "text/plain": [
       "                    Number\n",
       "blurb                    2\n",
       "is_backing          192664\n",
       "is_starred          192664\n",
       "usd_type                38\n",
       "category_parent_id    8276\n",
       "location_slug          459\n",
       "location_state          57\n",
       "location_is_root       215"
      ]
     },
     "execution_count": 161,
     "metadata": {},
     "output_type": "execute_result"
    }
   ],
   "source": [
    "missing = pd.DataFrame(df2.isnull().sum(),columns=['Number'])\n",
    "missing[missing.Number!=0]"
   ]
  },
  {
   "cell_type": "code",
   "execution_count": 162,
   "metadata": {},
   "outputs": [
    {
     "data": {
      "text/plain": [
       "Index(['backers_count', 'blurb', 'converted_pledged_amount', 'country',\n",
       "       'created_at', 'currency', 'currency_trailing_code', 'current_currency',\n",
       "       'deadline', 'disable_communication', 'fx_rate', 'goal', 'id',\n",
       "       'is_backing', 'is_starrable', 'is_starred', 'launched_at', 'name',\n",
       "       'pledged', 'slug', 'spotlight', 'staff_pick', 'state',\n",
       "       'state_changed_at', 'static_usd_rate', 'usd_pledged', 'usd_type',\n",
       "       'creator_id', 'categorynew', 'category_id', 'category_name',\n",
       "       'category_slug', 'category_position', 'category_parent_id',\n",
       "       'category_color', 'category_urls', 'location_id', 'location_name',\n",
       "       'location_slug', 'location_short_name', 'location_displayable_name',\n",
       "       'location_localized_name', 'location_country', 'location_state',\n",
       "       'location_type', 'location_is_root', 'location_urls', 'profile_test_id',\n",
       "       'profile_test_project_id', 'profile_test_state',\n",
       "       'profile_test_state_changed_at', 'profile_test_blurb'],\n",
       "      dtype='object')"
      ]
     },
     "execution_count": 162,
     "metadata": {},
     "output_type": "execute_result"
    }
   ],
   "source": [
    "df2.columns"
   ]
  },
  {
   "cell_type": "code",
   "execution_count": 163,
   "metadata": {},
   "outputs": [
    {
     "data": {
      "text/plain": [
       "(192664, 52)"
      ]
     },
     "execution_count": 163,
     "metadata": {},
     "output_type": "execute_result"
    }
   ],
   "source": [
    "df2.shape"
   ]
  },
  {
   "cell_type": "code",
   "execution_count": 164,
   "metadata": {},
   "outputs": [
    {
     "data": {
      "text/plain": [
       "count    1.926640e+05\n",
       "mean     2.798775e+06\n",
       "std      1.006330e+06\n",
       "min      8.640000e+04\n",
       "25%      2.588400e+06\n",
       "50%      2.592000e+06\n",
       "75%      2.905085e+06\n",
       "max      8.044324e+06\n",
       "dtype: float64"
      ]
     },
     "execution_count": 164,
     "metadata": {},
     "output_type": "execute_result"
    }
   ],
   "source": [
    "abc= df2.deadline-df2.launched_at\n",
    "abc.describe()"
   ]
  },
  {
   "cell_type": "code",
   "execution_count": null,
   "metadata": {},
   "outputs": [],
   "source": []
  },
  {
   "cell_type": "code",
   "execution_count": null,
   "metadata": {},
   "outputs": [],
   "source": []
  },
  {
   "cell_type": "code",
   "execution_count": null,
   "metadata": {},
   "outputs": [],
   "source": []
  },
  {
   "cell_type": "code",
   "execution_count": null,
   "metadata": {},
   "outputs": [],
   "source": []
  },
  {
   "cell_type": "code",
   "execution_count": null,
   "metadata": {},
   "outputs": [],
   "source": [
    "new2[new2[6].str.contains(\"she was asking for it\")]\n",
    "#df.profile[119063]"
   ]
  },
  {
   "cell_type": "markdown",
   "metadata": {},
   "source": [
    "## Create new variables"
   ]
  },
  {
   "cell_type": "markdown",
   "metadata": {},
   "source": [
    "### Goal in USD"
   ]
  },
  {
   "cell_type": "code",
   "execution_count": 167,
   "metadata": {},
   "outputs": [],
   "source": [
    "df2['USD_goal'] = df2.goal*df2.static_usd_rate"
   ]
  },
  {
   "cell_type": "markdown",
   "metadata": {},
   "source": [
    "### Project Duration and duration per 100 USD"
   ]
  },
  {
   "cell_type": "markdown",
   "metadata": {},
   "source": [
    "### Actual duration until goal has been reached if has been reached\n",
    "* see if there is a relationship between success and timing"
   ]
  },
  {
   "cell_type": "markdown",
   "metadata": {},
   "source": [
    "### Has Blurb"
   ]
  },
  {
   "cell_type": "markdown",
   "metadata": {},
   "source": [
    "Maybe we should not use this one... only two missing entries of which both have a fail-> results are not clear! Using instead length of Blurb?"
   ]
  },
  {
   "cell_type": "code",
   "execution_count": 168,
   "metadata": {},
   "outputs": [
    {
     "name": "stderr",
     "output_type": "stream",
     "text": [
      "/Users/sandra/opt/anaconda3/envs/nf/lib/python3.6/site-packages/ipykernel_launcher.py:2: SettingWithCopyWarning: \n",
      "A value is trying to be set on a copy of a slice from a DataFrame\n",
      "\n",
      "See the caveats in the documentation: http://pandas.pydata.org/pandas-docs/stable/indexing.html#indexing-view-versus-copy\n",
      "  \n"
     ]
    },
    {
     "data": {
      "text/plain": [
       "count    192664.000000\n",
       "mean          0.999990\n",
       "std           0.003222\n",
       "min           0.000000\n",
       "25%           1.000000\n",
       "50%           1.000000\n",
       "75%           1.000000\n",
       "max           1.000000\n",
       "Name: hasBlurb, dtype: float64"
      ]
     },
     "execution_count": 168,
     "metadata": {},
     "output_type": "execute_result"
    }
   ],
   "source": [
    "df2['hasBlurb'] = 1\n",
    "df2.hasBlurb[df2.blurb.isnull()] = 0\n",
    "df2.hasBlurb.describe()"
   ]
  },
  {
   "cell_type": "code",
   "execution_count": 169,
   "metadata": {},
   "outputs": [
    {
     "data": {
      "text/plain": [
       "65168     failed\n",
       "108662    failed\n",
       "Name: state, dtype: object"
      ]
     },
     "execution_count": 169,
     "metadata": {},
     "output_type": "execute_result"
    }
   ],
   "source": [
    "df2.state[df2.hasBlurb==0]"
   ]
  },
  {
   "cell_type": "code",
   "execution_count": 170,
   "metadata": {},
   "outputs": [],
   "source": [
    "df2['blurbLength'] = df2.blurb.str.len()"
   ]
  },
  {
   "cell_type": "markdown",
   "metadata": {},
   "source": [
    "## Remove everything that is not needed anymore"
   ]
  },
  {
   "cell_type": "markdown",
   "metadata": {},
   "source": [
    "remove:\n",
    "* is_backing and is_starred as there are no entries left\n",
    "* goal as it has been converted to USD_goal and us_static_rate as it is not needed anymore\n",
    "* converted_pledge_amount and pledged as we have usd_pledge\n",
    "* blurb as we have has or has not blurb\n",
    "* launched_at, deadline\n",
    "* blurb, as it has been replaced by length of Blurb"
   ]
  },
  {
   "cell_type": "code",
   "execution_count": 179,
   "metadata": {},
   "outputs": [],
   "source": [
    "df2.drop(['is_backing','is_starred','goal','static_usd_rate','converted_pledged_amount',\\\n",
    "          'launched_at', 'deadline','blurb','pledged','categorynew','category_urls',\\\n",
    "         'location_urls','profile_test_blurb'], axis=1,inplace=True)"
   ]
  },
  {
   "cell_type": "code",
   "execution_count": 181,
   "metadata": {},
   "outputs": [
    {
     "data": {
      "text/plain": [
       "Index(['backers_count', 'country', 'created_at', 'currency',\n",
       "       'currency_trailing_code', 'current_currency', 'disable_communication',\n",
       "       'fx_rate', 'id', 'is_starrable', 'name', 'pledged', 'slug', 'spotlight',\n",
       "       'staff_pick', 'state', 'state_changed_at', 'usd_pledged', 'usd_type',\n",
       "       'creator_id', 'categorynew', 'category_id', 'category_name',\n",
       "       'category_slug', 'category_position', 'category_parent_id',\n",
       "       'category_color', 'category_urls', 'location_id', 'location_name',\n",
       "       'location_slug', 'location_short_name', 'location_displayable_name',\n",
       "       'location_localized_name', 'location_country', 'location_state',\n",
       "       'location_type', 'location_is_root', 'location_urls', 'profile_test_id',\n",
       "       'profile_test_project_id', 'profile_test_state',\n",
       "       'profile_test_state_changed_at', 'profile_test_blurb', 'USD_goal',\n",
       "       'hasBlurb', 'blurbLength'],\n",
       "      dtype='object')"
      ]
     },
     "execution_count": 181,
     "metadata": {},
     "output_type": "execute_result"
    }
   ],
   "source": [
    "df2.columns"
   ]
  },
  {
   "cell_type": "code",
   "execution_count": null,
   "metadata": {},
   "outputs": [],
   "source": []
  }
 ],
 "metadata": {
  "kernelspec": {
   "display_name": "Python [conda env:nf] *",
   "language": "python",
   "name": "conda-env-nf-py"
  },
  "language_info": {
   "codemirror_mode": {
    "name": "ipython",
    "version": 3
   },
   "file_extension": ".py",
   "mimetype": "text/x-python",
   "name": "python",
   "nbconvert_exporter": "python",
   "pygments_lexer": "ipython3",
   "version": "3.6.10"
  },
  "toc": {
   "base_numbering": 1,
   "nav_menu": {},
   "number_sections": true,
   "sideBar": true,
   "skip_h1_title": false,
   "title_cell": "Table of Contents",
   "title_sidebar": "Contents",
   "toc_cell": false,
   "toc_position": {},
   "toc_section_display": true,
   "toc_window_display": true
  }
 },
 "nbformat": 4,
 "nbformat_minor": 4
}
